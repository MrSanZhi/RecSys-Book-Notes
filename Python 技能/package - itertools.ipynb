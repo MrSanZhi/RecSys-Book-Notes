{
 "cells": [
  {
   "cell_type": "markdown",
   "metadata": {},
   "source": [
    "## [itertools : 高效节省内存的方法](https://mp.weixin.qq.com/s/qAXxSmkroqDItzTCbRlQMA)\n",
    "\n",
    "\n",
    "\n",
    "## [官方文档 - itertools](https://docs.python.org/3.7/library/itertools.html)"
   ]
  },
  {
   "cell_type": "markdown",
   "metadata": {},
   "source": [
    "Python的itertools模块提供节省内存的高效迭代器，里面实现基本都借助于生成器，所以一方面了解这12个函数所实现的基本功能，同时也能加深对生成器(generator)的理解，为我们写出更加高效、简洁、漂亮的代码打下坚实基础。"
   ]
  },
  {
   "cell_type": "markdown",
   "metadata": {},
   "source": [
    "### 1. 拼接元素\n",
    "\n",
    "itertools 中的 chain 函数实现元素拼接，原型如下，参数 * 表示个数可变的参数\n",
    "> chain(*iterables)"
   ]
  },
  {
   "cell_type": "code",
   "execution_count": 8,
   "metadata": {},
   "outputs": [],
   "source": [
    "from itertools import chain"
   ]
  },
  {
   "cell_type": "code",
   "execution_count": 9,
   "metadata": {},
   "outputs": [
    {
     "data": {
      "text/plain": [
       "['I', 'love', 'python', 'very', ['much']]"
      ]
     },
     "execution_count": 9,
     "metadata": {},
     "output_type": "execute_result"
    }
   ],
   "source": [
    "list(chain([\"I\", \"love\"], [\"python\"], [\"very\", [\"much\"]]))"
   ]
  },
  {
   "cell_type": "markdown",
   "metadata": {},
   "source": [
    "它有点 join 的味道，但是比 join 强，它的重点在于参数都是可迭代的实例\n",
    "\n",
    "那么，chain 如何实现高效节省内存的呢？chain 大概的实现代码如下：\n",
    "```python\n",
    "def chain(*iterables):\n",
    "    for it in iterables:\n",
    "        for element in it:\n",
    "            yield element\n",
    "```\n",
    "以上代码不难理解，`chain 本质是返回一个生成器，所以它实际上是一次读入一个元素到内存，所以做到最高效地节省内存`"
   ]
  },
  {
   "cell_type": "markdown",
   "metadata": {},
   "source": [
    "### 2. 逐个累积\n",
    "\n",
    "返回列表的累积汇总值，原型\n",
    "> accumulate(iterable, func, *, initial=None)"
   ]
  },
  {
   "cell_type": "code",
   "execution_count": 10,
   "metadata": {},
   "outputs": [],
   "source": [
    "from itertools import accumulate"
   ]
  },
  {
   "cell_type": "code",
   "execution_count": 11,
   "metadata": {},
   "outputs": [
    {
     "data": {
      "text/plain": [
       "[1, 2, 6, 24, 120, 720]"
      ]
     },
     "execution_count": 11,
     "metadata": {},
     "output_type": "execute_result"
    }
   ],
   "source": [
    "list(accumulate([1, 2, 3, 4, 5, 6], lambda x, y : x * y))"
   ]
  },
  {
   "cell_type": "markdown",
   "metadata": {},
   "source": [
    "accumulate 大概的实现代码如下：\n",
    "```python\n",
    "def accumulate(iterable, func=operator.add, *, initial=None):\n",
    "    it = iter(iterable)\n",
    "    total = initial\n",
    "    if initial is None:\n",
    "        try:\n",
    "            total = next(it)\n",
    "        except StopIteration:\n",
    "            return\n",
    "    yield total\n",
    "    for element in it:\n",
    "        total = func(total, element)\n",
    "        yield total\n",
    "```\n",
    "与chain简单的yield不同，此处稍微复杂一点，yield有点像return，所以`yield total`那行直接就返回一个元素，也就是iterable的第一个元素，因为任何时候这个函数返回的第一个元素就是它的第一个。又因为yield返回的是一个generator对象，比如名字gen，所以next(gen)时，代码将会执行到`for element in it:`这行，而此时的迭代器it 已经指到iterable的第二个元素，OK，相信你懂了！"
   ]
  },
  {
   "cell_type": "markdown",
   "metadata": {},
   "source": [
    "### 3. 漏斗筛选\n",
    "\n",
    "功能类似于漏斗功能，原型：\n",
    "> compress(data, selectors)"
   ]
  },
  {
   "cell_type": "code",
   "execution_count": 17,
   "metadata": {},
   "outputs": [],
   "source": [
    "from itertools import compress"
   ]
  },
  {
   "cell_type": "code",
   "execution_count": 18,
   "metadata": {},
   "outputs": [
    {
     "data": {
      "text/plain": [
       "['a', 'b', 'd']"
      ]
     },
     "execution_count": 18,
     "metadata": {},
     "output_type": "execute_result"
    }
   ],
   "source": [
    "# 0 : false\n",
    "# positive number : true\n",
    "\n",
    "list(compress('abcdefg', [1, 1, 0, 1]))"
   ]
  },
  {
   "cell_type": "markdown",
   "metadata": {},
   "source": [
    "compress 返回的元素个数等于两个参数中较短的列表长度\n",
    "```python\n",
    "def compress(data, selectors):\n",
    "    return (d for d, s in zip(data, selectors) is s)\n",
    "```"
   ]
  },
  {
   "cell_type": "markdown",
   "metadata": {},
   "source": [
    "### 4. 段位筛选\n",
    "\n",
    "扫描列表，从不满足条件处开始往后保留，原型如下：\n",
    "> dropwhile(predicate, iterable)\n",
    "\n",
    "其实现的大概代码如下：\n",
    "```python\n",
    "def dropwhile(predicate, iterable):\n",
    "    iterable = iter(iterable)\n",
    "    for x in iterable:\n",
    "        if not predicate(x):\n",
    "            yield x\n",
    "            break\n",
    "    for x in iterable:\n",
    "        yield x\n",
    "```"
   ]
  },
  {
   "cell_type": "code",
   "execution_count": 20,
   "metadata": {},
   "outputs": [],
   "source": [
    "from itertools import dropwhile"
   ]
  },
  {
   "cell_type": "code",
   "execution_count": 21,
   "metadata": {},
   "outputs": [
    {
     "data": {
      "text/plain": [
       "[4, 1, 1, 3, 5, -5]"
      ]
     },
     "execution_count": 21,
     "metadata": {},
     "output_type": "execute_result"
    }
   ],
   "source": [
    "list(dropwhile(lambda x : x < 3, [1, 0, 2, 4, 1, 1, 3, 5, -5]))"
   ]
  },
  {
   "cell_type": "markdown",
   "metadata": {},
   "source": [
    "### 5. 段位筛选2\n",
    "\n",
    "扫描列表，只要满足条件就从可迭代对象中返回元素，直到不满足条件为止，原型如下：\n",
    "> takewhile(predictate, iterable)\n",
    "\n",
    "实现它的大概代码如下：\n",
    "```python\n",
    "def takewhile(predicate, iterable):\n",
    "    for x in iterable:\n",
    "        if predicate(x):\n",
    "            yield x\n",
    "        else:\n",
    "            break  # 程序中断\n",
    "```"
   ]
  },
  {
   "cell_type": "code",
   "execution_count": 2,
   "metadata": {},
   "outputs": [],
   "source": [
    "from itertools import takewhile"
   ]
  },
  {
   "cell_type": "code",
   "execution_count": 4,
   "metadata": {},
   "outputs": [
    {
     "data": {
      "text/plain": [
       "[1, 4]"
      ]
     },
     "execution_count": 4,
     "metadata": {},
     "output_type": "execute_result"
    }
   ],
   "source": [
    "list(takewhile(lambda x: x < 5, [1, 4, 6, 4, 1]))"
   ]
  },
  {
   "cell_type": "code",
   "execution_count": 7,
   "metadata": {},
   "outputs": [
    {
     "data": {
      "text/plain": [
       "[1, 3]"
      ]
     },
     "execution_count": 7,
     "metadata": {},
     "output_type": "execute_result"
    }
   ],
   "source": [
    "# 只要满足条件就从可迭代对象中返回元素，直到不满足条件为止\n",
    "\n",
    "list(takewhile(lambda x: x < 5, [1, 3, 5, 2, 6]))"
   ]
  },
  {
   "cell_type": "markdown",
   "metadata": {},
   "source": [
    "### 6. 次品筛选\n",
    "\n",
    "扫描列表，只要不满足条件都保留，原型如下：\n",
    "> dropwhile(predicate, iterable)\n",
    "\n",
    "实现它的大概代码如下：\n",
    "```python\n",
    "def filterfalse(predicate, iterable):\n",
    "    # filterfalse(lambda x: x%2, range(10)) --> 0 2 4 6 8\n",
    "    if predicate is None:\n",
    "        predicate = bool\n",
    "    for x in iterable:\n",
    "        if not predicate(x):\n",
    "            yield x\n",
    "```"
   ]
  },
  {
   "cell_type": "code",
   "execution_count": 5,
   "metadata": {},
   "outputs": [],
   "source": [
    "from itertools import filterfalse"
   ]
  },
  {
   "cell_type": "code",
   "execution_count": 6,
   "metadata": {},
   "outputs": [
    {
     "data": {
      "text/plain": [
       "[-1, 1, 3, 1]"
      ]
     },
     "execution_count": 6,
     "metadata": {},
     "output_type": "execute_result"
    }
   ],
   "source": [
    "list(filterfalse(lambda x: x%2 == 0, [-1, 0, 1, 2, 3, 4, 1, -2]))"
   ]
  },
  {
   "cell_type": "markdown",
   "metadata": {},
   "source": [
    "### 7. 切片筛选\n",
    "\n",
    "相比于 list\\[: 1\\], `islice`更节省内存，原型如下：\n",
    "> islice(iterable, start, stop\\[, step\\])\n",
    "\n",
    "```python\n",
    "def islice(iterable, *args):\n",
    "    s = slice(*args)\n",
    "    start, stop, step = s.start or 0, s.stop or sys.maxsize, s.step or 1\n",
    "    it = iter(range(start, stop, step))\n",
    "    try:\n",
    "        nexti = next(it)\n",
    "    except StopIteration:\n",
    "        for i, element in zip(range(start), iterable):\n",
    "            pass\n",
    "        return\n",
    "    try:\n",
    "        for i, element in enumberate(iterable):\n",
    "            if i == nexti:\n",
    "                yield element\n",
    "                nexti = next(it)\n",
    "    except StopIteration:\n",
    "        for i, element in zip(range(i + 1, stop), iterable):\n",
    "            pass        \n",
    "\n",
    "```\n",
    "巧妙利用生成器迭代结束时会抛出异常StopIteration，做一些边界处理的事情。"
   ]
  },
  {
   "cell_type": "code",
   "execution_count": 23,
   "metadata": {},
   "outputs": [],
   "source": [
    "from itertools import islice"
   ]
  },
  {
   "cell_type": "code",
   "execution_count": 26,
   "metadata": {},
   "outputs": [
    {
     "data": {
      "text/plain": [
       "['b', 'd']"
      ]
     },
     "execution_count": 26,
     "metadata": {},
     "output_type": "execute_result"
    }
   ],
   "source": [
    "# iterable : 'abcdefg', start : 1, stop : 4, step : 2\n",
    "\n",
    "list(islice('abcdefg', 1, 4, 2))"
   ]
  },
  {
   "cell_type": "markdown",
   "metadata": {},
   "source": [
    "### 6. 细胞分裂\n",
    "tee 函数类似于我们熟知的细胞分裂，它能复制原迭代器 n 个，原型如下：\n",
    "> tee(iterable, n = 2)\n",
    "\n",
    "```python\n",
    "def tee(iterable, n = 2):\n",
    "    it = iter(iterable)\n",
    "    deques = [collections.deque() for i in range(n)]\n",
    "    def gen(mydeque):\n",
    "        while True:\n",
    "            if not mydeque:\n",
    "                try:\n",
    "                    newval = next(it)\n",
    "                except StopIteration:\n",
    "                    return\n",
    "                for d in deques:\n",
    "                    d.append(newval)\n",
    "            yield mydeque.popleft()\n",
    "    return tuple(gen(d) for d in deques)\n",
    "                    \n",
    "```\n",
    "tee 实现内部使用一个队列类型deques，起初生成空队列，向复制出来的每个队列中添加元素newval, 同时yield 当前被调用的mydeque中的最左元素。"
   ]
  },
  {
   "cell_type": "code",
   "execution_count": 29,
   "metadata": {},
   "outputs": [],
   "source": [
    "from itertools import tee"
   ]
  },
  {
   "cell_type": "code",
   "execution_count": 32,
   "metadata": {},
   "outputs": [],
   "source": [
    "a = tee([1, 4, 6, 4, 1], 2)"
   ]
  },
  {
   "cell_type": "markdown",
   "metadata": {},
   "source": [
    "复制出的迭代器是独立的"
   ]
  },
  {
   "cell_type": "code",
   "execution_count": 33,
   "metadata": {},
   "outputs": [
    {
     "name": "stdout",
     "output_type": "stream",
     "text": [
      "1\n",
      "4\n",
      "6\n"
     ]
    }
   ],
   "source": [
    "print(next(a[0]))\n",
    "print(next(a[0]))\n",
    "print(next(a[0]))"
   ]
  },
  {
   "cell_type": "code",
   "execution_count": 34,
   "metadata": {},
   "outputs": [
    {
     "name": "stdout",
     "output_type": "stream",
     "text": [
      "1\n",
      "4\n",
      "6\n"
     ]
    }
   ],
   "source": [
    "print(next(a[1]))\n",
    "print(next(a[1]))\n",
    "print(next(a[1]))"
   ]
  },
  {
   "cell_type": "markdown",
   "metadata": {},
   "source": [
    "### 9. map 变体"
   ]
  },
  {
   "cell_type": "markdown",
   "metadata": {},
   "source": [
    "starmap 可以看作是 map 的变体，它能更加节省内存，同时 iterable 的元素必须也为可迭代对象，原型如下：\n",
    "> starmap(function, iterable)\n",
    "\n",
    "```python\n",
    "def starmap(function, iterable):\n",
    "    for args in iterable:\n",
    "        yield function(*args)\n",
    "```"
   ]
  },
  {
   "cell_type": "code",
   "execution_count": 35,
   "metadata": {},
   "outputs": [],
   "source": [
    "from itertools import starmap"
   ]
  },
  {
   "cell_type": "code",
   "execution_count": 37,
   "metadata": {},
   "outputs": [
    {
     "data": {
      "text/plain": [
       "['a-1', 'b-2', 'c-3']"
      ]
     },
     "execution_count": 37,
     "metadata": {},
     "output_type": "execute_result"
    }
   ],
   "source": [
    "list(starmap(lambda x, y : str(x) + '-' + str(y), [('a', 1), ('b', 2), ('c', 3)]))"
   ]
  },
  {
   "cell_type": "markdown",
   "metadata": {},
   "source": [
    "### 10. 复制元素\n",
    "\n",
    "repeat 实现复制元素 n 次，原型如下：\n",
    "> repeat(object\\[, times\\])\n",
    "\n",
    "它的实现细节大概如下：\n",
    "```python\n",
    "def repeat(object, times=None):\n",
    "    if times is None:  # 如果 times 不设置，将一起 repeat 下去\n",
    "        while True:\n",
    "            yield object\n",
    "    else:\n",
    "        for i in range(times):\n",
    "            yield object\n",
    "```"
   ]
  },
  {
   "cell_type": "code",
   "execution_count": 1,
   "metadata": {},
   "outputs": [],
   "source": [
    "from itertools import repeat"
   ]
  },
  {
   "cell_type": "code",
   "execution_count": 2,
   "metadata": {},
   "outputs": [
    {
     "data": {
      "text/plain": [
       "[6, 6, 6]"
      ]
     },
     "execution_count": 2,
     "metadata": {},
     "output_type": "execute_result"
    }
   ],
   "source": [
    "list(repeat(6, 3))"
   ]
  },
  {
   "cell_type": "markdown",
   "metadata": {},
   "source": [
    "### 11. 笛卡尔积\n",
    "笛卡尔积实现的效果同下：\n",
    "> ((x, y) for x in A for y in B)\n",
    "\n",
    "它的实现细节：\n",
    "```python\n",
    "def product(*args, repeat=1):\n",
    "    pools = [tuple(pool) for pool in args] * repeat\n",
    "    result = [[]]\n",
    "    for pool in pools:\n",
    "        result = [x + [y] for x in result for y in pool]\n",
    "    for prod in result:\n",
    "        yield tuple(prod)\n",
    "```"
   ]
  },
  {
   "cell_type": "code",
   "execution_count": 3,
   "metadata": {},
   "outputs": [],
   "source": [
    "from itertools import product"
   ]
  },
  {
   "cell_type": "code",
   "execution_count": 4,
   "metadata": {},
   "outputs": [
    {
     "data": {
      "text/plain": [
       "[('A', 'x'),\n",
       " ('A', 'y'),\n",
       " ('B', 'x'),\n",
       " ('B', 'y'),\n",
       " ('C', 'x'),\n",
       " ('C', 'y'),\n",
       " ('D', 'x'),\n",
       " ('D', 'y')]"
      ]
     },
     "execution_count": 4,
     "metadata": {},
     "output_type": "execute_result"
    }
   ],
   "source": [
    "list(product(\"ABCD\", \"xy\"))"
   ]
  },
  {
   "cell_type": "markdown",
   "metadata": {},
   "source": [
    "### 12. 加强版 zip\n",
    "组合值。若可迭代对象的长度未对齐，将根据 `fillvalue` 填充缺失值，注意：`迭代持续到耗光最长的可迭代对象`\n",
    "\n",
    "实现细节：\n",
    "```python\n",
    "def zip_longest(*args, fillvalue=None):\n",
    "    num_active = len(iterators)\n",
    "    if not num_active:\n",
    "        return\n",
    "    while True:\n",
    "        values = []\n",
    "        for i it in enumerate(iterators):\n",
    "            try:\n",
    "                value = next(it)\n",
    "            except StopIteraton:\n",
    "                num_active -= 1\n",
    "                if not num_active:\n",
    "                    return\n",
    "                iterators[i] = repeat(fillvalue)\n",
    "                value = fillvalue\n",
    "            values.append(value)\n",
    "        yield tuple(values)\n",
    "                \n",
    "```"
   ]
  },
  {
   "cell_type": "code",
   "execution_count": 6,
   "metadata": {},
   "outputs": [],
   "source": [
    "from itertools import zip_longest"
   ]
  },
  {
   "cell_type": "code",
   "execution_count": 8,
   "metadata": {},
   "outputs": [
    {
     "data": {
      "text/plain": [
       "[('A', 'x'), ('B', 'y'), ('C', '-'), ('D', '-')]"
      ]
     },
     "execution_count": 8,
     "metadata": {},
     "output_type": "execute_result"
    }
   ],
   "source": [
    "list(zip_longest('ABCD', 'xy', fillvalue='-'))"
   ]
  },
  {
   "cell_type": "markdown",
   "metadata": {},
   "source": [
    "它里面使用repeat，也就是在可迭代对象的长度未对齐时，根据 fillvalue 填充缺失值。\n",
    "\n",
    "理解上面代码的关键是迭代器对象(iter)，next方法的特殊性："
   ]
  },
  {
   "cell_type": "code",
   "execution_count": 10,
   "metadata": {},
   "outputs": [
    {
     "name": "stdout",
     "output_type": "stream",
     "text": [
      "1\n",
      "x\n"
     ]
    }
   ],
   "source": [
    "for i, it in enumerate([iter([1, 2, 3]), iter(['x', 'y'])]):\n",
    "    print(next(it))"
   ]
  },
  {
   "cell_type": "code",
   "execution_count": null,
   "metadata": {},
   "outputs": [],
   "source": []
  },
  {
   "cell_type": "code",
   "execution_count": null,
   "metadata": {},
   "outputs": [],
   "source": []
  },
  {
   "cell_type": "code",
   "execution_count": null,
   "metadata": {},
   "outputs": [],
   "source": []
  }
 ],
 "metadata": {
  "kernelspec": {
   "display_name": "Python 3",
   "language": "python",
   "name": "python3"
  },
  "language_info": {
   "codemirror_mode": {
    "name": "ipython",
    "version": 3
   },
   "file_extension": ".py",
   "mimetype": "text/x-python",
   "name": "python",
   "nbconvert_exporter": "python",
   "pygments_lexer": "ipython3",
   "version": "3.7.6"
  }
 },
 "nbformat": 4,
 "nbformat_minor": 4
}
