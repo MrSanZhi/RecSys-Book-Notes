{
 "cells": [
  {
   "cell_type": "code",
   "execution_count": 1,
   "metadata": {},
   "outputs": [],
   "source": [
    "import pandas as pd\n",
    "import numpy as np\n",
    "from datetime import datetime\n",
    "from datetime import timedelta"
   ]
  },
  {
   "cell_type": "markdown",
   "metadata": {},
   "source": [
    "## 11.1 日期和时间数据类型及工具"
   ]
  },
  {
   "cell_type": "code",
   "execution_count": 2,
   "metadata": {},
   "outputs": [
    {
     "data": {
      "text/plain": [
       "datetime.datetime(2019, 8, 8, 14, 35, 49, 396955)"
      ]
     },
     "execution_count": 2,
     "metadata": {},
     "output_type": "execute_result"
    }
   ],
   "source": [
    "now = datetime.now()\n",
    "now"
   ]
  },
  {
   "cell_type": "code",
   "execution_count": 3,
   "metadata": {},
   "outputs": [
    {
     "data": {
      "text/plain": [
       "(2019, 8, 8)"
      ]
     },
     "execution_count": 3,
     "metadata": {},
     "output_type": "execute_result"
    }
   ],
   "source": [
    "now.year, now.month, now.day"
   ]
  },
  {
   "cell_type": "code",
   "execution_count": 4,
   "metadata": {},
   "outputs": [],
   "source": [
    "# datetime以毫秒形式存储日期和时间。\n",
    "# timedelta表示这两个datetime对象之间的时间差\n",
    "\n",
    "delta = datetime(2011, 1, 7) - datetime(2008, 6, 24, 8, 15)"
   ]
  },
  {
   "cell_type": "code",
   "execution_count": 5,
   "metadata": {},
   "outputs": [
    {
     "data": {
      "text/plain": [
       "datetime.timedelta(days=926, seconds=56700)"
      ]
     },
     "execution_count": 5,
     "metadata": {},
     "output_type": "execute_result"
    }
   ],
   "source": [
    "delta"
   ]
  },
  {
   "cell_type": "code",
   "execution_count": 6,
   "metadata": {},
   "outputs": [
    {
     "data": {
      "text/plain": [
       "926"
      ]
     },
     "execution_count": 6,
     "metadata": {},
     "output_type": "execute_result"
    }
   ],
   "source": [
    "delta.days"
   ]
  },
  {
   "cell_type": "code",
   "execution_count": 7,
   "metadata": {},
   "outputs": [
    {
     "data": {
      "text/plain": [
       "56700"
      ]
     },
     "execution_count": 7,
     "metadata": {},
     "output_type": "execute_result"
    }
   ],
   "source": [
    "delta.seconds"
   ]
  },
  {
   "cell_type": "code",
   "execution_count": 8,
   "metadata": {},
   "outputs": [],
   "source": [
    "# 可以给datetime对象加上（或减去）一个或多个timedelta,这样会产生一个新对象\n",
    "\n",
    "start = datetime(2011, 1, 7)"
   ]
  },
  {
   "cell_type": "code",
   "execution_count": 9,
   "metadata": {},
   "outputs": [
    {
     "data": {
      "text/plain": [
       "datetime.datetime(2011, 1, 19, 0, 0)"
      ]
     },
     "execution_count": 9,
     "metadata": {},
     "output_type": "execute_result"
    }
   ],
   "source": [
    "start + timedelta(12)  # 12 days ?"
   ]
  },
  {
   "cell_type": "code",
   "execution_count": 10,
   "metadata": {},
   "outputs": [
    {
     "data": {
      "text/plain": [
       "datetime.datetime(2010, 12, 14, 0, 0)"
      ]
     },
     "execution_count": 10,
     "metadata": {},
     "output_type": "execute_result"
    }
   ],
   "source": [
    "start - 2 * timedelta(12)"
   ]
  },
  {
   "cell_type": "code",
   "execution_count": 11,
   "metadata": {},
   "outputs": [
    {
     "data": {
      "text/html": [
       "<img src=\"picture/表11-1 datetime模块中的数据类型.png\">\n"
      ],
      "text/plain": [
       "<IPython.core.display.HTML object>"
      ]
     },
     "metadata": {},
     "output_type": "display_data"
    }
   ],
   "source": [
    "%%html\n",
    "<img src=\"picture/表11-1 datetime模块中的数据类型.png\">"
   ]
  },
  {
   "cell_type": "markdown",
   "metadata": {},
   "source": [
    "### 11.1.1 字符串和datetime的相互转换"
   ]
  },
  {
   "cell_type": "code",
   "execution_count": 48,
   "metadata": {},
   "outputs": [],
   "source": [
    "import numpy as np\n",
    "import pandas as pd\n",
    "from datetime import datetime\n",
    "from datetime import timedelta\n",
    "from dateutil.parser import parse"
   ]
  },
  {
   "cell_type": "code",
   "execution_count": 31,
   "metadata": {},
   "outputs": [
    {
     "data": {
      "text/plain": [
       "datetime.datetime(2011, 1, 3, 0, 0)"
      ]
     },
     "execution_count": 31,
     "metadata": {},
     "output_type": "execute_result"
    }
   ],
   "source": [
    "# 利用str或strftime方法（传入一个格式化字符串），datetime对象和pandas的Timestamp对象可以被格式化为字符串\n",
    "\n",
    "stamp = datetime(2011, 1, 3)\n",
    "stamp"
   ]
  },
  {
   "cell_type": "code",
   "execution_count": 32,
   "metadata": {},
   "outputs": [
    {
     "data": {
      "text/plain": [
       "'2011-01-03 00:00:00'"
      ]
     },
     "execution_count": 32,
     "metadata": {},
     "output_type": "execute_result"
    }
   ],
   "source": [
    "str(stamp)"
   ]
  },
  {
   "cell_type": "code",
   "execution_count": 40,
   "metadata": {},
   "outputs": [
    {
     "data": {
      "text/plain": [
       "'2011-01-03'"
      ]
     },
     "execution_count": 40,
     "metadata": {},
     "output_type": "execute_result"
    }
   ],
   "source": [
    "# stamp.strftime('%Y: %m: %d')\n",
    "\n",
    "stamp.strftime('%Y-%m-%d')\n",
    "\n",
    "# stamp.strftime(\"%F\")"
   ]
  },
  {
   "cell_type": "code",
   "execution_count": 41,
   "metadata": {},
   "outputs": [
    {
     "data": {
      "text/html": [
       "<img src=\"picture/表11-2 datetime格式定义（兼容ISO C89）（1）.png\">\n",
       "<img src=\"picture/表11-2 datetime格式定义（兼容ISO C89）（2）.png\">\n"
      ],
      "text/plain": [
       "<IPython.core.display.HTML object>"
      ]
     },
     "metadata": {},
     "output_type": "display_data"
    }
   ],
   "source": [
    "%%html\n",
    "<img src=\"picture/表11-2 datetime格式定义（兼容ISO C89）（1）.png\">\n",
    "<img src=\"picture/表11-2 datetime格式定义（兼容ISO C89）（2）.png\">"
   ]
  },
  {
   "cell_type": "code",
   "execution_count": 42,
   "metadata": {},
   "outputs": [],
   "source": [
    "# datetime.strptime：将【字符串】转换为【日期】\n",
    "\n",
    "value = '2011-01-03'"
   ]
  },
  {
   "cell_type": "code",
   "execution_count": 45,
   "metadata": {},
   "outputs": [
    {
     "data": {
      "text/plain": [
       "datetime.datetime(2011, 1, 3, 0, 0)"
      ]
     },
     "execution_count": 45,
     "metadata": {},
     "output_type": "execute_result"
    }
   ],
   "source": [
    "datetime.strptime(value, '%Y-%m-%d')"
   ]
  },
  {
   "cell_type": "code",
   "execution_count": 46,
   "metadata": {},
   "outputs": [],
   "source": [
    "datestrs = ['7/6/2011', '8/6/2011']"
   ]
  },
  {
   "cell_type": "code",
   "execution_count": 47,
   "metadata": {},
   "outputs": [
    {
     "data": {
      "text/plain": [
       "[datetime.datetime(2011, 7, 6, 0, 0), datetime.datetime(2011, 8, 6, 0, 0)]"
      ]
     },
     "execution_count": 47,
     "metadata": {},
     "output_type": "execute_result"
    }
   ],
   "source": [
    "[datetime.strptime(x, '%m/%d/%Y') for x in datestrs]"
   ]
  },
  {
   "cell_type": "code",
   "execution_count": 49,
   "metadata": {},
   "outputs": [
    {
     "data": {
      "text/plain": [
       "datetime.datetime(2011, 1, 3, 0, 0)"
      ]
     },
     "execution_count": 49,
     "metadata": {},
     "output_type": "execute_result"
    }
   ],
   "source": [
    "# 利用dateutil对日期进行解析\n",
    "\n",
    "\n",
    "from dateutil.parser import parse\n",
    "\n",
    "parse('2011-01-03')"
   ]
  },
  {
   "cell_type": "code",
   "execution_count": 50,
   "metadata": {},
   "outputs": [
    {
     "data": {
      "text/plain": [
       "datetime.datetime(1997, 1, 31, 22, 45)"
      ]
     },
     "execution_count": 50,
     "metadata": {},
     "output_type": "execute_result"
    }
   ],
   "source": [
    "# dateutil可以解析几乎所有人类能够理解的日期表示形式\n",
    "\n",
    "parse('Jan 31, 1997, 10:45 PM')"
   ]
  },
  {
   "cell_type": "code",
   "execution_count": 51,
   "metadata": {},
   "outputs": [
    {
     "data": {
      "text/plain": [
       "datetime.datetime(2011, 12, 6, 0, 0)"
      ]
     },
     "execution_count": 51,
     "metadata": {},
     "output_type": "execute_result"
    }
   ],
   "source": [
    "# dayfirst = True：可解决日出现在月前面的情况\n",
    "\n",
    "parse('6/12/2011', dayfirst=True)"
   ]
  },
  {
   "cell_type": "code",
   "execution_count": 52,
   "metadata": {},
   "outputs": [],
   "source": [
    "# pd.to_datetime(): 可以解析多种不同的日期表示形式\n",
    "\n",
    "datestrs = ['2011-07-06 12:00:00', '2011-08-06 00:00:00']"
   ]
  },
  {
   "cell_type": "code",
   "execution_count": 53,
   "metadata": {},
   "outputs": [
    {
     "data": {
      "text/plain": [
       "DatetimeIndex(['2011-07-06 12:00:00', '2011-08-06 00:00:00'], dtype='datetime64[ns]', freq=None)"
      ]
     },
     "execution_count": 53,
     "metadata": {},
     "output_type": "execute_result"
    }
   ],
   "source": [
    "pd.to_datetime(datestrs)"
   ]
  },
  {
   "cell_type": "code",
   "execution_count": 54,
   "metadata": {},
   "outputs": [],
   "source": [
    "# pd.to_datetime(): 还可以处理缺失值（None、空字符串等）\n",
    "\n",
    "idx = pd.to_datetime(datestrs + [None])"
   ]
  },
  {
   "cell_type": "code",
   "execution_count": 55,
   "metadata": {},
   "outputs": [
    {
     "data": {
      "text/plain": [
       "DatetimeIndex(['2011-07-06 12:00:00', '2011-08-06 00:00:00', 'NaT'], dtype='datetime64[ns]', freq=None)"
      ]
     },
     "execution_count": 55,
     "metadata": {},
     "output_type": "execute_result"
    }
   ],
   "source": [
    "idx"
   ]
  },
  {
   "cell_type": "code",
   "execution_count": 56,
   "metadata": {},
   "outputs": [
    {
     "data": {
      "text/plain": [
       "NaT"
      ]
     },
     "execution_count": 56,
     "metadata": {},
     "output_type": "execute_result"
    }
   ],
   "source": [
    "# NaT(Not a Time)是pandas中时间戳的null值\n",
    "\n",
    "idx[2]"
   ]
  },
  {
   "cell_type": "code",
   "execution_count": 39,
   "metadata": {},
   "outputs": [
    {
     "data": {
      "text/plain": [
       "array([False, False,  True])"
      ]
     },
     "execution_count": 39,
     "metadata": {},
     "output_type": "execute_result"
    }
   ],
   "source": [
    "pd.isnull(idx)"
   ]
  },
  {
   "cell_type": "code",
   "execution_count": 57,
   "metadata": {},
   "outputs": [
    {
     "data": {
      "text/html": [
       "<img src=\"picture/表11-3 特定于当前环境的日期格式.png\">\n"
      ],
      "text/plain": [
       "<IPython.core.display.HTML object>"
      ]
     },
     "metadata": {},
     "output_type": "display_data"
    }
   ],
   "source": [
    "%%html\n",
    "<img src=\"picture/表11-3 特定于当前环境的日期格式.png\">"
   ]
  },
  {
   "cell_type": "markdown",
   "metadata": {},
   "source": [
    "## 11.2 时间序列基础"
   ]
  },
  {
   "cell_type": "code",
   "execution_count": 58,
   "metadata": {},
   "outputs": [],
   "source": [
    "import numpy as np\n",
    "import pandas as pd\n",
    "from datetime import datetime\n",
    "from datetime import timedelta"
   ]
  },
  {
   "cell_type": "code",
   "execution_count": 59,
   "metadata": {},
   "outputs": [],
   "source": [
    "# pandas最基本的时间序列类型：以时间戳（通常以Python字符串或datetime对象表示）为索引的Series\n",
    "\n",
    "dates = [datetime(2011, 1, 2), datetime(2011, 1, 5),\n",
    "         datetime(2011, 1, 7), datetime(2011, 1, 8),\n",
    "         datetime(2011, 1, 10), datetime(2011, 1, 12)]"
   ]
  },
  {
   "cell_type": "code",
   "execution_count": 60,
   "metadata": {},
   "outputs": [],
   "source": [
    "ts = pd.Series(np.random.randn(6), index=dates)"
   ]
  },
  {
   "cell_type": "code",
   "execution_count": 61,
   "metadata": {},
   "outputs": [
    {
     "data": {
      "text/plain": [
       "2011-01-02    0.117528\n",
       "2011-01-05   -0.387471\n",
       "2011-01-07   -1.923490\n",
       "2011-01-08   -1.489916\n",
       "2011-01-10    0.721142\n",
       "2011-01-12   -0.543977\n",
       "dtype: float64"
      ]
     },
     "execution_count": 61,
     "metadata": {},
     "output_type": "execute_result"
    }
   ],
   "source": [
    "ts"
   ]
  },
  {
   "cell_type": "code",
   "execution_count": 7,
   "metadata": {},
   "outputs": [
    {
     "data": {
      "text/plain": [
       "DatetimeIndex(['2011-01-02', '2011-01-05', '2011-01-07', '2011-01-08',\n",
       "               '2011-01-10', '2011-01-12'],\n",
       "              dtype='datetime64[ns]', freq=None)"
      ]
     },
     "execution_count": 7,
     "metadata": {},
     "output_type": "execute_result"
    }
   ],
   "source": [
    "# 这这些datetime对象，实际上被放在一个DatetimeIndex中\n",
    "\n",
    "ts.index"
   ]
  },
  {
   "cell_type": "code",
   "execution_count": 8,
   "metadata": {},
   "outputs": [
    {
     "data": {
      "text/plain": [
       "2011-01-02    0.606081\n",
       "2011-01-05         NaN\n",
       "2011-01-07    0.146945\n",
       "2011-01-08         NaN\n",
       "2011-01-10    0.420962\n",
       "2011-01-12         NaN\n",
       "dtype: float64"
      ]
     },
     "execution_count": 8,
     "metadata": {},
     "output_type": "execute_result"
    }
   ],
   "source": [
    "# 跟其他Series一样，不同索引的时间序列之间的算术运算会自动按日期对齐\n",
    "# ts[ : : 2] 每隔两个取一个\n",
    "\n",
    "ts + ts[ : : 2]"
   ]
  },
  {
   "cell_type": "code",
   "execution_count": 9,
   "metadata": {},
   "outputs": [
    {
     "data": {
      "text/plain": [
       "dtype('<M8[ns]')"
      ]
     },
     "execution_count": 9,
     "metadata": {},
     "output_type": "execute_result"
    }
   ],
   "source": [
    "# pandas用NumPy的datetime64数据类型以【纳秒(ns)】的形式存储时间戳\n",
    "\n",
    "ts.index.dtype"
   ]
  },
  {
   "cell_type": "code",
   "execution_count": 10,
   "metadata": {},
   "outputs": [],
   "source": [
    "# DatetimeIndex中的各个标量值是pandas的Timestamp对象\n",
    "\n",
    "stamp = ts.index[0]"
   ]
  },
  {
   "cell_type": "code",
   "execution_count": 11,
   "metadata": {},
   "outputs": [
    {
     "data": {
      "text/plain": [
       "Timestamp('2011-01-02 00:00:00')"
      ]
     },
     "execution_count": 11,
     "metadata": {},
     "output_type": "execute_result"
    }
   ],
   "source": [
    "stamp"
   ]
  },
  {
   "cell_type": "markdown",
   "metadata": {},
   "source": [
    "## 11.2.1 索引、选取、子集构造"
   ]
  },
  {
   "cell_type": "code",
   "execution_count": 73,
   "metadata": {},
   "outputs": [],
   "source": [
    "# 当根据标签索引选取数据时，时间序列和其它的pandas.Series很象\n",
    "\n",
    "stamp = ts.index[2]"
   ]
  },
  {
   "cell_type": "code",
   "execution_count": 74,
   "metadata": {},
   "outputs": [
    {
     "data": {
      "text/plain": [
       "-1.9234895908414615"
      ]
     },
     "execution_count": 74,
     "metadata": {},
     "output_type": "execute_result"
    }
   ],
   "source": [
    "ts[stamp]"
   ]
  },
  {
   "cell_type": "code",
   "execution_count": 75,
   "metadata": {},
   "outputs": [
    {
     "data": {
      "text/plain": [
       "0.7211423930413394"
      ]
     },
     "execution_count": 75,
     "metadata": {},
     "output_type": "execute_result"
    }
   ],
   "source": [
    "# 传入一个可以被解释为日期的字符串\n",
    "\n",
    "ts['1/10/2011']"
   ]
  },
  {
   "cell_type": "code",
   "execution_count": 76,
   "metadata": {},
   "outputs": [
    {
     "data": {
      "text/plain": [
       "0.7211423930413394"
      ]
     },
     "execution_count": 76,
     "metadata": {},
     "output_type": "execute_result"
    }
   ],
   "source": [
    "ts['20110110']"
   ]
  },
  {
   "cell_type": "code",
   "execution_count": 77,
   "metadata": {},
   "outputs": [],
   "source": [
    "# 对于较长的时间序列，只需传入“年”或“年月”即可轻松选取数据的切片\n",
    "\n",
    "longer_ts = pd.Series(np.random.randn(1000),\n",
    "                     index=pd.date_range('1/1/2000', periods=1000))"
   ]
  },
  {
   "cell_type": "code",
   "execution_count": 79,
   "metadata": {
    "scrolled": true
   },
   "outputs": [
    {
     "data": {
      "text/plain": [
       "2000-01-01   -0.629713\n",
       "2000-01-02    0.930681\n",
       "2000-01-03   -0.351706\n",
       "2000-01-04    1.403444\n",
       "2000-01-05   -0.827194\n",
       "Freq: D, dtype: float64"
      ]
     },
     "execution_count": 79,
     "metadata": {},
     "output_type": "execute_result"
    }
   ],
   "source": [
    "longer_ts.head()"
   ]
  },
  {
   "cell_type": "code",
   "execution_count": 80,
   "metadata": {},
   "outputs": [
    {
     "data": {
      "text/plain": [
       "2001-01-01   -0.557468\n",
       "2001-01-02    0.942721\n",
       "2001-01-03   -0.576132\n",
       "2001-01-04    1.039273\n",
       "2001-01-05    0.527823\n",
       "Freq: D, dtype: float64"
      ]
     },
     "execution_count": 80,
     "metadata": {},
     "output_type": "execute_result"
    }
   ],
   "source": [
    "longer_ts['2001'].head()"
   ]
  },
  {
   "cell_type": "code",
   "execution_count": 81,
   "metadata": {},
   "outputs": [
    {
     "data": {
      "text/plain": [
       "2001-05-01    0.170234\n",
       "2001-05-02   -1.355933\n",
       "2001-05-03    1.121230\n",
       "2001-05-04   -0.074994\n",
       "2001-05-05   -1.523448\n",
       "Freq: D, dtype: float64"
      ]
     },
     "execution_count": 81,
     "metadata": {},
     "output_type": "execute_result"
    }
   ],
   "source": [
    "# 上面，字符串“2001”被解释为年，并根据它选取时间区间\n",
    "# 指定【月】也同样奏效\n",
    "\n",
    "longer_ts['2001-05'].head()"
   ]
  },
  {
   "cell_type": "code",
   "execution_count": 84,
   "metadata": {},
   "outputs": [
    {
     "data": {
      "text/plain": [
       "-1.9234895908414615"
      ]
     },
     "execution_count": 84,
     "metadata": {},
     "output_type": "execute_result"
    }
   ],
   "source": [
    "# datetime对象也可以进行【切片】\n",
    "\n",
    "ts[datetime(2011, 1, 7)]"
   ]
  },
  {
   "cell_type": "code",
   "execution_count": 85,
   "metadata": {},
   "outputs": [
    {
     "data": {
      "text/plain": [
       "2011-01-02    0.117528\n",
       "2011-01-05   -0.387471\n",
       "2011-01-07   -1.923490\n",
       "2011-01-08   -1.489916\n",
       "2011-01-10    0.721142\n",
       "2011-01-12   -0.543977\n",
       "dtype: float64"
      ]
     },
     "execution_count": 85,
     "metadata": {},
     "output_type": "execute_result"
    }
   ],
   "source": [
    "# 由于大部分时间序列数据都是按照时间先后排序的，\n",
    "# 因此，也可以用不存在于该时间序列中时间戳进行切片\n",
    "\n",
    "ts"
   ]
  },
  {
   "cell_type": "code",
   "execution_count": 86,
   "metadata": {},
   "outputs": [
    {
     "data": {
      "text/plain": [
       "2011-01-07   -1.923490\n",
       "2011-01-08   -1.489916\n",
       "2011-01-10    0.721142\n",
       "dtype: float64"
      ]
     },
     "execution_count": 86,
     "metadata": {},
     "output_type": "execute_result"
    }
   ],
   "source": [
    "ts['1/6/2011': '1/11/2011']"
   ]
  },
  {
   "cell_type": "code",
   "execution_count": 87,
   "metadata": {},
   "outputs": [
    {
     "data": {
      "text/plain": [
       "2011-01-02    0.117528\n",
       "2011-01-05   -0.387471\n",
       "2011-01-07   -1.923490\n",
       "2011-01-08   -1.489916\n",
       "dtype: float64"
      ]
     },
     "execution_count": 87,
     "metadata": {},
     "output_type": "execute_result"
    }
   ],
   "source": [
    "# 另一个截取两个日期之间TimeSeries的方法\n",
    "\n",
    "ts.truncate(after='1/9/2011')"
   ]
  },
  {
   "cell_type": "code",
   "execution_count": 88,
   "metadata": {},
   "outputs": [],
   "source": [
    "# 上面那些操作对DataFrame也有效\n",
    "# 对DataFrame的【行】进行索引\n",
    "\n",
    "dates = pd.date_range('1/1/2000', periods=100, freq='W-WED')"
   ]
  },
  {
   "cell_type": "code",
   "execution_count": 89,
   "metadata": {},
   "outputs": [],
   "source": [
    "long_df = pd.DataFrame(np.random.randn(100, 4),\n",
    "                      index=dates,\n",
    "                      columns=['Colorado', 'Texas', 'New York', 'Ohio'])"
   ]
  },
  {
   "cell_type": "code",
   "execution_count": 90,
   "metadata": {},
   "outputs": [
    {
     "data": {
      "text/html": [
       "<div>\n",
       "<style scoped>\n",
       "    .dataframe tbody tr th:only-of-type {\n",
       "        vertical-align: middle;\n",
       "    }\n",
       "\n",
       "    .dataframe tbody tr th {\n",
       "        vertical-align: top;\n",
       "    }\n",
       "\n",
       "    .dataframe thead th {\n",
       "        text-align: right;\n",
       "    }\n",
       "</style>\n",
       "<table border=\"1\" class=\"dataframe\">\n",
       "  <thead>\n",
       "    <tr style=\"text-align: right;\">\n",
       "      <th></th>\n",
       "      <th>Colorado</th>\n",
       "      <th>Texas</th>\n",
       "      <th>New York</th>\n",
       "      <th>Ohio</th>\n",
       "    </tr>\n",
       "  </thead>\n",
       "  <tbody>\n",
       "    <tr>\n",
       "      <th>2001-05-02</th>\n",
       "      <td>-0.136384</td>\n",
       "      <td>1.206890</td>\n",
       "      <td>0.585976</td>\n",
       "      <td>0.427249</td>\n",
       "    </tr>\n",
       "    <tr>\n",
       "      <th>2001-05-09</th>\n",
       "      <td>-0.224632</td>\n",
       "      <td>1.520524</td>\n",
       "      <td>-0.399837</td>\n",
       "      <td>0.664584</td>\n",
       "    </tr>\n",
       "    <tr>\n",
       "      <th>2001-05-16</th>\n",
       "      <td>-0.733335</td>\n",
       "      <td>1.002875</td>\n",
       "      <td>1.055283</td>\n",
       "      <td>1.361896</td>\n",
       "    </tr>\n",
       "    <tr>\n",
       "      <th>2001-05-23</th>\n",
       "      <td>-0.789276</td>\n",
       "      <td>-1.166282</td>\n",
       "      <td>-0.343731</td>\n",
       "      <td>-0.996555</td>\n",
       "    </tr>\n",
       "    <tr>\n",
       "      <th>2001-05-30</th>\n",
       "      <td>-0.253833</td>\n",
       "      <td>-0.841686</td>\n",
       "      <td>-0.064463</td>\n",
       "      <td>0.653212</td>\n",
       "    </tr>\n",
       "  </tbody>\n",
       "</table>\n",
       "</div>"
      ],
      "text/plain": [
       "            Colorado     Texas  New York      Ohio\n",
       "2001-05-02 -0.136384  1.206890  0.585976  0.427249\n",
       "2001-05-09 -0.224632  1.520524 -0.399837  0.664584\n",
       "2001-05-16 -0.733335  1.002875  1.055283  1.361896\n",
       "2001-05-23 -0.789276 -1.166282 -0.343731 -0.996555\n",
       "2001-05-30 -0.253833 -0.841686 -0.064463  0.653212"
      ]
     },
     "execution_count": 90,
     "metadata": {},
     "output_type": "execute_result"
    }
   ],
   "source": [
    "long_df.loc['5-2001']"
   ]
  },
  {
   "cell_type": "markdown",
   "metadata": {},
   "source": [
    "## 11.2.2 带有重复索引的时间序列"
   ]
  },
  {
   "cell_type": "code",
   "execution_count": 91,
   "metadata": {},
   "outputs": [],
   "source": [
    "# 在某些应用场景中，可能会存在多个观测数据落在同一个时间点上的情况\n",
    "\n",
    "dates = pd.DatetimeIndex(['1/1/2000', '1/2/2000', '1/2/2000',\n",
    "                          '1/2/2000', '1/3/2000'])"
   ]
  },
  {
   "cell_type": "code",
   "execution_count": 92,
   "metadata": {},
   "outputs": [],
   "source": [
    "dup_ts = pd.Series(np.arange(5), index=dates)"
   ]
  },
  {
   "cell_type": "code",
   "execution_count": 93,
   "metadata": {},
   "outputs": [
    {
     "data": {
      "text/plain": [
       "2000-01-01    0\n",
       "2000-01-02    1\n",
       "2000-01-02    2\n",
       "2000-01-02    3\n",
       "2000-01-03    4\n",
       "dtype: int32"
      ]
     },
     "execution_count": 93,
     "metadata": {},
     "output_type": "execute_result"
    }
   ],
   "source": [
    "dup_ts"
   ]
  },
  {
   "cell_type": "code",
   "execution_count": 94,
   "metadata": {},
   "outputs": [
    {
     "data": {
      "text/plain": [
       "False"
      ]
     },
     "execution_count": 94,
     "metadata": {},
     "output_type": "execute_result"
    }
   ],
   "source": [
    "# is_unique: 检查唯一性\n",
    "\n",
    "dup_ts.index.is_unique"
   ]
  },
  {
   "cell_type": "code",
   "execution_count": 95,
   "metadata": {},
   "outputs": [
    {
     "data": {
      "text/plain": [
       "4"
      ]
     },
     "execution_count": 95,
     "metadata": {},
     "output_type": "execute_result"
    }
   ],
   "source": [
    "# 对其进行【索引】，产生标量值，或切片\n",
    "\n",
    "dup_ts['1/3/2000']  # 不重复"
   ]
  },
  {
   "cell_type": "code",
   "execution_count": 96,
   "metadata": {},
   "outputs": [
    {
     "data": {
      "text/plain": [
       "2000-01-02    1\n",
       "2000-01-02    2\n",
       "2000-01-02    3\n",
       "dtype: int32"
      ]
     },
     "execution_count": 96,
     "metadata": {},
     "output_type": "execute_result"
    }
   ],
   "source": [
    "dup_ts['1/2/2000']  # 重复"
   ]
  },
  {
   "cell_type": "code",
   "execution_count": 97,
   "metadata": {},
   "outputs": [],
   "source": [
    "# 对具有非唯一时间戳的数据进行聚合：使用groupby,并传入level=0\n",
    "\n",
    "grouped = dup_ts.groupby(level=0)"
   ]
  },
  {
   "cell_type": "code",
   "execution_count": 98,
   "metadata": {},
   "outputs": [
    {
     "data": {
      "text/plain": [
       "2000-01-01    0\n",
       "2000-01-02    2\n",
       "2000-01-03    4\n",
       "dtype: int32"
      ]
     },
     "execution_count": 98,
     "metadata": {},
     "output_type": "execute_result"
    }
   ],
   "source": [
    "grouped.mean()"
   ]
  },
  {
   "cell_type": "code",
   "execution_count": 99,
   "metadata": {},
   "outputs": [
    {
     "data": {
      "text/plain": [
       "2000-01-01    1\n",
       "2000-01-02    3\n",
       "2000-01-03    1\n",
       "dtype: int64"
      ]
     },
     "execution_count": 99,
     "metadata": {},
     "output_type": "execute_result"
    }
   ],
   "source": [
    "grouped.count()"
   ]
  },
  {
   "cell_type": "markdown",
   "metadata": {},
   "source": [
    "## 11.3 时间的范围、频率以及移动"
   ]
  },
  {
   "cell_type": "code",
   "execution_count": 100,
   "metadata": {},
   "outputs": [
    {
     "data": {
      "text/plain": [
       "2011-01-02    0.117528\n",
       "2011-01-05   -0.387471\n",
       "2011-01-07   -1.923490\n",
       "2011-01-08   -1.489916\n",
       "2011-01-10    0.721142\n",
       "2011-01-12   -0.543977\n",
       "dtype: float64"
      ]
     },
     "execution_count": 100,
     "metadata": {},
     "output_type": "execute_result"
    }
   ],
   "source": [
    "# pandas有一整套标准时间序列频率以及用于重采样、频率推断、生成固定频率日期范围的工具\n",
    "# 如：可以将之前那个时间序列转换为一个具有固定频率（每日）的时间序列，只需调用resample即可\n",
    "\n",
    "ts"
   ]
  },
  {
   "cell_type": "code",
   "execution_count": 101,
   "metadata": {},
   "outputs": [],
   "source": [
    "resampler = ts.resample(\"D\")  # D:每天"
   ]
  },
  {
   "cell_type": "code",
   "execution_count": 102,
   "metadata": {},
   "outputs": [
    {
     "data": {
      "text/plain": [
       "DatetimeIndexResampler [freq=<Day>, axis=0, closed=left, label=left, convention=start, base=0]"
      ]
     },
     "execution_count": 102,
     "metadata": {},
     "output_type": "execute_result"
    }
   ],
   "source": [
    "resampler"
   ]
  },
  {
   "cell_type": "markdown",
   "metadata": {},
   "source": [
    "## 11.3.1 生成日期范围"
   ]
  },
  {
   "cell_type": "code",
   "execution_count": 103,
   "metadata": {},
   "outputs": [],
   "source": [
    "# pandas.date_range():可用于根据指定的频率生成指定长度的DatetimeIndex\n",
    "# 默认情况下，date_range():会产生按天计算的时间点\n",
    "\n",
    "index = pd.date_range('2012-04-01', '2012-06-01')"
   ]
  },
  {
   "cell_type": "code",
   "execution_count": 104,
   "metadata": {},
   "outputs": [
    {
     "data": {
      "text/plain": [
       "DatetimeIndex(['2012-04-01', '2012-04-02', '2012-04-03', '2012-04-04',\n",
       "               '2012-04-05', '2012-04-06', '2012-04-07', '2012-04-08',\n",
       "               '2012-04-09', '2012-04-10', '2012-04-11', '2012-04-12',\n",
       "               '2012-04-13', '2012-04-14', '2012-04-15', '2012-04-16',\n",
       "               '2012-04-17', '2012-04-18', '2012-04-19', '2012-04-20',\n",
       "               '2012-04-21', '2012-04-22', '2012-04-23', '2012-04-24',\n",
       "               '2012-04-25', '2012-04-26', '2012-04-27', '2012-04-28',\n",
       "               '2012-04-29', '2012-04-30', '2012-05-01', '2012-05-02',\n",
       "               '2012-05-03', '2012-05-04', '2012-05-05', '2012-05-06',\n",
       "               '2012-05-07', '2012-05-08', '2012-05-09', '2012-05-10',\n",
       "               '2012-05-11', '2012-05-12', '2012-05-13', '2012-05-14',\n",
       "               '2012-05-15', '2012-05-16', '2012-05-17', '2012-05-18',\n",
       "               '2012-05-19', '2012-05-20', '2012-05-21', '2012-05-22',\n",
       "               '2012-05-23', '2012-05-24', '2012-05-25', '2012-05-26',\n",
       "               '2012-05-27', '2012-05-28', '2012-05-29', '2012-05-30',\n",
       "               '2012-05-31', '2012-06-01'],\n",
       "              dtype='datetime64[ns]', freq='D')"
      ]
     },
     "execution_count": 104,
     "metadata": {},
     "output_type": "execute_result"
    }
   ],
   "source": [
    "index"
   ]
  },
  {
   "cell_type": "code",
   "execution_count": 105,
   "metadata": {},
   "outputs": [
    {
     "data": {
      "text/plain": [
       "DatetimeIndex(['2012-04-01', '2012-04-02', '2012-04-03', '2012-04-04',\n",
       "               '2012-04-05', '2012-04-06', '2012-04-07', '2012-04-08',\n",
       "               '2012-04-09', '2012-04-10', '2012-04-11', '2012-04-12',\n",
       "               '2012-04-13', '2012-04-14', '2012-04-15', '2012-04-16',\n",
       "               '2012-04-17', '2012-04-18', '2012-04-19', '2012-04-20'],\n",
       "              dtype='datetime64[ns]', freq='D')"
      ]
     },
     "execution_count": 105,
     "metadata": {},
     "output_type": "execute_result"
    }
   ],
   "source": [
    "# 如果只传入【起始】或【结束】日期，那就还得传入一个表示一片时间的数字\n",
    "\n",
    "pd.date_range(start='2012-04-01', periods=20)  # periods:天数"
   ]
  },
  {
   "cell_type": "code",
   "execution_count": 53,
   "metadata": {},
   "outputs": [
    {
     "data": {
      "text/plain": [
       "DatetimeIndex(['2012-05-13', '2012-05-14', '2012-05-15', '2012-05-16',\n",
       "               '2012-05-17', '2012-05-18', '2012-05-19', '2012-05-20',\n",
       "               '2012-05-21', '2012-05-22', '2012-05-23', '2012-05-24',\n",
       "               '2012-05-25', '2012-05-26', '2012-05-27', '2012-05-28',\n",
       "               '2012-05-29', '2012-05-30', '2012-05-31', '2012-06-01'],\n",
       "              dtype='datetime64[ns]', freq='D')"
      ]
     },
     "execution_count": 53,
     "metadata": {},
     "output_type": "execute_result"
    }
   ],
   "source": [
    "pd.date_range(end='2012-06-01', periods=20)"
   ]
  },
  {
   "cell_type": "code",
   "execution_count": 56,
   "metadata": {},
   "outputs": [
    {
     "data": {
      "text/plain": [
       "DatetimeIndex(['2000-01-31', '2000-02-29', '2000-03-31', '2000-04-28',\n",
       "               '2000-05-31', '2000-06-30', '2000-07-31', '2000-08-31',\n",
       "               '2000-09-29', '2000-10-31', '2000-11-30'],\n",
       "              dtype='datetime64[ns]', freq='BM')"
      ]
     },
     "execution_count": 56,
     "metadata": {},
     "output_type": "execute_result"
    }
   ],
   "source": [
    "# 【起始】和【结束】日期定义了日期索引的严格边界\n",
    "# 例如：如果想要生成一个由【每月最后一个工作日】组成的日期索引，可以传入“BM”频率（表示business end of month,表11-4是频率列表），\n",
    "#       这样就只会包含时间间隔内（或刚好在边界上的）符合频率要求的时期\n",
    "\n",
    "pd.date_range('2000-01-01', '2000-12-01', freq='BM')"
   ]
  },
  {
   "cell_type": "code",
   "execution_count": 106,
   "metadata": {},
   "outputs": [
    {
     "data": {
      "text/html": [
       "<img src=\"picture/表11-4 基本的时间序列频率(1).png\">\n",
       "<img src=\"picture/表11-4 基本的时间序列频率(2).png\">\n",
       "<img src=\"picture/表11-4 基本的时间序列频率(3).png\">\n"
      ],
      "text/plain": [
       "<IPython.core.display.HTML object>"
      ]
     },
     "metadata": {},
     "output_type": "display_data"
    }
   ],
   "source": [
    "%%html\n",
    "<img src=\"picture/表11-4 基本的时间序列频率(1).png\">\n",
    "<img src=\"picture/表11-4 基本的时间序列频率(2).png\">\n",
    "<img src=\"picture/表11-4 基本的时间序列频率(3).png\">"
   ]
  },
  {
   "cell_type": "code",
   "execution_count": 107,
   "metadata": {},
   "outputs": [
    {
     "data": {
      "text/plain": [
       "DatetimeIndex(['2012-05-02 12:56:31', '2012-05-03 12:56:31',\n",
       "               '2012-05-04 12:56:31', '2012-05-05 12:56:31',\n",
       "               '2012-05-06 12:56:31'],\n",
       "              dtype='datetime64[ns]', freq='D')"
      ]
     },
     "execution_count": 107,
     "metadata": {},
     "output_type": "execute_result"
    }
   ],
   "source": [
    "# date_range():默认会保留起始和结束时间戳的时间信息（如果有的话）\n",
    "\n",
    "pd.date_range('2012-05-02 12:56:31', periods=5)"
   ]
  },
  {
   "cell_type": "code",
   "execution_count": 108,
   "metadata": {},
   "outputs": [
    {
     "data": {
      "text/plain": [
       "DatetimeIndex(['2012-05-02', '2012-05-03', '2012-05-04', '2012-05-05',\n",
       "               '2012-05-06'],\n",
       "              dtype='datetime64[ns]', freq='D')"
      ]
     },
     "execution_count": 108,
     "metadata": {},
     "output_type": "execute_result"
    }
   ],
   "source": [
    "# 有时，虽然【起始】和【结束】日期带有时间信息，但你希望产生一组被规范化(normalize)到午夜的时间戳\n",
    "# 可由 normalize选项实现\n",
    "\n",
    "pd.date_range('2012-05-02 12:56:31', periods=5, normalize=True)"
   ]
  },
  {
   "cell_type": "markdown",
   "metadata": {},
   "source": [
    "## 11.3.2 频率和日期偏移量"
   ]
  },
  {
   "cell_type": "code",
   "execution_count": 109,
   "metadata": {},
   "outputs": [],
   "source": [
    "# pandas中的频率是由一个基础频率（base frequency）和一个乘数组成的。\n",
    "# 基础频率通常以一个字符串别名表示，比如\"M\"表示每月，\"H\"表示每小时。\n",
    "# 对于每个基础频率，都有一个被称为日期偏移量（date offset）的对象与之对应。\n",
    "# 例如，按小时计算的频率可以用Hour类表示：\n",
    "\n",
    "from pandas.tseries.offsets import Hour, Minute"
   ]
  },
  {
   "cell_type": "code",
   "execution_count": 110,
   "metadata": {},
   "outputs": [],
   "source": [
    "hour = Hour()"
   ]
  },
  {
   "cell_type": "code",
   "execution_count": 111,
   "metadata": {},
   "outputs": [
    {
     "data": {
      "text/plain": [
       "<Hour>"
      ]
     },
     "execution_count": 111,
     "metadata": {},
     "output_type": "execute_result"
    }
   ],
   "source": [
    "hour"
   ]
  },
  {
   "cell_type": "code",
   "execution_count": 112,
   "metadata": {},
   "outputs": [],
   "source": [
    "# 传入一个整数即可定义偏移量的倍数\n",
    "\n",
    "four_hours = Hour(4)"
   ]
  },
  {
   "cell_type": "code",
   "execution_count": 113,
   "metadata": {},
   "outputs": [
    {
     "data": {
      "text/plain": [
       "<4 * Hours>"
      ]
     },
     "execution_count": 113,
     "metadata": {},
     "output_type": "execute_result"
    }
   ],
   "source": [
    "four_hours"
   ]
  },
  {
   "cell_type": "code",
   "execution_count": 114,
   "metadata": {},
   "outputs": [
    {
     "data": {
      "text/plain": [
       "DatetimeIndex(['2000-01-01 00:00:00', '2000-01-01 04:00:00',\n",
       "               '2000-01-01 08:00:00', '2000-01-01 12:00:00',\n",
       "               '2000-01-01 16:00:00', '2000-01-01 20:00:00',\n",
       "               '2000-01-02 00:00:00', '2000-01-02 04:00:00',\n",
       "               '2000-01-02 08:00:00', '2000-01-02 12:00:00',\n",
       "               '2000-01-02 16:00:00', '2000-01-02 20:00:00',\n",
       "               '2000-01-03 00:00:00', '2000-01-03 04:00:00',\n",
       "               '2000-01-03 08:00:00', '2000-01-03 12:00:00',\n",
       "               '2000-01-03 16:00:00', '2000-01-03 20:00:00'],\n",
       "              dtype='datetime64[ns]', freq='4H')"
      ]
     },
     "execution_count": 114,
     "metadata": {},
     "output_type": "execute_result"
    }
   ],
   "source": [
    "# 在基础频率前面放上一个整数即可创建倍数\n",
    "\n",
    "pd.date_range('2000-01-01', '2000-01-03 23:59', freq='4h')"
   ]
  },
  {
   "cell_type": "code",
   "execution_count": 115,
   "metadata": {},
   "outputs": [
    {
     "data": {
      "text/plain": [
       "<150 * Minutes>"
      ]
     },
     "execution_count": 115,
     "metadata": {},
     "output_type": "execute_result"
    }
   ],
   "source": [
    "# 大部分偏移量都可通过加法进行连接\n",
    "\n",
    "Hour(2) + Minute(30)"
   ]
  },
  {
   "cell_type": "code",
   "execution_count": 116,
   "metadata": {},
   "outputs": [
    {
     "data": {
      "text/plain": [
       "DatetimeIndex(['2000-01-01 00:00:00', '2000-01-01 02:30:00',\n",
       "               '2000-01-01 05:00:00', '2000-01-01 07:30:00',\n",
       "               '2000-01-01 10:00:00', '2000-01-01 12:30:00',\n",
       "               '2000-01-01 15:00:00', '2000-01-01 17:30:00',\n",
       "               '2000-01-01 20:00:00', '2000-01-01 22:30:00'],\n",
       "              dtype='datetime64[ns]', freq='150T')"
      ]
     },
     "execution_count": 116,
     "metadata": {},
     "output_type": "execute_result"
    }
   ],
   "source": [
    "# 同时，也可以传入频率字符串（如“2h30min”）\n",
    "# 这样字符串可以被高效地解析为等效的表达式\n",
    "\n",
    "pd.date_range('2000-01-01', periods=10, freq='2h30min')"
   ]
  },
  {
   "cell_type": "code",
   "execution_count": 117,
   "metadata": {},
   "outputs": [
    {
     "data": {
      "text/html": [
       "<img src=\"picture/表11-4 时间序列的基础频率(1).png\">\n",
       "<img src=\"picture/表11-4 时间序列的基础频率(2).png\">\n",
       "<img src=\"picture/表11-4 时间序列的基础频率(3).png\">\n"
      ],
      "text/plain": [
       "<IPython.core.display.HTML object>"
      ]
     },
     "metadata": {},
     "output_type": "display_data"
    }
   ],
   "source": [
    "%%html\n",
    "<img src=\"picture/表11-4 时间序列的基础频率(1).png\">\n",
    "<img src=\"picture/表11-4 时间序列的基础频率(2).png\">\n",
    "<img src=\"picture/表11-4 时间序列的基础频率(3).png\">"
   ]
  },
  {
   "cell_type": "markdown",
   "metadata": {},
   "source": [
    "## 11.3.3 WOM日期"
   ]
  },
  {
   "cell_type": "code",
   "execution_count": 118,
   "metadata": {},
   "outputs": [],
   "source": [
    "# WOM(Week Of Month)是一种非常实用的频率类，以WOM开关\n",
    "# 使你能获得诸如“每月第3个星期五”之类的日期\n",
    "\n",
    "rng = pd.date_range('2012-01-01', '2012-09-01', freq='WOM-3FRI')"
   ]
  },
  {
   "cell_type": "code",
   "execution_count": 119,
   "metadata": {},
   "outputs": [
    {
     "data": {
      "text/plain": [
       "[Timestamp('2012-01-20 00:00:00', freq='WOM-3FRI'),\n",
       " Timestamp('2012-02-17 00:00:00', freq='WOM-3FRI'),\n",
       " Timestamp('2012-03-16 00:00:00', freq='WOM-3FRI'),\n",
       " Timestamp('2012-04-20 00:00:00', freq='WOM-3FRI'),\n",
       " Timestamp('2012-05-18 00:00:00', freq='WOM-3FRI'),\n",
       " Timestamp('2012-06-15 00:00:00', freq='WOM-3FRI'),\n",
       " Timestamp('2012-07-20 00:00:00', freq='WOM-3FRI'),\n",
       " Timestamp('2012-08-17 00:00:00', freq='WOM-3FRI')]"
      ]
     },
     "execution_count": 119,
     "metadata": {},
     "output_type": "execute_result"
    }
   ],
   "source": [
    "list(rng)"
   ]
  },
  {
   "cell_type": "markdown",
   "metadata": {},
   "source": [
    "## 11.3.4 移动（超前和滞后）数据"
   ]
  },
  {
   "cell_type": "code",
   "execution_count": 120,
   "metadata": {},
   "outputs": [],
   "source": [
    "# 移动(shifting)：沿着时间轴将数据前移或后移\n",
    "# Series和DataFrame都有一个shift方法用于执行单纯的前移或后移操作，保持索引不变\n",
    "\n",
    "ts = pd.Series(np.random.randn(4),\n",
    "               index=pd.date_range('1/1/2000', periods=4, freq='M'))"
   ]
  },
  {
   "cell_type": "code",
   "execution_count": 121,
   "metadata": {},
   "outputs": [
    {
     "data": {
      "text/plain": [
       "2000-01-31    1.049113\n",
       "2000-02-29   -0.277376\n",
       "2000-03-31    0.286207\n",
       "2000-04-30    0.185004\n",
       "Freq: M, dtype: float64"
      ]
     },
     "execution_count": 121,
     "metadata": {},
     "output_type": "execute_result"
    }
   ],
   "source": [
    "ts"
   ]
  },
  {
   "cell_type": "code",
   "execution_count": 122,
   "metadata": {},
   "outputs": [
    {
     "data": {
      "text/plain": [
       "2000-01-31         NaN\n",
       "2000-02-29         NaN\n",
       "2000-03-31    1.049113\n",
       "2000-04-30   -0.277376\n",
       "Freq: M, dtype: float64"
      ]
     },
     "execution_count": 122,
     "metadata": {},
     "output_type": "execute_result"
    }
   ],
   "source": [
    "# 当我们这样进行移动时，就会在时间序列的前面或后面产生缺失数据\n",
    "\n",
    "ts.shift(2)"
   ]
  },
  {
   "cell_type": "code",
   "execution_count": 123,
   "metadata": {},
   "outputs": [
    {
     "data": {
      "text/plain": [
       "2000-01-31    0.286207\n",
       "2000-02-29    0.185004\n",
       "2000-03-31         NaN\n",
       "2000-04-30         NaN\n",
       "Freq: M, dtype: float64"
      ]
     },
     "execution_count": 123,
     "metadata": {},
     "output_type": "execute_result"
    }
   ],
   "source": [
    "ts.shift(-2)"
   ]
  },
  {
   "cell_type": "code",
   "execution_count": 124,
   "metadata": {},
   "outputs": [
    {
     "data": {
      "text/plain": [
       "2000-01-31         NaN\n",
       "2000-02-29   -1.264391\n",
       "2000-03-31   -2.031834\n",
       "2000-04-30   -0.353601\n",
       "Freq: M, dtype: float64"
      ]
     },
     "execution_count": 124,
     "metadata": {},
     "output_type": "execute_result"
    }
   ],
   "source": [
    "# shift：通常用于计算一个时间序列或多个时间序列（如DataFrame的列）中的百分比变化\n",
    "\n",
    "ts / ts.shift(1) - 1"
   ]
  },
  {
   "cell_type": "code",
   "execution_count": 125,
   "metadata": {},
   "outputs": [
    {
     "data": {
      "text/plain": [
       "2000-03-31    1.049113\n",
       "2000-04-30   -0.277376\n",
       "2000-05-31    0.286207\n",
       "2000-06-30    0.185004\n",
       "Freq: M, dtype: float64"
      ]
     },
     "execution_count": 125,
     "metadata": {},
     "output_type": "execute_result"
    }
   ],
   "source": [
    "# 由于单纯的移位操作不会修改索引，所以部分数据会被丢弃。\n",
    "# 因此，如果频率已知，则可以将其传给shift以便实现【对时间戳进行位移】而不是对数据进行简单位移：\n",
    "\n",
    "ts.shift(2, freq='M')"
   ]
  },
  {
   "cell_type": "code",
   "execution_count": 126,
   "metadata": {},
   "outputs": [
    {
     "data": {
      "text/plain": [
       "2000-02-03    1.049113\n",
       "2000-03-03   -0.277376\n",
       "2000-04-03    0.286207\n",
       "2000-05-03    0.185004\n",
       "dtype: float64"
      ]
     },
     "execution_count": 126,
     "metadata": {},
     "output_type": "execute_result"
    }
   ],
   "source": [
    "# 这里还可以使用其他频率，于是你就能非常灵活地对数据进行超前和滞后处理了：\n",
    "\n",
    "ts.shift(3, freq='D')"
   ]
  },
  {
   "cell_type": "code",
   "execution_count": 127,
   "metadata": {},
   "outputs": [
    {
     "data": {
      "text/plain": [
       "2000-01-31 01:30:00    1.049113\n",
       "2000-02-29 01:30:00   -0.277376\n",
       "2000-03-31 01:30:00    0.286207\n",
       "2000-04-30 01:30:00    0.185004\n",
       "Freq: M, dtype: float64"
      ]
     },
     "execution_count": 127,
     "metadata": {},
     "output_type": "execute_result"
    }
   ],
   "source": [
    "ts.shift(1, freq='90T')"
   ]
  },
  {
   "cell_type": "markdown",
   "metadata": {},
   "source": [
    "## 11.3.5 通过偏移量对日期进行位移"
   ]
  },
  {
   "cell_type": "code",
   "execution_count": 128,
   "metadata": {},
   "outputs": [],
   "source": [
    "# pandas的日期偏移量还可以用在datetime或Timestamp对象上\n",
    "\n",
    "from pandas.tseries.offsets import Day, MonthEnd"
   ]
  },
  {
   "cell_type": "code",
   "execution_count": 129,
   "metadata": {},
   "outputs": [],
   "source": [
    "now = datetime(2011, 11, 17)"
   ]
  },
  {
   "cell_type": "code",
   "execution_count": 130,
   "metadata": {},
   "outputs": [
    {
     "data": {
      "text/plain": [
       "Timestamp('2011-11-20 00:00:00')"
      ]
     },
     "execution_count": 130,
     "metadata": {},
     "output_type": "execute_result"
    }
   ],
   "source": [
    "now + 3*Day()"
   ]
  },
  {
   "cell_type": "code",
   "execution_count": 131,
   "metadata": {},
   "outputs": [
    {
     "data": {
      "text/plain": [
       "Timestamp('2011-11-30 00:00:00')"
      ]
     },
     "execution_count": 131,
     "metadata": {},
     "output_type": "execute_result"
    }
   ],
   "source": [
    "# 如果加的是锚点偏移量（比如MonthEnd），第一次增量会将原日期向前滚动到符合频率规则的下一个日期\n",
    "\n",
    "now + MonthEnd()"
   ]
  },
  {
   "cell_type": "code",
   "execution_count": 132,
   "metadata": {},
   "outputs": [
    {
     "data": {
      "text/plain": [
       "Timestamp('2011-12-31 00:00:00')"
      ]
     },
     "execution_count": 132,
     "metadata": {},
     "output_type": "execute_result"
    }
   ],
   "source": [
    "now + MonthEnd(2)"
   ]
  },
  {
   "cell_type": "code",
   "execution_count": 133,
   "metadata": {},
   "outputs": [],
   "source": [
    "# 通过锚点偏移量的rollfroward or rollback方法，可明确地将日期向前或身后“游动”\n",
    "\n",
    "offset = MonthEnd()"
   ]
  },
  {
   "cell_type": "code",
   "execution_count": 134,
   "metadata": {},
   "outputs": [
    {
     "data": {
      "text/plain": [
       "Timestamp('2011-11-30 00:00:00')"
      ]
     },
     "execution_count": 134,
     "metadata": {},
     "output_type": "execute_result"
    }
   ],
   "source": [
    "offset.rollforward(now)"
   ]
  },
  {
   "cell_type": "code",
   "execution_count": 135,
   "metadata": {},
   "outputs": [
    {
     "data": {
      "text/plain": [
       "Timestamp('2011-10-31 00:00:00')"
      ]
     },
     "execution_count": 135,
     "metadata": {},
     "output_type": "execute_result"
    }
   ],
   "source": [
    "offset.rollback(now)"
   ]
  },
  {
   "cell_type": "code",
   "execution_count": 136,
   "metadata": {},
   "outputs": [],
   "source": [
    "# 还可结合groupby，使用这两个“滚动”方法\n",
    "\n",
    "ts = pd.Series(np.random.randn(20),\n",
    "               index=pd.date_range('1/15/2000', periods=20, freq='4d'))"
   ]
  },
  {
   "cell_type": "code",
   "execution_count": 137,
   "metadata": {},
   "outputs": [
    {
     "data": {
      "text/plain": [
       "2000-01-15   -1.281223\n",
       "2000-01-19   -0.108171\n",
       "2000-01-23    0.574072\n",
       "2000-01-27   -0.637839\n",
       "2000-01-31    0.691431\n",
       "2000-02-04   -0.406499\n",
       "2000-02-08    0.619517\n",
       "2000-02-12   -0.321950\n",
       "2000-02-16    0.857689\n",
       "2000-02-20   -0.310520\n",
       "2000-02-24   -0.158562\n",
       "2000-02-28   -0.561704\n",
       "2000-03-03   -0.907014\n",
       "2000-03-07   -0.865063\n",
       "2000-03-11   -0.537026\n",
       "2000-03-15   -0.664494\n",
       "2000-03-19    1.320738\n",
       "2000-03-23   -1.737383\n",
       "2000-03-27   -0.448405\n",
       "2000-03-31    0.363075\n",
       "Freq: 4D, dtype: float64"
      ]
     },
     "execution_count": 137,
     "metadata": {},
     "output_type": "execute_result"
    }
   ],
   "source": [
    "ts"
   ]
  },
  {
   "cell_type": "code",
   "execution_count": 138,
   "metadata": {},
   "outputs": [
    {
     "data": {
      "text/plain": [
       "2000-01-31   -0.152346\n",
       "2000-02-29   -0.040290\n",
       "2000-03-31   -0.434446\n",
       "dtype: float64"
      ]
     },
     "execution_count": 138,
     "metadata": {},
     "output_type": "execute_result"
    }
   ],
   "source": [
    "ts.groupby(offset.rollforward).mean()"
   ]
  },
  {
   "cell_type": "code",
   "execution_count": 139,
   "metadata": {},
   "outputs": [
    {
     "data": {
      "text/plain": [
       "2000-01-31   -0.152346\n",
       "2000-02-29   -0.040290\n",
       "2000-03-31   -0.434446\n",
       "Freq: M, dtype: float64"
      ]
     },
     "execution_count": 139,
     "metadata": {},
     "output_type": "execute_result"
    }
   ],
   "source": [
    "# 也可使用resample\n",
    "\n",
    "ts.resample('M').mean()"
   ]
  },
  {
   "cell_type": "markdown",
   "metadata": {},
   "source": [
    "# 11.4 时区处理"
   ]
  },
  {
   "cell_type": "code",
   "execution_count": 140,
   "metadata": {},
   "outputs": [],
   "source": [
    "import pytz"
   ]
  },
  {
   "cell_type": "code",
   "execution_count": 106,
   "metadata": {},
   "outputs": [
    {
     "data": {
      "text/plain": [
       "['US/Eastern', 'US/Hawaii', 'US/Mountain', 'US/Pacific', 'UTC']"
      ]
     },
     "execution_count": 106,
     "metadata": {},
     "output_type": "execute_result"
    }
   ],
   "source": [
    "pytz.common_timezones[-5: ]"
   ]
  },
  {
   "cell_type": "code",
   "execution_count": 107,
   "metadata": {},
   "outputs": [],
   "source": [
    "# 要从pytz中获取时区对象，使用pytz.timezone即可\n",
    "\n",
    "tz = pytz.timezone('America/New_York')"
   ]
  },
  {
   "cell_type": "code",
   "execution_count": 108,
   "metadata": {},
   "outputs": [
    {
     "data": {
      "text/plain": [
       "<DstTzInfo 'America/New_York' LMT-1 day, 19:04:00 STD>"
      ]
     },
     "execution_count": 108,
     "metadata": {},
     "output_type": "execute_result"
    }
   ],
   "source": [
    "tz"
   ]
  },
  {
   "cell_type": "markdown",
   "metadata": {},
   "source": [
    "## 11.4.1 时区本地化和转换"
   ]
  },
  {
   "cell_type": "code",
   "execution_count": 3,
   "metadata": {},
   "outputs": [],
   "source": [
    "# 默认情况下，pandas中的时间序列是单纯(naive)的时区\n",
    "\n",
    "rng = pd.date_range('3/9/2012 9:30', periods=6, freq='D')"
   ]
  },
  {
   "cell_type": "code",
   "execution_count": 4,
   "metadata": {},
   "outputs": [],
   "source": [
    "ts = pd.Series(np.random.randn(len(rng)), index=rng)"
   ]
  },
  {
   "cell_type": "code",
   "execution_count": 5,
   "metadata": {},
   "outputs": [
    {
     "data": {
      "text/plain": [
       "2012-03-09 09:30:00   -1.079959\n",
       "2012-03-10 09:30:00   -0.765579\n",
       "2012-03-11 09:30:00    0.556414\n",
       "2012-03-12 09:30:00    0.252214\n",
       "2012-03-13 09:30:00   -2.052752\n",
       "2012-03-14 09:30:00   -0.600095\n",
       "Freq: D, dtype: float64"
      ]
     },
     "execution_count": 5,
     "metadata": {},
     "output_type": "execute_result"
    }
   ],
   "source": [
    "ts"
   ]
  },
  {
   "cell_type": "code",
   "execution_count": 8,
   "metadata": {},
   "outputs": [
    {
     "name": "stdout",
     "output_type": "stream",
     "text": [
      "None\n"
     ]
    }
   ],
   "source": [
    "# 其索引的tz字段为None\n",
    "\n",
    "print(ts.index.tz)"
   ]
  },
  {
   "cell_type": "code",
   "execution_count": 9,
   "metadata": {},
   "outputs": [
    {
     "data": {
      "text/plain": [
       "DatetimeIndex(['2012-03-09 09:30:00+00:00', '2012-03-10 09:30:00+00:00',\n",
       "               '2012-03-11 09:30:00+00:00', '2012-03-12 09:30:00+00:00',\n",
       "               '2012-03-13 09:30:00+00:00', '2012-03-14 09:30:00+00:00',\n",
       "               '2012-03-15 09:30:00+00:00', '2012-03-16 09:30:00+00:00',\n",
       "               '2012-03-17 09:30:00+00:00', '2012-03-18 09:30:00+00:00'],\n",
       "              dtype='datetime64[ns, UTC]', freq='D')"
      ]
     },
     "execution_count": 9,
     "metadata": {},
     "output_type": "execute_result"
    }
   ],
   "source": [
    "# 可以用时区集生成日期范围\n",
    "\n",
    "pd.date_range('3/9/2012 9:30', periods=10, freq='D', tz='UTC')"
   ]
  },
  {
   "cell_type": "code",
   "execution_count": 10,
   "metadata": {},
   "outputs": [
    {
     "data": {
      "text/plain": [
       "2012-03-09 09:30:00   -1.079959\n",
       "2012-03-10 09:30:00   -0.765579\n",
       "2012-03-11 09:30:00    0.556414\n",
       "2012-03-12 09:30:00    0.252214\n",
       "2012-03-13 09:30:00   -2.052752\n",
       "2012-03-14 09:30:00   -0.600095\n",
       "Freq: D, dtype: float64"
      ]
     },
     "execution_count": 10,
     "metadata": {},
     "output_type": "execute_result"
    }
   ],
   "source": [
    "# instance.tz_localize(): 从单纯到本地化的转换\n",
    "\n",
    "ts"
   ]
  },
  {
   "cell_type": "code",
   "execution_count": 11,
   "metadata": {},
   "outputs": [],
   "source": [
    "ts_utc = ts.tz_localize(\"UTC\")"
   ]
  },
  {
   "cell_type": "code",
   "execution_count": 12,
   "metadata": {},
   "outputs": [
    {
     "data": {
      "text/plain": [
       "2012-03-09 09:30:00+00:00   -1.079959\n",
       "2012-03-10 09:30:00+00:00   -0.765579\n",
       "2012-03-11 09:30:00+00:00    0.556414\n",
       "2012-03-12 09:30:00+00:00    0.252214\n",
       "2012-03-13 09:30:00+00:00   -2.052752\n",
       "2012-03-14 09:30:00+00:00   -0.600095\n",
       "Freq: D, dtype: float64"
      ]
     },
     "execution_count": 12,
     "metadata": {},
     "output_type": "execute_result"
    }
   ],
   "source": [
    "ts_utc"
   ]
  },
  {
   "cell_type": "code",
   "execution_count": 13,
   "metadata": {},
   "outputs": [
    {
     "data": {
      "text/plain": [
       "DatetimeIndex(['2012-03-09 09:30:00+00:00', '2012-03-10 09:30:00+00:00',\n",
       "               '2012-03-11 09:30:00+00:00', '2012-03-12 09:30:00+00:00',\n",
       "               '2012-03-13 09:30:00+00:00', '2012-03-14 09:30:00+00:00'],\n",
       "              dtype='datetime64[ns, UTC]', freq='D')"
      ]
     },
     "execution_count": 13,
     "metadata": {},
     "output_type": "execute_result"
    }
   ],
   "source": [
    "ts_utc.index"
   ]
  },
  {
   "cell_type": "code",
   "execution_count": 14,
   "metadata": {},
   "outputs": [
    {
     "data": {
      "text/plain": [
       "2012-03-09 04:30:00-05:00   -1.079959\n",
       "2012-03-10 04:30:00-05:00   -0.765579\n",
       "2012-03-11 05:30:00-04:00    0.556414\n",
       "2012-03-12 05:30:00-04:00    0.252214\n",
       "2012-03-13 05:30:00-04:00   -2.052752\n",
       "2012-03-14 05:30:00-04:00   -0.600095\n",
       "Freq: D, dtype: float64"
      ]
     },
     "execution_count": 14,
     "metadata": {},
     "output_type": "execute_result"
    }
   ],
   "source": [
    "# 一旦时间序列被本地化到某个特定时区，就可以用tz_convert将其转换到别的时区\n",
    "\n",
    "ts_utc.tz_convert(\"America/New_York\")"
   ]
  },
  {
   "cell_type": "code",
   "execution_count": 15,
   "metadata": {},
   "outputs": [],
   "source": [
    "# 对于上面这种时间序列（它跨越了美国东部时间的夏令时转变期），\n",
    "# 我们可以将其本地化到EST，然后转换为UTC或柏林时间\n",
    "\n",
    "ts_eastern = ts.tz_localize('America/New_York')"
   ]
  },
  {
   "cell_type": "code",
   "execution_count": 16,
   "metadata": {},
   "outputs": [
    {
     "data": {
      "text/plain": [
       "2012-03-09 14:30:00+00:00   -1.079959\n",
       "2012-03-10 14:30:00+00:00   -0.765579\n",
       "2012-03-11 13:30:00+00:00    0.556414\n",
       "2012-03-12 13:30:00+00:00    0.252214\n",
       "2012-03-13 13:30:00+00:00   -2.052752\n",
       "2012-03-14 13:30:00+00:00   -0.600095\n",
       "Freq: D, dtype: float64"
      ]
     },
     "execution_count": 16,
     "metadata": {},
     "output_type": "execute_result"
    }
   ],
   "source": [
    "ts_eastern.tz_convert('UTC')"
   ]
  },
  {
   "cell_type": "code",
   "execution_count": 17,
   "metadata": {},
   "outputs": [
    {
     "data": {
      "text/plain": [
       "2012-03-09 15:30:00+01:00   -1.079959\n",
       "2012-03-10 15:30:00+01:00   -0.765579\n",
       "2012-03-11 14:30:00+01:00    0.556414\n",
       "2012-03-12 14:30:00+01:00    0.252214\n",
       "2012-03-13 14:30:00+01:00   -2.052752\n",
       "2012-03-14 14:30:00+01:00   -0.600095\n",
       "Freq: D, dtype: float64"
      ]
     },
     "execution_count": 17,
     "metadata": {},
     "output_type": "execute_result"
    }
   ],
   "source": [
    "ts_eastern.tz_convert('Europe/Berlin')"
   ]
  },
  {
   "cell_type": "code",
   "execution_count": 18,
   "metadata": {},
   "outputs": [
    {
     "data": {
      "text/plain": [
       "DatetimeIndex(['2012-03-09 09:30:00+08:00', '2012-03-10 09:30:00+08:00',\n",
       "               '2012-03-11 09:30:00+08:00', '2012-03-12 09:30:00+08:00',\n",
       "               '2012-03-13 09:30:00+08:00', '2012-03-14 09:30:00+08:00'],\n",
       "              dtype='datetime64[ns, Asia/Shanghai]', freq='D')"
      ]
     },
     "execution_count": 18,
     "metadata": {},
     "output_type": "execute_result"
    }
   ],
   "source": [
    "# tz_localize or tz_convert 也是DatetimeIndex的实例方法\n",
    "\n",
    "ts.index.tz_localize('Asia/Shanghai')"
   ]
  },
  {
   "cell_type": "markdown",
   "metadata": {},
   "source": [
    "## 11.4.2 操作时区意识型Timestamp对象"
   ]
  },
  {
   "cell_type": "code",
   "execution_count": 19,
   "metadata": {},
   "outputs": [],
   "source": [
    "# 跟时间序列和日期范围差不多，独立的Timestamp对象也能被从单纯型（naive）本地化\n",
    "# 为时区意识型（time zone-aware），并从一个时区转换到另一个时区：\n",
    "\n",
    "stamp = pd.Timestamp('2011-03-12 04:00')"
   ]
  },
  {
   "cell_type": "code",
   "execution_count": 20,
   "metadata": {},
   "outputs": [],
   "source": [
    "stamp_utc = stamp.tz_localize('utc')"
   ]
  },
  {
   "cell_type": "code",
   "execution_count": 21,
   "metadata": {},
   "outputs": [
    {
     "data": {
      "text/plain": [
       "Timestamp('2011-03-11 23:00:00-0500', tz='America/New_York')"
      ]
     },
     "execution_count": 21,
     "metadata": {},
     "output_type": "execute_result"
    }
   ],
   "source": [
    "stamp_utc.tz_convert('America/New_York')"
   ]
  },
  {
   "cell_type": "code",
   "execution_count": 22,
   "metadata": {},
   "outputs": [],
   "source": [
    "# 在创建Timestamp时，还可以传入一个时区信息\n",
    "\n",
    "stamp_moscow = pd.Timestamp('2011-03-12 04:00', tz='Europe/Moscow')"
   ]
  },
  {
   "cell_type": "code",
   "execution_count": 23,
   "metadata": {},
   "outputs": [
    {
     "data": {
      "text/plain": [
       "Timestamp('2011-03-12 04:00:00+0300', tz='Europe/Moscow')"
      ]
     },
     "execution_count": 23,
     "metadata": {},
     "output_type": "execute_result"
    }
   ],
   "source": [
    "stamp_moscow"
   ]
  },
  {
   "cell_type": "code",
   "execution_count": 24,
   "metadata": {},
   "outputs": [
    {
     "data": {
      "text/plain": [
       "1299902400000000000"
      ]
     },
     "execution_count": 24,
     "metadata": {},
     "output_type": "execute_result"
    }
   ],
   "source": [
    "# 时区意识型Timestamp对象在内部保存了一个UTC时间戳值（自UNIX纪元（1970年1月1日）算起的纳秒数）。\n",
    "# 这个UTC值在时区转换过程中是不会发生变化的：\n",
    "\n",
    "stamp_utc.value"
   ]
  },
  {
   "cell_type": "code",
   "execution_count": 25,
   "metadata": {},
   "outputs": [
    {
     "data": {
      "text/plain": [
       "1299902400000000000"
      ]
     },
     "execution_count": 25,
     "metadata": {},
     "output_type": "execute_result"
    }
   ],
   "source": [
    "stamp_utc.tz_convert(\"America/New_York\").value"
   ]
  },
  {
   "cell_type": "code",
   "execution_count": 26,
   "metadata": {},
   "outputs": [],
   "source": [
    "# 当使用pandas的DateOffset对象执行时间算术运算时，运算过程会自动关注是否存在夏令时转变期。\n",
    "# 这里，我们创建了在DST转变之前的时间戳。首先，来看夏令时转变前的30分钟：\n",
    "\n",
    "from pandas.tseries.offsets import Hour"
   ]
  },
  {
   "cell_type": "code",
   "execution_count": 27,
   "metadata": {},
   "outputs": [],
   "source": [
    "stamp = pd.Timestamp('2012-03-12 01:30', tz='US/Eastern')"
   ]
  },
  {
   "cell_type": "code",
   "execution_count": 28,
   "metadata": {},
   "outputs": [
    {
     "data": {
      "text/plain": [
       "Timestamp('2012-03-12 01:30:00-0400', tz='US/Eastern')"
      ]
     },
     "execution_count": 28,
     "metadata": {},
     "output_type": "execute_result"
    }
   ],
   "source": [
    "stamp"
   ]
  },
  {
   "cell_type": "code",
   "execution_count": 29,
   "metadata": {},
   "outputs": [],
   "source": [
    "# 然后，夏令时转变前90分钟\n",
    "\n",
    "stamp = pd.Timestamp('2012-11-04 00:30', tz='US/Eastern')"
   ]
  },
  {
   "cell_type": "code",
   "execution_count": 30,
   "metadata": {},
   "outputs": [
    {
     "data": {
      "text/plain": [
       "Timestamp('2012-11-04 00:30:00-0400', tz='US/Eastern')"
      ]
     },
     "execution_count": 30,
     "metadata": {},
     "output_type": "execute_result"
    }
   ],
   "source": [
    "stamp"
   ]
  },
  {
   "cell_type": "code",
   "execution_count": 31,
   "metadata": {},
   "outputs": [
    {
     "data": {
      "text/plain": [
       "Timestamp('2012-11-04 01:30:00-0500', tz='US/Eastern')"
      ]
     },
     "execution_count": 31,
     "metadata": {},
     "output_type": "execute_result"
    }
   ],
   "source": [
    "stamp + 2 * Hour()"
   ]
  },
  {
   "cell_type": "markdown",
   "metadata": {},
   "source": [
    "## 11.4.3 不同时区之间的运算"
   ]
  },
  {
   "cell_type": "code",
   "execution_count": 32,
   "metadata": {},
   "outputs": [],
   "source": [
    "# 如果两个时间序列的时区不同，在将它们合并到一起时，最终结果就会是UTC。\n",
    "# 由于时间戳其实是以UTC存储的，所以这是一个很简单的运算，并不需要发生任何转换：\n",
    "\n",
    "rng = pd.date_range('3/7/2012 9:30', periods=10, freq='B')"
   ]
  },
  {
   "cell_type": "code",
   "execution_count": 33,
   "metadata": {},
   "outputs": [],
   "source": [
    "ts = pd.Series(np.random.randn(len(rng)), index=rng)"
   ]
  },
  {
   "cell_type": "code",
   "execution_count": 34,
   "metadata": {},
   "outputs": [
    {
     "data": {
      "text/plain": [
       "2012-03-07 09:30:00    0.507473\n",
       "2012-03-08 09:30:00    0.310779\n",
       "2012-03-09 09:30:00    0.563389\n",
       "2012-03-12 09:30:00   -1.471313\n",
       "2012-03-13 09:30:00   -0.702389\n",
       "2012-03-14 09:30:00    1.184354\n",
       "2012-03-15 09:30:00   -0.668186\n",
       "2012-03-16 09:30:00   -0.590806\n",
       "2012-03-19 09:30:00    0.103181\n",
       "2012-03-20 09:30:00    0.069588\n",
       "Freq: B, dtype: float64"
      ]
     },
     "execution_count": 34,
     "metadata": {},
     "output_type": "execute_result"
    }
   ],
   "source": [
    "ts"
   ]
  },
  {
   "cell_type": "code",
   "execution_count": 35,
   "metadata": {},
   "outputs": [],
   "source": [
    "ts1 = ts[ : 7].tz_localize('Europe/London')"
   ]
  },
  {
   "cell_type": "code",
   "execution_count": 36,
   "metadata": {},
   "outputs": [],
   "source": [
    "ts2 = ts1[2:].tz_convert('Europe/Moscow')"
   ]
  },
  {
   "cell_type": "code",
   "execution_count": 37,
   "metadata": {},
   "outputs": [],
   "source": [
    "result = ts1 + ts2"
   ]
  },
  {
   "cell_type": "code",
   "execution_count": 38,
   "metadata": {},
   "outputs": [
    {
     "data": {
      "text/plain": [
       "DatetimeIndex(['2012-03-07 09:30:00+00:00', '2012-03-08 09:30:00+00:00',\n",
       "               '2012-03-09 09:30:00+00:00', '2012-03-12 09:30:00+00:00',\n",
       "               '2012-03-13 09:30:00+00:00', '2012-03-14 09:30:00+00:00',\n",
       "               '2012-03-15 09:30:00+00:00'],\n",
       "              dtype='datetime64[ns, UTC]', freq='B')"
      ]
     },
     "execution_count": 38,
     "metadata": {},
     "output_type": "execute_result"
    }
   ],
   "source": [
    "result.index"
   ]
  },
  {
   "cell_type": "markdown",
   "metadata": {},
   "source": [
    "# 11.5 时期及其算术运算"
   ]
  },
  {
   "cell_type": "code",
   "execution_count": 39,
   "metadata": {},
   "outputs": [],
   "source": [
    "# 时期(period):时间区间，比如数日、数月、数年等\n",
    "\n",
    "p = pd.Period(2007, freq='A-DEC')"
   ]
  },
  {
   "cell_type": "code",
   "execution_count": 40,
   "metadata": {},
   "outputs": [
    {
     "data": {
      "text/plain": [
       "Period('2007', 'A-DEC')"
      ]
     },
     "execution_count": 40,
     "metadata": {},
     "output_type": "execute_result"
    }
   ],
   "source": [
    "# 这个period对象表示的是从2007年1月1日到2007年12月31日之间的整段时间\n",
    "\n",
    "p"
   ]
  },
  {
   "cell_type": "code",
   "execution_count": 41,
   "metadata": {},
   "outputs": [
    {
     "data": {
      "text/plain": [
       "Period('2012', 'A-DEC')"
      ]
     },
     "execution_count": 41,
     "metadata": {},
     "output_type": "execute_result"
    }
   ],
   "source": [
    "# 只需对period对象加上或减去一个整数即可达到根据频率进行位移的效果\n",
    "\n",
    "p + 5"
   ]
  },
  {
   "cell_type": "code",
   "execution_count": 42,
   "metadata": {},
   "outputs": [
    {
     "data": {
      "text/plain": [
       "Period('2005', 'A-DEC')"
      ]
     },
     "execution_count": 42,
     "metadata": {},
     "output_type": "execute_result"
    }
   ],
   "source": [
    "p - 2"
   ]
  },
  {
   "cell_type": "code",
   "execution_count": 44,
   "metadata": {},
   "outputs": [
    {
     "data": {
      "text/plain": [
       "<7 * YearEnds: month=12>"
      ]
     },
     "execution_count": 44,
     "metadata": {},
     "output_type": "execute_result"
    }
   ],
   "source": [
    "# 如果两个Period对象拥有相同的频率，则它们的差就是它们之间的单位数量\n",
    "\n",
    "q = pd.Period('2014', freq='A-DEC')\n",
    "q - p"
   ]
  },
  {
   "cell_type": "code",
   "execution_count": 45,
   "metadata": {},
   "outputs": [],
   "source": [
    "# pandas.period_range():可用于创建规则的时间范围\n",
    "\n",
    "rng = pd.period_range('2000-01-01', '2000-06-30', freq='M')"
   ]
  },
  {
   "cell_type": "code",
   "execution_count": 46,
   "metadata": {},
   "outputs": [
    {
     "data": {
      "text/plain": [
       "PeriodIndex(['2000-01', '2000-02', '2000-03', '2000-04', '2000-05', '2000-06'], dtype='period[M]', freq='M')"
      ]
     },
     "execution_count": 46,
     "metadata": {},
     "output_type": "execute_result"
    }
   ],
   "source": [
    "rng"
   ]
  },
  {
   "cell_type": "code",
   "execution_count": 47,
   "metadata": {},
   "outputs": [
    {
     "data": {
      "text/plain": [
       "2000-01    0.497436\n",
       "2000-02    1.338488\n",
       "2000-03   -0.623388\n",
       "2000-04    2.726469\n",
       "2000-05    1.258293\n",
       "2000-06   -1.379182\n",
       "Freq: M, dtype: float64"
      ]
     },
     "execution_count": 47,
     "metadata": {},
     "output_type": "execute_result"
    }
   ],
   "source": [
    "# PeriodIndex类保存了一组Period\n",
    "# 它可以在任何pandas数据结构中被用作轴索引\n",
    "\n",
    "pd.Series(np.random.randn(6), index=rng)"
   ]
  },
  {
   "cell_type": "code",
   "execution_count": 48,
   "metadata": {},
   "outputs": [],
   "source": [
    "# 如果有一个字符串数组，也可以使用PeriodIndex类\n",
    "\n",
    "values = ['2001Q3', '2002Q2', '2003Q1']"
   ]
  },
  {
   "cell_type": "code",
   "execution_count": 49,
   "metadata": {},
   "outputs": [],
   "source": [
    "index = pd.PeriodIndex(values, freq='Q-DEC')"
   ]
  },
  {
   "cell_type": "code",
   "execution_count": 50,
   "metadata": {},
   "outputs": [
    {
     "data": {
      "text/plain": [
       "PeriodIndex(['2001Q3', '2002Q2', '2003Q1'], dtype='period[Q-DEC]', freq='Q-DEC')"
      ]
     },
     "execution_count": 50,
     "metadata": {},
     "output_type": "execute_result"
    }
   ],
   "source": [
    "index"
   ]
  },
  {
   "cell_type": "markdown",
   "metadata": {},
   "source": [
    "## 11.5.1 时期的频率转换"
   ]
  },
  {
   "cell_type": "code",
   "execution_count": 51,
   "metadata": {},
   "outputs": [],
   "source": [
    "p = pd.Period(\"2007\", freq=\"A-DEC\")"
   ]
  },
  {
   "cell_type": "code",
   "execution_count": 52,
   "metadata": {},
   "outputs": [
    {
     "data": {
      "text/plain": [
       "Period('2007', 'A-DEC')"
      ]
     },
     "execution_count": 52,
     "metadata": {},
     "output_type": "execute_result"
    }
   ],
   "source": [
    "p"
   ]
  },
  {
   "cell_type": "code",
   "execution_count": 53,
   "metadata": {},
   "outputs": [
    {
     "data": {
      "text/plain": [
       "Period('2007-01', 'M')"
      ]
     },
     "execution_count": 53,
     "metadata": {},
     "output_type": "execute_result"
    }
   ],
   "source": [
    "# Period and PeriodIndex 对象都可以通过其 asfreq 方法被转换成别的频率 \n",
    "\n",
    "p.asfreq(\"M\", how=\"start\")"
   ]
  },
  {
   "cell_type": "code",
   "execution_count": 54,
   "metadata": {},
   "outputs": [
    {
     "data": {
      "text/plain": [
       "Period('2007-12', 'M')"
      ]
     },
     "execution_count": 54,
     "metadata": {},
     "output_type": "execute_result"
    }
   ],
   "source": [
    "p.asfreq(\"M\", how='end')"
   ]
  },
  {
   "cell_type": "code",
   "execution_count": 58,
   "metadata": {},
   "outputs": [],
   "source": [
    "# 可以将 Period(\"2007\", \"A-DEC\") 看作一个被划分为多个月度时期的时间段中的游标"
   ]
  },
  {
   "cell_type": "code",
   "execution_count": 60,
   "metadata": {},
   "outputs": [
    {
     "data": {
      "text/html": [
       "<img src=\"picture/图11-1 Period频率转换示例.png\", width=600>\n"
      ],
      "text/plain": [
       "<IPython.core.display.HTML object>"
      ]
     },
     "metadata": {},
     "output_type": "display_data"
    }
   ],
   "source": [
    "%%html\n",
    "<img src=\"picture/图11-1 Period频率转换示例.png\", width=600>"
   ]
  },
  {
   "cell_type": "code",
   "execution_count": 63,
   "metadata": {},
   "outputs": [
    {
     "data": {
      "text/plain": [
       "Period('2007', 'A-JUN')"
      ]
     },
     "execution_count": 63,
     "metadata": {},
     "output_type": "execute_result"
    }
   ],
   "source": [
    "# 对于一个不以 12 月结束的财政年度，月度子时期归属情况就不一样了\n",
    "\n",
    "p = pd.Period(\"2007\", freq=\"A-JUN\")\n",
    "p"
   ]
  },
  {
   "cell_type": "code",
   "execution_count": 64,
   "metadata": {},
   "outputs": [
    {
     "data": {
      "text/plain": [
       "Period('2006-07', 'M')"
      ]
     },
     "execution_count": 64,
     "metadata": {},
     "output_type": "execute_result"
    }
   ],
   "source": [
    "p.asfreq(\"M\", 'start')"
   ]
  },
  {
   "cell_type": "code",
   "execution_count": 65,
   "metadata": {},
   "outputs": [
    {
     "data": {
      "text/plain": [
       "Period('2007-06', 'M')"
      ]
     },
     "execution_count": 65,
     "metadata": {},
     "output_type": "execute_result"
    }
   ],
   "source": [
    "p.asfreq(\"M\", 'end')"
   ]
  },
  {
   "cell_type": "code",
   "execution_count": 66,
   "metadata": {},
   "outputs": [],
   "source": [
    "# 在将高频率转换为低频率时，超时期(superperiod)是由子时期(subperiod)所属的位置决定的\n",
    "# 例如，在 A-JUN频率中，月份 \"2007年8月\"实际上是属于周期 \"2008年\"的\n",
    "\n",
    "p = pd.Period(\"Aug-2007\", 'M')"
   ]
  },
  {
   "cell_type": "code",
   "execution_count": 67,
   "metadata": {},
   "outputs": [
    {
     "data": {
      "text/plain": [
       "Period('2008', 'A-JUN')"
      ]
     },
     "execution_count": 67,
     "metadata": {},
     "output_type": "execute_result"
    }
   ],
   "source": [
    "p.asfreq(\"A-JUN\")"
   ]
  },
  {
   "cell_type": "code",
   "execution_count": 68,
   "metadata": {},
   "outputs": [],
   "source": [
    "# 完整的 PeriodIndex or TimeSeries 的频率转换方式也是如此\n",
    "\n",
    "rng = pd.period_range('2006', '2009', freq='A-DEC')"
   ]
  },
  {
   "cell_type": "code",
   "execution_count": 70,
   "metadata": {},
   "outputs": [],
   "source": [
    "ts = pd.Series(np.random.randn(len(rng)), index=rng)"
   ]
  },
  {
   "cell_type": "code",
   "execution_count": 71,
   "metadata": {},
   "outputs": [
    {
     "data": {
      "text/plain": [
       "2006   -0.295126\n",
       "2007   -0.433609\n",
       "2008    0.055795\n",
       "2009   -0.640991\n",
       "Freq: A-DEC, dtype: float64"
      ]
     },
     "execution_count": 71,
     "metadata": {},
     "output_type": "execute_result"
    }
   ],
   "source": [
    "ts"
   ]
  },
  {
   "cell_type": "code",
   "execution_count": 75,
   "metadata": {},
   "outputs": [
    {
     "data": {
      "text/plain": [
       "2006-01   -0.295126\n",
       "2007-01   -0.433609\n",
       "2008-01    0.055795\n",
       "2009-01   -0.640991\n",
       "Freq: M, dtype: float64"
      ]
     },
     "execution_count": 75,
     "metadata": {},
     "output_type": "execute_result"
    }
   ],
   "source": [
    "# 根据年度时期的第一个月，每年的时期被取代为每月的时期\n",
    "\n",
    "ts.asfreq(\"M\", how='start')"
   ]
  },
  {
   "cell_type": "code",
   "execution_count": 76,
   "metadata": {},
   "outputs": [
    {
     "data": {
      "text/plain": [
       "2006-12-29   -0.295126\n",
       "2007-12-31   -0.433609\n",
       "2008-12-31    0.055795\n",
       "2009-12-31   -0.640991\n",
       "Freq: B, dtype: float64"
      ]
     },
     "execution_count": 76,
     "metadata": {},
     "output_type": "execute_result"
    }
   ],
   "source": [
    "# 使用\"B\"频率：取得每年的最后一个工作日\n",
    "\n",
    "ts.asfreq(\"B\", how='end')"
   ]
  },
  {
   "cell_type": "markdown",
   "metadata": {},
   "source": [
    "### 11.5.2 按季度计算的时期频率"
   ]
  },
  {
   "cell_type": "code",
   "execution_count": 78,
   "metadata": {},
   "outputs": [
    {
     "data": {
      "text/plain": [
       "Period('2012Q4', 'Q-JAN')"
      ]
     },
     "execution_count": 78,
     "metadata": {},
     "output_type": "execute_result"
    }
   ],
   "source": [
    "# pandas 支持 12 种可能的季度型频率，即 Q-JAN 到 Q-DEC\n",
    "\n",
    "p = pd.Period(\"2012Q4\", freq=\"Q-JAN\")\n",
    "p"
   ]
  },
  {
   "cell_type": "code",
   "execution_count": 81,
   "metadata": {},
   "outputs": [
    {
     "data": {
      "text/plain": [
       "Period('2011-11-01', 'D')"
      ]
     },
     "execution_count": 81,
     "metadata": {},
     "output_type": "execute_result"
    }
   ],
   "source": [
    "# 在以 1 月结束的财年财年中，2012Q4 是从 2011-11 月到 2012-1 月\n",
    "\n",
    "p.asfreq(\"D\", 'start')"
   ]
  },
  {
   "cell_type": "code",
   "execution_count": 82,
   "metadata": {},
   "outputs": [
    {
     "data": {
      "text/plain": [
       "Period('2012-01-31', 'D')"
      ]
     },
     "execution_count": 82,
     "metadata": {},
     "output_type": "execute_result"
    }
   ],
   "source": [
    "p.asfreq(\"D\", 'end')"
   ]
  },
  {
   "cell_type": "code",
   "execution_count": 84,
   "metadata": {},
   "outputs": [
    {
     "data": {
      "text/html": [
       "<img src=\"picture/图11.2 不同季度型频率之间的转换.png\", width=600>\n"
      ],
      "text/plain": [
       "<IPython.core.display.HTML object>"
      ]
     },
     "metadata": {},
     "output_type": "display_data"
    }
   ],
   "source": [
    "%%html\n",
    "<img src=\"picture/图11.2 不同季度型频率之间的转换.png\", width=600>"
   ]
  },
  {
   "cell_type": "code",
   "execution_count": 85,
   "metadata": {},
   "outputs": [],
   "source": [
    "# 因此，Period 之间的算术运算会非常简单。\n",
    "# 例如，要获取该季度倒数第二个工作日下午4点的时间戳时间戳\n",
    "\n",
    "p4pm = (p.asfreq(\"B\", 'e') - 1).asfreq(\"T\", 's') + 16*60"
   ]
  },
  {
   "cell_type": "code",
   "execution_count": 86,
   "metadata": {},
   "outputs": [
    {
     "data": {
      "text/plain": [
       "Period('2012-01-30 16:00', 'T')"
      ]
     },
     "execution_count": 86,
     "metadata": {},
     "output_type": "execute_result"
    }
   ],
   "source": [
    "p4pm"
   ]
  },
  {
   "cell_type": "code",
   "execution_count": 87,
   "metadata": {},
   "outputs": [
    {
     "data": {
      "text/plain": [
       "Timestamp('2012-01-30 16:00:00')"
      ]
     },
     "execution_count": 87,
     "metadata": {},
     "output_type": "execute_result"
    }
   ],
   "source": [
    "p4pm.to_timestamp()"
   ]
  },
  {
   "cell_type": "code",
   "execution_count": 88,
   "metadata": {},
   "outputs": [],
   "source": [
    "# period_range 可用于生成季度型范围\n",
    "# 季度型范围的算术运算同上\n",
    "\n",
    "rng = pd.period_range(\"2011Q3\", \"2012Q4\", freq=\"Q-JAN\")"
   ]
  },
  {
   "cell_type": "code",
   "execution_count": 89,
   "metadata": {},
   "outputs": [],
   "source": [
    "ts = pd.Series(np.arange(len(rng)), index=rng)"
   ]
  },
  {
   "cell_type": "code",
   "execution_count": 90,
   "metadata": {},
   "outputs": [
    {
     "data": {
      "text/plain": [
       "2011Q3    0\n",
       "2011Q4    1\n",
       "2012Q1    2\n",
       "2012Q2    3\n",
       "2012Q3    4\n",
       "2012Q4    5\n",
       "Freq: Q-JAN, dtype: int32"
      ]
     },
     "execution_count": 90,
     "metadata": {},
     "output_type": "execute_result"
    }
   ],
   "source": [
    "ts"
   ]
  },
  {
   "cell_type": "code",
   "execution_count": 91,
   "metadata": {},
   "outputs": [],
   "source": [
    "new_rng = (rng.asfreq(\"B\", 'e') - 1).asfreq(\"T\", 's') + 16 * 60"
   ]
  },
  {
   "cell_type": "code",
   "execution_count": 92,
   "metadata": {},
   "outputs": [],
   "source": [
    "ts.index = new_rng.to_timestamp()"
   ]
  },
  {
   "cell_type": "code",
   "execution_count": 93,
   "metadata": {},
   "outputs": [
    {
     "data": {
      "text/plain": [
       "2010-10-28 16:00:00    0\n",
       "2011-01-28 16:00:00    1\n",
       "2011-04-28 16:00:00    2\n",
       "2011-07-28 16:00:00    3\n",
       "2011-10-28 16:00:00    4\n",
       "2012-01-30 16:00:00    5\n",
       "dtype: int32"
      ]
     },
     "execution_count": 93,
     "metadata": {},
     "output_type": "execute_result"
    }
   ],
   "source": [
    "ts"
   ]
  },
  {
   "cell_type": "markdown",
   "metadata": {},
   "source": [
    "### 11.5.3 将时间戳转换为区间（以及逆转换）"
   ]
  },
  {
   "cell_type": "markdown",
   "metadata": {},
   "source": [
    "通过使用 to_period 方法，可以将时间戳索引的 Series 和 DataFrame 对象转换为时期索引"
   ]
  },
  {
   "cell_type": "code",
   "execution_count": 4,
   "metadata": {},
   "outputs": [],
   "source": [
    "rng = pd.date_range('2000-01-01', periods=3, freq='M')"
   ]
  },
  {
   "cell_type": "code",
   "execution_count": 5,
   "metadata": {},
   "outputs": [],
   "source": [
    "ts = pd.Series(np.random.randn(3), index=rng)"
   ]
  },
  {
   "cell_type": "code",
   "execution_count": 6,
   "metadata": {},
   "outputs": [
    {
     "data": {
      "text/plain": [
       "2000-01-31    0.347404\n",
       "2000-02-29   -0.505396\n",
       "2000-03-31    0.205425\n",
       "Freq: M, dtype: float64"
      ]
     },
     "execution_count": 6,
     "metadata": {},
     "output_type": "execute_result"
    }
   ],
   "source": [
    "ts"
   ]
  },
  {
   "cell_type": "code",
   "execution_count": 7,
   "metadata": {},
   "outputs": [],
   "source": [
    "pts = ts.to_period()"
   ]
  },
  {
   "cell_type": "code",
   "execution_count": 8,
   "metadata": {},
   "outputs": [
    {
     "data": {
      "text/plain": [
       "2000-01    0.347404\n",
       "2000-02   -0.505396\n",
       "2000-03    0.205425\n",
       "Freq: M, dtype: float64"
      ]
     },
     "execution_count": 8,
     "metadata": {},
     "output_type": "execute_result"
    }
   ],
   "source": [
    "pts"
   ]
  },
  {
   "cell_type": "markdown",
   "metadata": {},
   "source": [
    "由于时期指的是非重叠时间区间，因此对于给定的频率，一个时间戳只能属于一个时期。  \n",
    "新 PeriodIndex 的频率默认是从时间戳推断而来的，也可以指定任何别的频率  \n",
    "结果中允许存在重复日期"
   ]
  },
  {
   "cell_type": "code",
   "execution_count": 9,
   "metadata": {},
   "outputs": [],
   "source": [
    "rng = pd.date_range('1/29/2000', periods=6, freq='D')"
   ]
  },
  {
   "cell_type": "code",
   "execution_count": 10,
   "metadata": {},
   "outputs": [],
   "source": [
    "ts2 = pd.Series(np.random.randn(6), index=rng)"
   ]
  },
  {
   "cell_type": "code",
   "execution_count": 11,
   "metadata": {},
   "outputs": [
    {
     "data": {
      "text/plain": [
       "2000-01-29    0.095517\n",
       "2000-01-30    0.203417\n",
       "2000-01-31   -0.527574\n",
       "2000-02-01    0.094691\n",
       "2000-02-02   -0.423083\n",
       "2000-02-03   -0.380817\n",
       "Freq: D, dtype: float64"
      ]
     },
     "execution_count": 11,
     "metadata": {},
     "output_type": "execute_result"
    }
   ],
   "source": [
    "ts2"
   ]
  },
  {
   "cell_type": "code",
   "execution_count": 12,
   "metadata": {},
   "outputs": [
    {
     "data": {
      "text/plain": [
       "2000-01    0.095517\n",
       "2000-01    0.203417\n",
       "2000-01   -0.527574\n",
       "2000-02    0.094691\n",
       "2000-02   -0.423083\n",
       "2000-02   -0.380817\n",
       "Freq: M, dtype: float64"
      ]
     },
     "execution_count": 12,
     "metadata": {},
     "output_type": "execute_result"
    }
   ],
   "source": [
    "ts2.to_period(\"M\")"
   ]
  },
  {
   "cell_type": "markdown",
   "metadata": {},
   "source": [
    "要转回时间戳，使用 to_timestamp 即可"
   ]
  },
  {
   "cell_type": "code",
   "execution_count": 13,
   "metadata": {},
   "outputs": [],
   "source": [
    "pts = ts2.to_period()"
   ]
  },
  {
   "cell_type": "code",
   "execution_count": 16,
   "metadata": {},
   "outputs": [
    {
     "data": {
      "text/plain": [
       "2000-01-29    0.095517\n",
       "2000-01-30    0.203417\n",
       "2000-01-31   -0.527574\n",
       "2000-02-01    0.094691\n",
       "2000-02-02   -0.423083\n",
       "2000-02-03   -0.380817\n",
       "Freq: D, dtype: float64"
      ]
     },
     "execution_count": 16,
     "metadata": {},
     "output_type": "execute_result"
    }
   ],
   "source": [
    "pts"
   ]
  },
  {
   "cell_type": "code",
   "execution_count": 17,
   "metadata": {},
   "outputs": [
    {
     "data": {
      "text/plain": [
       "2000-01-29 23:59:59.999999999    0.095517\n",
       "2000-01-30 23:59:59.999999999    0.203417\n",
       "2000-01-31 23:59:59.999999999   -0.527574\n",
       "2000-02-01 23:59:59.999999999    0.094691\n",
       "2000-02-02 23:59:59.999999999   -0.423083\n",
       "2000-02-03 23:59:59.999999999   -0.380817\n",
       "Freq: D, dtype: float64"
      ]
     },
     "execution_count": 17,
     "metadata": {},
     "output_type": "execute_result"
    }
   ],
   "source": [
    "pts.to_timestamp(how='end')"
   ]
  },
  {
   "cell_type": "markdown",
   "metadata": {},
   "source": [
    "### 11.5.4 通过数组创建 PeriodIndex"
   ]
  },
  {
   "cell_type": "markdown",
   "metadata": {},
   "source": [
    "固定频率的数据集通常会将时间信息分开存放在多个列中。  \n",
    "例如，在下面这个宏观经济数据集中，年度和季度就分别存放在不同的列中"
   ]
  },
  {
   "cell_type": "code",
   "execution_count": 18,
   "metadata": {},
   "outputs": [],
   "source": [
    "data = pd.read_csv(\"examples/macrodata.csv\")"
   ]
  },
  {
   "cell_type": "code",
   "execution_count": 19,
   "metadata": {},
   "outputs": [
    {
     "data": {
      "text/html": [
       "<div>\n",
       "<style scoped>\n",
       "    .dataframe tbody tr th:only-of-type {\n",
       "        vertical-align: middle;\n",
       "    }\n",
       "\n",
       "    .dataframe tbody tr th {\n",
       "        vertical-align: top;\n",
       "    }\n",
       "\n",
       "    .dataframe thead th {\n",
       "        text-align: right;\n",
       "    }\n",
       "</style>\n",
       "<table border=\"1\" class=\"dataframe\">\n",
       "  <thead>\n",
       "    <tr style=\"text-align: right;\">\n",
       "      <th></th>\n",
       "      <th>year</th>\n",
       "      <th>quarter</th>\n",
       "      <th>realgdp</th>\n",
       "      <th>realcons</th>\n",
       "      <th>realinv</th>\n",
       "      <th>realgovt</th>\n",
       "      <th>realdpi</th>\n",
       "      <th>cpi</th>\n",
       "      <th>m1</th>\n",
       "      <th>tbilrate</th>\n",
       "      <th>unemp</th>\n",
       "      <th>pop</th>\n",
       "      <th>infl</th>\n",
       "      <th>realint</th>\n",
       "    </tr>\n",
       "  </thead>\n",
       "  <tbody>\n",
       "    <tr>\n",
       "      <th>0</th>\n",
       "      <td>1959.0</td>\n",
       "      <td>1.0</td>\n",
       "      <td>2710.349</td>\n",
       "      <td>1707.4</td>\n",
       "      <td>286.898</td>\n",
       "      <td>470.045</td>\n",
       "      <td>1886.9</td>\n",
       "      <td>28.98</td>\n",
       "      <td>139.7</td>\n",
       "      <td>2.82</td>\n",
       "      <td>5.8</td>\n",
       "      <td>177.146</td>\n",
       "      <td>0.00</td>\n",
       "      <td>0.00</td>\n",
       "    </tr>\n",
       "    <tr>\n",
       "      <th>1</th>\n",
       "      <td>1959.0</td>\n",
       "      <td>2.0</td>\n",
       "      <td>2778.801</td>\n",
       "      <td>1733.7</td>\n",
       "      <td>310.859</td>\n",
       "      <td>481.301</td>\n",
       "      <td>1919.7</td>\n",
       "      <td>29.15</td>\n",
       "      <td>141.7</td>\n",
       "      <td>3.08</td>\n",
       "      <td>5.1</td>\n",
       "      <td>177.830</td>\n",
       "      <td>2.34</td>\n",
       "      <td>0.74</td>\n",
       "    </tr>\n",
       "    <tr>\n",
       "      <th>2</th>\n",
       "      <td>1959.0</td>\n",
       "      <td>3.0</td>\n",
       "      <td>2775.488</td>\n",
       "      <td>1751.8</td>\n",
       "      <td>289.226</td>\n",
       "      <td>491.260</td>\n",
       "      <td>1916.4</td>\n",
       "      <td>29.35</td>\n",
       "      <td>140.5</td>\n",
       "      <td>3.82</td>\n",
       "      <td>5.3</td>\n",
       "      <td>178.657</td>\n",
       "      <td>2.74</td>\n",
       "      <td>1.09</td>\n",
       "    </tr>\n",
       "    <tr>\n",
       "      <th>3</th>\n",
       "      <td>1959.0</td>\n",
       "      <td>4.0</td>\n",
       "      <td>2785.204</td>\n",
       "      <td>1753.7</td>\n",
       "      <td>299.356</td>\n",
       "      <td>484.052</td>\n",
       "      <td>1931.3</td>\n",
       "      <td>29.37</td>\n",
       "      <td>140.0</td>\n",
       "      <td>4.33</td>\n",
       "      <td>5.6</td>\n",
       "      <td>179.386</td>\n",
       "      <td>0.27</td>\n",
       "      <td>4.06</td>\n",
       "    </tr>\n",
       "    <tr>\n",
       "      <th>4</th>\n",
       "      <td>1960.0</td>\n",
       "      <td>1.0</td>\n",
       "      <td>2847.699</td>\n",
       "      <td>1770.5</td>\n",
       "      <td>331.722</td>\n",
       "      <td>462.199</td>\n",
       "      <td>1955.5</td>\n",
       "      <td>29.54</td>\n",
       "      <td>139.6</td>\n",
       "      <td>3.50</td>\n",
       "      <td>5.2</td>\n",
       "      <td>180.007</td>\n",
       "      <td>2.31</td>\n",
       "      <td>1.19</td>\n",
       "    </tr>\n",
       "  </tbody>\n",
       "</table>\n",
       "</div>"
      ],
      "text/plain": [
       "     year  quarter   realgdp  realcons  realinv  realgovt  realdpi    cpi  \\\n",
       "0  1959.0      1.0  2710.349    1707.4  286.898   470.045   1886.9  28.98   \n",
       "1  1959.0      2.0  2778.801    1733.7  310.859   481.301   1919.7  29.15   \n",
       "2  1959.0      3.0  2775.488    1751.8  289.226   491.260   1916.4  29.35   \n",
       "3  1959.0      4.0  2785.204    1753.7  299.356   484.052   1931.3  29.37   \n",
       "4  1960.0      1.0  2847.699    1770.5  331.722   462.199   1955.5  29.54   \n",
       "\n",
       "      m1  tbilrate  unemp      pop  infl  realint  \n",
       "0  139.7      2.82    5.8  177.146  0.00     0.00  \n",
       "1  141.7      3.08    5.1  177.830  2.34     0.74  \n",
       "2  140.5      3.82    5.3  178.657  2.74     1.09  \n",
       "3  140.0      4.33    5.6  179.386  0.27     4.06  \n",
       "4  139.6      3.50    5.2  180.007  2.31     1.19  "
      ]
     },
     "execution_count": 19,
     "metadata": {},
     "output_type": "execute_result"
    }
   ],
   "source": [
    "data.head()"
   ]
  },
  {
   "cell_type": "code",
   "execution_count": 21,
   "metadata": {},
   "outputs": [
    {
     "data": {
      "text/plain": [
       "0    1959.0\n",
       "1    1959.0\n",
       "2    1959.0\n",
       "3    1959.0\n",
       "4    1960.0\n",
       "Name: year, dtype: float64"
      ]
     },
     "execution_count": 21,
     "metadata": {},
     "output_type": "execute_result"
    }
   ],
   "source": [
    "data.year.head()"
   ]
  },
  {
   "cell_type": "code",
   "execution_count": 22,
   "metadata": {},
   "outputs": [
    {
     "data": {
      "text/plain": [
       "0    1.0\n",
       "1    2.0\n",
       "2    3.0\n",
       "3    4.0\n",
       "4    1.0\n",
       "Name: quarter, dtype: float64"
      ]
     },
     "execution_count": 22,
     "metadata": {},
     "output_type": "execute_result"
    }
   ],
   "source": [
    "data.quarter.head()"
   ]
  },
  {
   "cell_type": "markdown",
   "metadata": {},
   "source": [
    "通过将这些数组以及一个频率传入 PeriodIndex, 就可以将它们合并成 DataFrame 的一个索引"
   ]
  },
  {
   "cell_type": "code",
   "execution_count": 23,
   "metadata": {},
   "outputs": [],
   "source": [
    "index = pd.PeriodIndex(year=data.year, quarter=data.quarter, freq='Q-DEC')"
   ]
  },
  {
   "cell_type": "code",
   "execution_count": 24,
   "metadata": {},
   "outputs": [
    {
     "data": {
      "text/plain": [
       "PeriodIndex(['1959Q1', '1959Q2', '1959Q3', '1959Q4', '1960Q1', '1960Q2',\n",
       "             '1960Q3', '1960Q4', '1961Q1', '1961Q2',\n",
       "             ...\n",
       "             '2007Q2', '2007Q3', '2007Q4', '2008Q1', '2008Q2', '2008Q3',\n",
       "             '2008Q4', '2009Q1', '2009Q2', '2009Q3'],\n",
       "            dtype='period[Q-DEC]', length=203, freq='Q-DEC')"
      ]
     },
     "execution_count": 24,
     "metadata": {},
     "output_type": "execute_result"
    }
   ],
   "source": [
    "index"
   ]
  },
  {
   "cell_type": "code",
   "execution_count": 25,
   "metadata": {},
   "outputs": [],
   "source": [
    "data.index = index"
   ]
  },
  {
   "cell_type": "code",
   "execution_count": 27,
   "metadata": {},
   "outputs": [
    {
     "data": {
      "text/html": [
       "<div>\n",
       "<style scoped>\n",
       "    .dataframe tbody tr th:only-of-type {\n",
       "        vertical-align: middle;\n",
       "    }\n",
       "\n",
       "    .dataframe tbody tr th {\n",
       "        vertical-align: top;\n",
       "    }\n",
       "\n",
       "    .dataframe thead th {\n",
       "        text-align: right;\n",
       "    }\n",
       "</style>\n",
       "<table border=\"1\" class=\"dataframe\">\n",
       "  <thead>\n",
       "    <tr style=\"text-align: right;\">\n",
       "      <th></th>\n",
       "      <th>year</th>\n",
       "      <th>quarter</th>\n",
       "      <th>realgdp</th>\n",
       "      <th>realcons</th>\n",
       "      <th>realinv</th>\n",
       "      <th>realgovt</th>\n",
       "      <th>realdpi</th>\n",
       "      <th>cpi</th>\n",
       "      <th>m1</th>\n",
       "      <th>tbilrate</th>\n",
       "      <th>unemp</th>\n",
       "      <th>pop</th>\n",
       "      <th>infl</th>\n",
       "      <th>realint</th>\n",
       "    </tr>\n",
       "  </thead>\n",
       "  <tbody>\n",
       "    <tr>\n",
       "      <th>1959Q1</th>\n",
       "      <td>1959.0</td>\n",
       "      <td>1.0</td>\n",
       "      <td>2710.349</td>\n",
       "      <td>1707.4</td>\n",
       "      <td>286.898</td>\n",
       "      <td>470.045</td>\n",
       "      <td>1886.9</td>\n",
       "      <td>28.98</td>\n",
       "      <td>139.7</td>\n",
       "      <td>2.82</td>\n",
       "      <td>5.8</td>\n",
       "      <td>177.146</td>\n",
       "      <td>0.00</td>\n",
       "      <td>0.00</td>\n",
       "    </tr>\n",
       "    <tr>\n",
       "      <th>1959Q2</th>\n",
       "      <td>1959.0</td>\n",
       "      <td>2.0</td>\n",
       "      <td>2778.801</td>\n",
       "      <td>1733.7</td>\n",
       "      <td>310.859</td>\n",
       "      <td>481.301</td>\n",
       "      <td>1919.7</td>\n",
       "      <td>29.15</td>\n",
       "      <td>141.7</td>\n",
       "      <td>3.08</td>\n",
       "      <td>5.1</td>\n",
       "      <td>177.830</td>\n",
       "      <td>2.34</td>\n",
       "      <td>0.74</td>\n",
       "    </tr>\n",
       "    <tr>\n",
       "      <th>1959Q3</th>\n",
       "      <td>1959.0</td>\n",
       "      <td>3.0</td>\n",
       "      <td>2775.488</td>\n",
       "      <td>1751.8</td>\n",
       "      <td>289.226</td>\n",
       "      <td>491.260</td>\n",
       "      <td>1916.4</td>\n",
       "      <td>29.35</td>\n",
       "      <td>140.5</td>\n",
       "      <td>3.82</td>\n",
       "      <td>5.3</td>\n",
       "      <td>178.657</td>\n",
       "      <td>2.74</td>\n",
       "      <td>1.09</td>\n",
       "    </tr>\n",
       "    <tr>\n",
       "      <th>1959Q4</th>\n",
       "      <td>1959.0</td>\n",
       "      <td>4.0</td>\n",
       "      <td>2785.204</td>\n",
       "      <td>1753.7</td>\n",
       "      <td>299.356</td>\n",
       "      <td>484.052</td>\n",
       "      <td>1931.3</td>\n",
       "      <td>29.37</td>\n",
       "      <td>140.0</td>\n",
       "      <td>4.33</td>\n",
       "      <td>5.6</td>\n",
       "      <td>179.386</td>\n",
       "      <td>0.27</td>\n",
       "      <td>4.06</td>\n",
       "    </tr>\n",
       "    <tr>\n",
       "      <th>1960Q1</th>\n",
       "      <td>1960.0</td>\n",
       "      <td>1.0</td>\n",
       "      <td>2847.699</td>\n",
       "      <td>1770.5</td>\n",
       "      <td>331.722</td>\n",
       "      <td>462.199</td>\n",
       "      <td>1955.5</td>\n",
       "      <td>29.54</td>\n",
       "      <td>139.6</td>\n",
       "      <td>3.50</td>\n",
       "      <td>5.2</td>\n",
       "      <td>180.007</td>\n",
       "      <td>2.31</td>\n",
       "      <td>1.19</td>\n",
       "    </tr>\n",
       "  </tbody>\n",
       "</table>\n",
       "</div>"
      ],
      "text/plain": [
       "          year  quarter   realgdp  realcons  realinv  realgovt  realdpi  \\\n",
       "1959Q1  1959.0      1.0  2710.349    1707.4  286.898   470.045   1886.9   \n",
       "1959Q2  1959.0      2.0  2778.801    1733.7  310.859   481.301   1919.7   \n",
       "1959Q3  1959.0      3.0  2775.488    1751.8  289.226   491.260   1916.4   \n",
       "1959Q4  1959.0      4.0  2785.204    1753.7  299.356   484.052   1931.3   \n",
       "1960Q1  1960.0      1.0  2847.699    1770.5  331.722   462.199   1955.5   \n",
       "\n",
       "          cpi     m1  tbilrate  unemp      pop  infl  realint  \n",
       "1959Q1  28.98  139.7      2.82    5.8  177.146  0.00     0.00  \n",
       "1959Q2  29.15  141.7      3.08    5.1  177.830  2.34     0.74  \n",
       "1959Q3  29.35  140.5      3.82    5.3  178.657  2.74     1.09  \n",
       "1959Q4  29.37  140.0      4.33    5.6  179.386  0.27     4.06  \n",
       "1960Q1  29.54  139.6      3.50    5.2  180.007  2.31     1.19  "
      ]
     },
     "execution_count": 27,
     "metadata": {},
     "output_type": "execute_result"
    }
   ],
   "source": [
    "data.head()"
   ]
  },
  {
   "cell_type": "code",
   "execution_count": 30,
   "metadata": {},
   "outputs": [
    {
     "data": {
      "text/plain": [
       "1959Q1    0.00\n",
       "1959Q2    2.34\n",
       "1959Q3    2.74\n",
       "1959Q4    0.27\n",
       "1960Q1    2.31\n",
       "Freq: Q-DEC, Name: infl, dtype: float64"
      ]
     },
     "execution_count": 30,
     "metadata": {},
     "output_type": "execute_result"
    }
   ],
   "source": [
    "data.infl.head()"
   ]
  },
  {
   "cell_type": "markdown",
   "metadata": {},
   "source": [
    "## 11.6 重采样及频率转换"
   ]
  },
  {
   "cell_type": "markdown",
   "metadata": {},
   "source": [
    "重采样(resampling): 将时间序列从一个频率转换到另一个频率的处理过程  \n",
    "降采样(downsampling): 将`高频率`数据聚合到`低频率`  \n",
    "升采样(upsampling): 将`低频率`数据转换到`高频率`"
   ]
  },
  {
   "cell_type": "code",
   "execution_count": 32,
   "metadata": {},
   "outputs": [],
   "source": [
    "# pandas 对象都带有一个 resample 方法，它是各种频率转换工作的主力函数\n",
    "# resample 有一个类似于 groupby 的 API，调用 resample 可以分组数据，然后会调用一个聚合函数\n",
    "\n",
    "rng = pd.date_range('2000-01-01', periods=100, freq=\"D\")"
   ]
  },
  {
   "cell_type": "code",
   "execution_count": 33,
   "metadata": {},
   "outputs": [],
   "source": [
    "ts = pd.Series(np.random.randn(len(rng)), index=rng)"
   ]
  },
  {
   "cell_type": "code",
   "execution_count": 35,
   "metadata": {},
   "outputs": [
    {
     "data": {
      "text/plain": [
       "2000-01-01   -1.705487\n",
       "2000-01-02    0.709607\n",
       "2000-01-03   -0.078094\n",
       "2000-01-04    3.501367\n",
       "2000-01-05   -1.310667\n",
       "Freq: D, dtype: float64"
      ]
     },
     "execution_count": 35,
     "metadata": {},
     "output_type": "execute_result"
    }
   ],
   "source": [
    "ts.head()"
   ]
  },
  {
   "cell_type": "code",
   "execution_count": 37,
   "metadata": {},
   "outputs": [
    {
     "data": {
      "text/plain": [
       "2000-01-31    0.154329\n",
       "2000-02-29    0.269106\n",
       "2000-03-31    0.026370\n",
       "2000-04-30   -0.519226\n",
       "Freq: M, dtype: float64"
      ]
     },
     "execution_count": 37,
     "metadata": {},
     "output_type": "execute_result"
    }
   ],
   "source": [
    "ts.resample('M').mean()"
   ]
  },
  {
   "cell_type": "code",
   "execution_count": 38,
   "metadata": {},
   "outputs": [
    {
     "data": {
      "text/plain": [
       "2000-01    0.154329\n",
       "2000-02    0.269106\n",
       "2000-03    0.026370\n",
       "2000-04   -0.519226\n",
       "Freq: M, dtype: float64"
      ]
     },
     "execution_count": 38,
     "metadata": {},
     "output_type": "execute_result"
    }
   ],
   "source": [
    "ts.resample('M', kind='period').mean()"
   ]
  },
  {
   "cell_type": "code",
   "execution_count": 40,
   "metadata": {},
   "outputs": [
    {
     "data": {
      "text/html": [
       "<img src='picture/表11-5 resample方法的参数.png', width=600>\n"
      ],
      "text/plain": [
       "<IPython.core.display.HTML object>"
      ]
     },
     "metadata": {},
     "output_type": "display_data"
    }
   ],
   "source": [
    "%%html\n",
    "<img src='picture/表11-5 resample方法的参数.png', width=600>"
   ]
  },
  {
   "cell_type": "markdown",
   "metadata": {},
   "source": [
    "### 11.6.1 降采样"
   ]
  },
  {
   "cell_type": "markdown",
   "metadata": {},
   "source": [
    "在用`resample`对数据进行降采样时，需要考虑两样东西：  \n",
    "- 各区间哪边是闭合的\n",
    "- 如何标记各个聚合面元，用区间的开头不是结尾"
   ]
  },
  {
   "cell_type": "code",
   "execution_count": 45,
   "metadata": {},
   "outputs": [],
   "source": [
    "# 1分钟数据\n",
    "\n",
    "rng = pd.date_range('2000-01-01', periods=12, freq='T')"
   ]
  },
  {
   "cell_type": "code",
   "execution_count": 46,
   "metadata": {},
   "outputs": [],
   "source": [
    "ts = pd.Series(np.arange(12), index=rng)"
   ]
  },
  {
   "cell_type": "code",
   "execution_count": 47,
   "metadata": {},
   "outputs": [
    {
     "data": {
      "text/plain": [
       "2000-01-01 00:00:00     0\n",
       "2000-01-01 00:01:00     1\n",
       "2000-01-01 00:02:00     2\n",
       "2000-01-01 00:03:00     3\n",
       "2000-01-01 00:04:00     4\n",
       "2000-01-01 00:05:00     5\n",
       "2000-01-01 00:06:00     6\n",
       "2000-01-01 00:07:00     7\n",
       "2000-01-01 00:08:00     8\n",
       "2000-01-01 00:09:00     9\n",
       "2000-01-01 00:10:00    10\n",
       "2000-01-01 00:11:00    11\n",
       "Freq: T, dtype: int32"
      ]
     },
     "execution_count": 47,
     "metadata": {},
     "output_type": "execute_result"
    }
   ],
   "source": [
    "ts"
   ]
  },
  {
   "cell_type": "code",
   "execution_count": 48,
   "metadata": {},
   "outputs": [
    {
     "data": {
      "text/plain": [
       "1999-12-31 23:55:00     0\n",
       "2000-01-01 00:00:00    15\n",
       "2000-01-01 00:05:00    40\n",
       "2000-01-01 00:10:00    11\n",
       "Freq: 5T, dtype: int32"
      ]
     },
     "execution_count": 48,
     "metadata": {},
     "output_type": "execute_result"
    }
   ],
   "source": [
    "# 通过求和的方式将这些数据聚合到\"5分钟\"块中\n",
    "\n",
    "ts.resample('5min', closed='right').sum()"
   ]
  },
  {
   "cell_type": "markdown",
   "metadata": {},
   "source": [
    "传入的频率将会以\"5分钟\"的增量定义面元边界。  \n",
    "默认情况下，面元的`右边界`是包含的，因此00:00到00:05的区间中是包含00:05的。  \n",
    "传入closed='left'会让区间以`左边界`闭合"
   ]
  },
  {
   "cell_type": "code",
   "execution_count": 51,
   "metadata": {},
   "outputs": [
    {
     "data": {
      "text/plain": [
       "1999-12-31 23:55:00     0\n",
       "2000-01-01 00:00:00    15\n",
       "2000-01-01 00:05:00    40\n",
       "2000-01-01 00:10:00    11\n",
       "Freq: 5T, dtype: int32"
      ]
     },
     "execution_count": 51,
     "metadata": {},
     "output_type": "execute_result"
    }
   ],
   "source": [
    "ts.resample('5min', closed='right').sum()"
   ]
  },
  {
   "cell_type": "markdown",
   "metadata": {},
   "source": [
    "如上，最终的时间序列是以各面元的`左边界`的时间戳进行标记的。  \n",
    "label='right': 用面元的`右边界`对其进行标记"
   ]
  },
  {
   "cell_type": "code",
   "execution_count": 52,
   "metadata": {},
   "outputs": [
    {
     "data": {
      "text/plain": [
       "2000-01-01 00:00:00     0\n",
       "2000-01-01 00:05:00    15\n",
       "2000-01-01 00:10:00    40\n",
       "2000-01-01 00:15:00    11\n",
       "Freq: 5T, dtype: int32"
      ]
     },
     "execution_count": 52,
     "metadata": {},
     "output_type": "execute_result"
    }
   ],
   "source": [
    "ts.resample('5min', closed='right', label='right').sum()"
   ]
  },
  {
   "cell_type": "code",
   "execution_count": 54,
   "metadata": {},
   "outputs": [
    {
     "data": {
      "text/html": [
       "<img src=\"picture/图11-3 各种closed、label约定的“5分钟”重采样演示.png\", width=600>\n"
      ],
      "text/plain": [
       "<IPython.core.display.HTML object>"
      ]
     },
     "metadata": {},
     "output_type": "display_data"
    }
   ],
   "source": [
    "%%html\n",
    "<img src=\"picture/图11-3 各种closed、label约定的“5分钟”重采样演示.png\", width=600>"
   ]
  },
  {
   "cell_type": "markdown",
   "metadata": {},
   "source": [
    "loffset: 对索引做一些位移"
   ]
  },
  {
   "cell_type": "code",
   "execution_count": 56,
   "metadata": {},
   "outputs": [
    {
     "data": {
      "text/plain": [
       "1999-12-31 23:59:59     0\n",
       "2000-01-01 00:04:59    15\n",
       "2000-01-01 00:09:59    40\n",
       "2000-01-01 00:14:59    11\n",
       "Freq: 5T, dtype: int32"
      ]
     },
     "execution_count": 56,
     "metadata": {},
     "output_type": "execute_result"
    }
   ],
   "source": [
    "ts.resample('5min', closed='right', label='right', loffset='-1s').sum()"
   ]
  },
  {
   "cell_type": "markdown",
   "metadata": {},
   "source": [
    "### 11.6.2 OHLC重采样"
   ]
  },
  {
   "cell_type": "markdown",
   "metadata": {},
   "source": [
    "金融领域中有一种无所不在的时间序列聚合方式，  \n",
    "即计算各面元的四个值：第一个值（open，开盘）、最后一个值（close，收盘）、最大值（high，最高）以及最小值（low，最低）。  \n",
    "传入how='ohlc'即可得到一个含有这四种聚合值的DataFrame。  \n",
    "整个过程很高效，只需一次扫描即可计算出结果"
   ]
  },
  {
   "cell_type": "code",
   "execution_count": 58,
   "metadata": {},
   "outputs": [
    {
     "data": {
      "text/html": [
       "<div>\n",
       "<style scoped>\n",
       "    .dataframe tbody tr th:only-of-type {\n",
       "        vertical-align: middle;\n",
       "    }\n",
       "\n",
       "    .dataframe tbody tr th {\n",
       "        vertical-align: top;\n",
       "    }\n",
       "\n",
       "    .dataframe thead th {\n",
       "        text-align: right;\n",
       "    }\n",
       "</style>\n",
       "<table border=\"1\" class=\"dataframe\">\n",
       "  <thead>\n",
       "    <tr style=\"text-align: right;\">\n",
       "      <th></th>\n",
       "      <th>open</th>\n",
       "      <th>high</th>\n",
       "      <th>low</th>\n",
       "      <th>close</th>\n",
       "    </tr>\n",
       "  </thead>\n",
       "  <tbody>\n",
       "    <tr>\n",
       "      <th>2000-01-01 00:00:00</th>\n",
       "      <td>0</td>\n",
       "      <td>4</td>\n",
       "      <td>0</td>\n",
       "      <td>4</td>\n",
       "    </tr>\n",
       "    <tr>\n",
       "      <th>2000-01-01 00:05:00</th>\n",
       "      <td>5</td>\n",
       "      <td>9</td>\n",
       "      <td>5</td>\n",
       "      <td>9</td>\n",
       "    </tr>\n",
       "    <tr>\n",
       "      <th>2000-01-01 00:10:00</th>\n",
       "      <td>10</td>\n",
       "      <td>11</td>\n",
       "      <td>10</td>\n",
       "      <td>11</td>\n",
       "    </tr>\n",
       "  </tbody>\n",
       "</table>\n",
       "</div>"
      ],
      "text/plain": [
       "                     open  high  low  close\n",
       "2000-01-01 00:00:00     0     4    0      4\n",
       "2000-01-01 00:05:00     5     9    5      9\n",
       "2000-01-01 00:10:00    10    11   10     11"
      ]
     },
     "execution_count": 58,
     "metadata": {},
     "output_type": "execute_result"
    }
   ],
   "source": [
    "ts.resample('5min').ohlc()"
   ]
  },
  {
   "cell_type": "markdown",
   "metadata": {},
   "source": [
    "### 11.6.3 升采样和插值"
   ]
  },
  {
   "cell_type": "markdown",
   "metadata": {},
   "source": [
    "在将数据从低频率转换到高频率时，就不需要聚合"
   ]
  },
  {
   "cell_type": "code",
   "execution_count": 61,
   "metadata": {},
   "outputs": [
    {
     "data": {
      "text/html": [
       "<div>\n",
       "<style scoped>\n",
       "    .dataframe tbody tr th:only-of-type {\n",
       "        vertical-align: middle;\n",
       "    }\n",
       "\n",
       "    .dataframe tbody tr th {\n",
       "        vertical-align: top;\n",
       "    }\n",
       "\n",
       "    .dataframe thead th {\n",
       "        text-align: right;\n",
       "    }\n",
       "</style>\n",
       "<table border=\"1\" class=\"dataframe\">\n",
       "  <thead>\n",
       "    <tr style=\"text-align: right;\">\n",
       "      <th></th>\n",
       "      <th>Colorado</th>\n",
       "      <th>Texas</th>\n",
       "      <th>New York</th>\n",
       "      <th>Ohio</th>\n",
       "    </tr>\n",
       "  </thead>\n",
       "  <tbody>\n",
       "    <tr>\n",
       "      <th>2000-01-05</th>\n",
       "      <td>-0.870848</td>\n",
       "      <td>-0.668650</td>\n",
       "      <td>0.204237</td>\n",
       "      <td>-1.629988</td>\n",
       "    </tr>\n",
       "    <tr>\n",
       "      <th>2000-01-12</th>\n",
       "      <td>2.214742</td>\n",
       "      <td>0.469298</td>\n",
       "      <td>0.682206</td>\n",
       "      <td>0.391764</td>\n",
       "    </tr>\n",
       "  </tbody>\n",
       "</table>\n",
       "</div>"
      ],
      "text/plain": [
       "            Colorado     Texas  New York      Ohio\n",
       "2000-01-05 -0.870848 -0.668650  0.204237 -1.629988\n",
       "2000-01-12  2.214742  0.469298  0.682206  0.391764"
      ]
     },
     "execution_count": 61,
     "metadata": {},
     "output_type": "execute_result"
    }
   ],
   "source": [
    "frame = pd.DataFrame(np.random.randn(2, 4),\n",
    "                     index=pd.date_range('1/1/2000', periods=2,\n",
    "                                         freq='W-WED'),\n",
    "                     columns=['Colorado', 'Texas', 'New York', 'Ohio'])\n",
    "frame"
   ]
  },
  {
   "cell_type": "markdown",
   "metadata": {},
   "source": [
    "当对这些数据进行聚合，每组只有一个值，这样就会引入缺失值  \n",
    "因此，使用 asfreq 方法转换成高频，不经过聚合"
   ]
  },
  {
   "cell_type": "code",
   "execution_count": 62,
   "metadata": {},
   "outputs": [],
   "source": [
    "df_daily = frame.resample('D').asfreq()"
   ]
  },
  {
   "cell_type": "code",
   "execution_count": 63,
   "metadata": {},
   "outputs": [
    {
     "data": {
      "text/html": [
       "<div>\n",
       "<style scoped>\n",
       "    .dataframe tbody tr th:only-of-type {\n",
       "        vertical-align: middle;\n",
       "    }\n",
       "\n",
       "    .dataframe tbody tr th {\n",
       "        vertical-align: top;\n",
       "    }\n",
       "\n",
       "    .dataframe thead th {\n",
       "        text-align: right;\n",
       "    }\n",
       "</style>\n",
       "<table border=\"1\" class=\"dataframe\">\n",
       "  <thead>\n",
       "    <tr style=\"text-align: right;\">\n",
       "      <th></th>\n",
       "      <th>Colorado</th>\n",
       "      <th>Texas</th>\n",
       "      <th>New York</th>\n",
       "      <th>Ohio</th>\n",
       "    </tr>\n",
       "  </thead>\n",
       "  <tbody>\n",
       "    <tr>\n",
       "      <th>2000-01-05</th>\n",
       "      <td>-0.870848</td>\n",
       "      <td>-0.668650</td>\n",
       "      <td>0.204237</td>\n",
       "      <td>-1.629988</td>\n",
       "    </tr>\n",
       "    <tr>\n",
       "      <th>2000-01-06</th>\n",
       "      <td>NaN</td>\n",
       "      <td>NaN</td>\n",
       "      <td>NaN</td>\n",
       "      <td>NaN</td>\n",
       "    </tr>\n",
       "    <tr>\n",
       "      <th>2000-01-07</th>\n",
       "      <td>NaN</td>\n",
       "      <td>NaN</td>\n",
       "      <td>NaN</td>\n",
       "      <td>NaN</td>\n",
       "    </tr>\n",
       "    <tr>\n",
       "      <th>2000-01-08</th>\n",
       "      <td>NaN</td>\n",
       "      <td>NaN</td>\n",
       "      <td>NaN</td>\n",
       "      <td>NaN</td>\n",
       "    </tr>\n",
       "    <tr>\n",
       "      <th>2000-01-09</th>\n",
       "      <td>NaN</td>\n",
       "      <td>NaN</td>\n",
       "      <td>NaN</td>\n",
       "      <td>NaN</td>\n",
       "    </tr>\n",
       "    <tr>\n",
       "      <th>2000-01-10</th>\n",
       "      <td>NaN</td>\n",
       "      <td>NaN</td>\n",
       "      <td>NaN</td>\n",
       "      <td>NaN</td>\n",
       "    </tr>\n",
       "    <tr>\n",
       "      <th>2000-01-11</th>\n",
       "      <td>NaN</td>\n",
       "      <td>NaN</td>\n",
       "      <td>NaN</td>\n",
       "      <td>NaN</td>\n",
       "    </tr>\n",
       "    <tr>\n",
       "      <th>2000-01-12</th>\n",
       "      <td>2.214742</td>\n",
       "      <td>0.469298</td>\n",
       "      <td>0.682206</td>\n",
       "      <td>0.391764</td>\n",
       "    </tr>\n",
       "  </tbody>\n",
       "</table>\n",
       "</div>"
      ],
      "text/plain": [
       "            Colorado     Texas  New York      Ohio\n",
       "2000-01-05 -0.870848 -0.668650  0.204237 -1.629988\n",
       "2000-01-06       NaN       NaN       NaN       NaN\n",
       "2000-01-07       NaN       NaN       NaN       NaN\n",
       "2000-01-08       NaN       NaN       NaN       NaN\n",
       "2000-01-09       NaN       NaN       NaN       NaN\n",
       "2000-01-10       NaN       NaN       NaN       NaN\n",
       "2000-01-11       NaN       NaN       NaN       NaN\n",
       "2000-01-12  2.214742  0.469298  0.682206  0.391764"
      ]
     },
     "execution_count": 63,
     "metadata": {},
     "output_type": "execute_result"
    }
   ],
   "source": [
    "df_daily"
   ]
  },
  {
   "cell_type": "markdown",
   "metadata": {},
   "source": [
    "用前面的周型值填充“此星期三”。  \n",
    "resample 的填充和插值方式跟 fillna 和 reindex 的一个"
   ]
  },
  {
   "cell_type": "code",
   "execution_count": 64,
   "metadata": {},
   "outputs": [
    {
     "data": {
      "text/html": [
       "<div>\n",
       "<style scoped>\n",
       "    .dataframe tbody tr th:only-of-type {\n",
       "        vertical-align: middle;\n",
       "    }\n",
       "\n",
       "    .dataframe tbody tr th {\n",
       "        vertical-align: top;\n",
       "    }\n",
       "\n",
       "    .dataframe thead th {\n",
       "        text-align: right;\n",
       "    }\n",
       "</style>\n",
       "<table border=\"1\" class=\"dataframe\">\n",
       "  <thead>\n",
       "    <tr style=\"text-align: right;\">\n",
       "      <th></th>\n",
       "      <th>Colorado</th>\n",
       "      <th>Texas</th>\n",
       "      <th>New York</th>\n",
       "      <th>Ohio</th>\n",
       "    </tr>\n",
       "  </thead>\n",
       "  <tbody>\n",
       "    <tr>\n",
       "      <th>2000-01-05</th>\n",
       "      <td>-0.870848</td>\n",
       "      <td>-0.668650</td>\n",
       "      <td>0.204237</td>\n",
       "      <td>-1.629988</td>\n",
       "    </tr>\n",
       "    <tr>\n",
       "      <th>2000-01-06</th>\n",
       "      <td>-0.870848</td>\n",
       "      <td>-0.668650</td>\n",
       "      <td>0.204237</td>\n",
       "      <td>-1.629988</td>\n",
       "    </tr>\n",
       "    <tr>\n",
       "      <th>2000-01-07</th>\n",
       "      <td>-0.870848</td>\n",
       "      <td>-0.668650</td>\n",
       "      <td>0.204237</td>\n",
       "      <td>-1.629988</td>\n",
       "    </tr>\n",
       "    <tr>\n",
       "      <th>2000-01-08</th>\n",
       "      <td>-0.870848</td>\n",
       "      <td>-0.668650</td>\n",
       "      <td>0.204237</td>\n",
       "      <td>-1.629988</td>\n",
       "    </tr>\n",
       "    <tr>\n",
       "      <th>2000-01-09</th>\n",
       "      <td>-0.870848</td>\n",
       "      <td>-0.668650</td>\n",
       "      <td>0.204237</td>\n",
       "      <td>-1.629988</td>\n",
       "    </tr>\n",
       "    <tr>\n",
       "      <th>2000-01-10</th>\n",
       "      <td>-0.870848</td>\n",
       "      <td>-0.668650</td>\n",
       "      <td>0.204237</td>\n",
       "      <td>-1.629988</td>\n",
       "    </tr>\n",
       "    <tr>\n",
       "      <th>2000-01-11</th>\n",
       "      <td>-0.870848</td>\n",
       "      <td>-0.668650</td>\n",
       "      <td>0.204237</td>\n",
       "      <td>-1.629988</td>\n",
       "    </tr>\n",
       "    <tr>\n",
       "      <th>2000-01-12</th>\n",
       "      <td>2.214742</td>\n",
       "      <td>0.469298</td>\n",
       "      <td>0.682206</td>\n",
       "      <td>0.391764</td>\n",
       "    </tr>\n",
       "  </tbody>\n",
       "</table>\n",
       "</div>"
      ],
      "text/plain": [
       "            Colorado     Texas  New York      Ohio\n",
       "2000-01-05 -0.870848 -0.668650  0.204237 -1.629988\n",
       "2000-01-06 -0.870848 -0.668650  0.204237 -1.629988\n",
       "2000-01-07 -0.870848 -0.668650  0.204237 -1.629988\n",
       "2000-01-08 -0.870848 -0.668650  0.204237 -1.629988\n",
       "2000-01-09 -0.870848 -0.668650  0.204237 -1.629988\n",
       "2000-01-10 -0.870848 -0.668650  0.204237 -1.629988\n",
       "2000-01-11 -0.870848 -0.668650  0.204237 -1.629988\n",
       "2000-01-12  2.214742  0.469298  0.682206  0.391764"
      ]
     },
     "execution_count": 64,
     "metadata": {},
     "output_type": "execute_result"
    }
   ],
   "source": [
    "frame.resample('D').ffill()"
   ]
  },
  {
   "cell_type": "markdown",
   "metadata": {},
   "source": [
    "同样，也可只填充指定的时期数"
   ]
  },
  {
   "cell_type": "code",
   "execution_count": 65,
   "metadata": {},
   "outputs": [
    {
     "data": {
      "text/html": [
       "<div>\n",
       "<style scoped>\n",
       "    .dataframe tbody tr th:only-of-type {\n",
       "        vertical-align: middle;\n",
       "    }\n",
       "\n",
       "    .dataframe tbody tr th {\n",
       "        vertical-align: top;\n",
       "    }\n",
       "\n",
       "    .dataframe thead th {\n",
       "        text-align: right;\n",
       "    }\n",
       "</style>\n",
       "<table border=\"1\" class=\"dataframe\">\n",
       "  <thead>\n",
       "    <tr style=\"text-align: right;\">\n",
       "      <th></th>\n",
       "      <th>Colorado</th>\n",
       "      <th>Texas</th>\n",
       "      <th>New York</th>\n",
       "      <th>Ohio</th>\n",
       "    </tr>\n",
       "  </thead>\n",
       "  <tbody>\n",
       "    <tr>\n",
       "      <th>2000-01-05</th>\n",
       "      <td>-0.870848</td>\n",
       "      <td>-0.668650</td>\n",
       "      <td>0.204237</td>\n",
       "      <td>-1.629988</td>\n",
       "    </tr>\n",
       "    <tr>\n",
       "      <th>2000-01-06</th>\n",
       "      <td>-0.870848</td>\n",
       "      <td>-0.668650</td>\n",
       "      <td>0.204237</td>\n",
       "      <td>-1.629988</td>\n",
       "    </tr>\n",
       "    <tr>\n",
       "      <th>2000-01-07</th>\n",
       "      <td>-0.870848</td>\n",
       "      <td>-0.668650</td>\n",
       "      <td>0.204237</td>\n",
       "      <td>-1.629988</td>\n",
       "    </tr>\n",
       "    <tr>\n",
       "      <th>2000-01-08</th>\n",
       "      <td>NaN</td>\n",
       "      <td>NaN</td>\n",
       "      <td>NaN</td>\n",
       "      <td>NaN</td>\n",
       "    </tr>\n",
       "    <tr>\n",
       "      <th>2000-01-09</th>\n",
       "      <td>NaN</td>\n",
       "      <td>NaN</td>\n",
       "      <td>NaN</td>\n",
       "      <td>NaN</td>\n",
       "    </tr>\n",
       "    <tr>\n",
       "      <th>2000-01-10</th>\n",
       "      <td>NaN</td>\n",
       "      <td>NaN</td>\n",
       "      <td>NaN</td>\n",
       "      <td>NaN</td>\n",
       "    </tr>\n",
       "    <tr>\n",
       "      <th>2000-01-11</th>\n",
       "      <td>NaN</td>\n",
       "      <td>NaN</td>\n",
       "      <td>NaN</td>\n",
       "      <td>NaN</td>\n",
       "    </tr>\n",
       "    <tr>\n",
       "      <th>2000-01-12</th>\n",
       "      <td>2.214742</td>\n",
       "      <td>0.469298</td>\n",
       "      <td>0.682206</td>\n",
       "      <td>0.391764</td>\n",
       "    </tr>\n",
       "  </tbody>\n",
       "</table>\n",
       "</div>"
      ],
      "text/plain": [
       "            Colorado     Texas  New York      Ohio\n",
       "2000-01-05 -0.870848 -0.668650  0.204237 -1.629988\n",
       "2000-01-06 -0.870848 -0.668650  0.204237 -1.629988\n",
       "2000-01-07 -0.870848 -0.668650  0.204237 -1.629988\n",
       "2000-01-08       NaN       NaN       NaN       NaN\n",
       "2000-01-09       NaN       NaN       NaN       NaN\n",
       "2000-01-10       NaN       NaN       NaN       NaN\n",
       "2000-01-11       NaN       NaN       NaN       NaN\n",
       "2000-01-12  2.214742  0.469298  0.682206  0.391764"
      ]
     },
     "execution_count": 65,
     "metadata": {},
     "output_type": "execute_result"
    }
   ],
   "source": [
    "frame.resample(\"D\").ffill(limit=2)"
   ]
  },
  {
   "cell_type": "markdown",
   "metadata": {},
   "source": [
    "注意，新的日期索完全没必要跟旧的重叠"
   ]
  },
  {
   "cell_type": "code",
   "execution_count": 66,
   "metadata": {},
   "outputs": [
    {
     "data": {
      "text/html": [
       "<div>\n",
       "<style scoped>\n",
       "    .dataframe tbody tr th:only-of-type {\n",
       "        vertical-align: middle;\n",
       "    }\n",
       "\n",
       "    .dataframe tbody tr th {\n",
       "        vertical-align: top;\n",
       "    }\n",
       "\n",
       "    .dataframe thead th {\n",
       "        text-align: right;\n",
       "    }\n",
       "</style>\n",
       "<table border=\"1\" class=\"dataframe\">\n",
       "  <thead>\n",
       "    <tr style=\"text-align: right;\">\n",
       "      <th></th>\n",
       "      <th>Colorado</th>\n",
       "      <th>Texas</th>\n",
       "      <th>New York</th>\n",
       "      <th>Ohio</th>\n",
       "    </tr>\n",
       "  </thead>\n",
       "  <tbody>\n",
       "    <tr>\n",
       "      <th>2000-01-06</th>\n",
       "      <td>-0.870848</td>\n",
       "      <td>-0.668650</td>\n",
       "      <td>0.204237</td>\n",
       "      <td>-1.629988</td>\n",
       "    </tr>\n",
       "    <tr>\n",
       "      <th>2000-01-13</th>\n",
       "      <td>2.214742</td>\n",
       "      <td>0.469298</td>\n",
       "      <td>0.682206</td>\n",
       "      <td>0.391764</td>\n",
       "    </tr>\n",
       "  </tbody>\n",
       "</table>\n",
       "</div>"
      ],
      "text/plain": [
       "            Colorado     Texas  New York      Ohio\n",
       "2000-01-06 -0.870848 -0.668650  0.204237 -1.629988\n",
       "2000-01-13  2.214742  0.469298  0.682206  0.391764"
      ]
     },
     "execution_count": 66,
     "metadata": {},
     "output_type": "execute_result"
    }
   ],
   "source": [
    "frame.resample('W-THU').ffill()"
   ]
  },
  {
   "cell_type": "markdown",
   "metadata": {},
   "source": [
    "### 11.6.4 通过时期进行重采样"
   ]
  },
  {
   "cell_type": "code",
   "execution_count": 70,
   "metadata": {},
   "outputs": [
    {
     "data": {
      "text/html": [
       "<div>\n",
       "<style scoped>\n",
       "    .dataframe tbody tr th:only-of-type {\n",
       "        vertical-align: middle;\n",
       "    }\n",
       "\n",
       "    .dataframe tbody tr th {\n",
       "        vertical-align: top;\n",
       "    }\n",
       "\n",
       "    .dataframe thead th {\n",
       "        text-align: right;\n",
       "    }\n",
       "</style>\n",
       "<table border=\"1\" class=\"dataframe\">\n",
       "  <thead>\n",
       "    <tr style=\"text-align: right;\">\n",
       "      <th></th>\n",
       "      <th>Colorado</th>\n",
       "      <th>Texas</th>\n",
       "      <th>New York</th>\n",
       "      <th>Ohio</th>\n",
       "    </tr>\n",
       "  </thead>\n",
       "  <tbody>\n",
       "    <tr>\n",
       "      <th>2000-01</th>\n",
       "      <td>-1.240811</td>\n",
       "      <td>0.228267</td>\n",
       "      <td>-0.289352</td>\n",
       "      <td>0.739032</td>\n",
       "    </tr>\n",
       "    <tr>\n",
       "      <th>2000-02</th>\n",
       "      <td>-0.338318</td>\n",
       "      <td>0.037976</td>\n",
       "      <td>0.155985</td>\n",
       "      <td>-0.851429</td>\n",
       "    </tr>\n",
       "    <tr>\n",
       "      <th>2000-03</th>\n",
       "      <td>-0.419728</td>\n",
       "      <td>0.517216</td>\n",
       "      <td>-1.089365</td>\n",
       "      <td>0.828240</td>\n",
       "    </tr>\n",
       "    <tr>\n",
       "      <th>2000-04</th>\n",
       "      <td>1.061470</td>\n",
       "      <td>-2.043490</td>\n",
       "      <td>2.550961</td>\n",
       "      <td>-0.834949</td>\n",
       "    </tr>\n",
       "    <tr>\n",
       "      <th>2000-05</th>\n",
       "      <td>-1.276679</td>\n",
       "      <td>0.215613</td>\n",
       "      <td>0.304948</td>\n",
       "      <td>-2.628057</td>\n",
       "    </tr>\n",
       "  </tbody>\n",
       "</table>\n",
       "</div>"
      ],
      "text/plain": [
       "         Colorado     Texas  New York      Ohio\n",
       "2000-01 -1.240811  0.228267 -0.289352  0.739032\n",
       "2000-02 -0.338318  0.037976  0.155985 -0.851429\n",
       "2000-03 -0.419728  0.517216 -1.089365  0.828240\n",
       "2000-04  1.061470 -2.043490  2.550961 -0.834949\n",
       "2000-05 -1.276679  0.215613  0.304948 -2.628057"
      ]
     },
     "execution_count": 70,
     "metadata": {},
     "output_type": "execute_result"
    }
   ],
   "source": [
    "frame = pd.DataFrame(np.random.randn(24, 4),\n",
    "                     index=pd.period_range('1-2000', '12-2001',\n",
    "                                            freq='M'),\n",
    "                     columns=['Colorado', 'Texas', 'New York', 'Ohio'])\n",
    "frame.head()"
   ]
  },
  {
   "cell_type": "code",
   "execution_count": 71,
   "metadata": {},
   "outputs": [],
   "source": [
    "annual_frame = frame.resample('A-DEC').mean()"
   ]
  },
  {
   "cell_type": "code",
   "execution_count": 72,
   "metadata": {},
   "outputs": [
    {
     "data": {
      "text/html": [
       "<div>\n",
       "<style scoped>\n",
       "    .dataframe tbody tr th:only-of-type {\n",
       "        vertical-align: middle;\n",
       "    }\n",
       "\n",
       "    .dataframe tbody tr th {\n",
       "        vertical-align: top;\n",
       "    }\n",
       "\n",
       "    .dataframe thead th {\n",
       "        text-align: right;\n",
       "    }\n",
       "</style>\n",
       "<table border=\"1\" class=\"dataframe\">\n",
       "  <thead>\n",
       "    <tr style=\"text-align: right;\">\n",
       "      <th></th>\n",
       "      <th>Colorado</th>\n",
       "      <th>Texas</th>\n",
       "      <th>New York</th>\n",
       "      <th>Ohio</th>\n",
       "    </tr>\n",
       "  </thead>\n",
       "  <tbody>\n",
       "    <tr>\n",
       "      <th>2000</th>\n",
       "      <td>-0.125189</td>\n",
       "      <td>-0.172748</td>\n",
       "      <td>0.034392</td>\n",
       "      <td>0.361442</td>\n",
       "    </tr>\n",
       "    <tr>\n",
       "      <th>2001</th>\n",
       "      <td>0.454060</td>\n",
       "      <td>-0.237767</td>\n",
       "      <td>0.130067</td>\n",
       "      <td>-0.513619</td>\n",
       "    </tr>\n",
       "  </tbody>\n",
       "</table>\n",
       "</div>"
      ],
      "text/plain": [
       "      Colorado     Texas  New York      Ohio\n",
       "2000 -0.125189 -0.172748  0.034392  0.361442\n",
       "2001  0.454060 -0.237767  0.130067 -0.513619"
      ]
     },
     "execution_count": 72,
     "metadata": {},
     "output_type": "execute_result"
    }
   ],
   "source": [
    "annual_frame"
   ]
  },
  {
   "cell_type": "markdown",
   "metadata": {},
   "source": [
    "升采样要稍微麻烦一些，因为你必须决定在新频率中各区间的哪端用于放置原来的值，就像asfreq方法那样。  \n",
    "convention参数默认为'start'，也可设置为'end'："
   ]
  },
  {
   "cell_type": "code",
   "execution_count": 73,
   "metadata": {},
   "outputs": [
    {
     "data": {
      "text/html": [
       "<div>\n",
       "<style scoped>\n",
       "    .dataframe tbody tr th:only-of-type {\n",
       "        vertical-align: middle;\n",
       "    }\n",
       "\n",
       "    .dataframe tbody tr th {\n",
       "        vertical-align: top;\n",
       "    }\n",
       "\n",
       "    .dataframe thead th {\n",
       "        text-align: right;\n",
       "    }\n",
       "</style>\n",
       "<table border=\"1\" class=\"dataframe\">\n",
       "  <thead>\n",
       "    <tr style=\"text-align: right;\">\n",
       "      <th></th>\n",
       "      <th>Colorado</th>\n",
       "      <th>Texas</th>\n",
       "      <th>New York</th>\n",
       "      <th>Ohio</th>\n",
       "    </tr>\n",
       "  </thead>\n",
       "  <tbody>\n",
       "    <tr>\n",
       "      <th>2000Q1</th>\n",
       "      <td>-0.125189</td>\n",
       "      <td>-0.172748</td>\n",
       "      <td>0.034392</td>\n",
       "      <td>0.361442</td>\n",
       "    </tr>\n",
       "    <tr>\n",
       "      <th>2000Q2</th>\n",
       "      <td>-0.125189</td>\n",
       "      <td>-0.172748</td>\n",
       "      <td>0.034392</td>\n",
       "      <td>0.361442</td>\n",
       "    </tr>\n",
       "    <tr>\n",
       "      <th>2000Q3</th>\n",
       "      <td>-0.125189</td>\n",
       "      <td>-0.172748</td>\n",
       "      <td>0.034392</td>\n",
       "      <td>0.361442</td>\n",
       "    </tr>\n",
       "    <tr>\n",
       "      <th>2000Q4</th>\n",
       "      <td>-0.125189</td>\n",
       "      <td>-0.172748</td>\n",
       "      <td>0.034392</td>\n",
       "      <td>0.361442</td>\n",
       "    </tr>\n",
       "    <tr>\n",
       "      <th>2001Q1</th>\n",
       "      <td>0.454060</td>\n",
       "      <td>-0.237767</td>\n",
       "      <td>0.130067</td>\n",
       "      <td>-0.513619</td>\n",
       "    </tr>\n",
       "    <tr>\n",
       "      <th>2001Q2</th>\n",
       "      <td>0.454060</td>\n",
       "      <td>-0.237767</td>\n",
       "      <td>0.130067</td>\n",
       "      <td>-0.513619</td>\n",
       "    </tr>\n",
       "    <tr>\n",
       "      <th>2001Q3</th>\n",
       "      <td>0.454060</td>\n",
       "      <td>-0.237767</td>\n",
       "      <td>0.130067</td>\n",
       "      <td>-0.513619</td>\n",
       "    </tr>\n",
       "    <tr>\n",
       "      <th>2001Q4</th>\n",
       "      <td>0.454060</td>\n",
       "      <td>-0.237767</td>\n",
       "      <td>0.130067</td>\n",
       "      <td>-0.513619</td>\n",
       "    </tr>\n",
       "  </tbody>\n",
       "</table>\n",
       "</div>"
      ],
      "text/plain": [
       "        Colorado     Texas  New York      Ohio\n",
       "2000Q1 -0.125189 -0.172748  0.034392  0.361442\n",
       "2000Q2 -0.125189 -0.172748  0.034392  0.361442\n",
       "2000Q3 -0.125189 -0.172748  0.034392  0.361442\n",
       "2000Q4 -0.125189 -0.172748  0.034392  0.361442\n",
       "2001Q1  0.454060 -0.237767  0.130067 -0.513619\n",
       "2001Q2  0.454060 -0.237767  0.130067 -0.513619\n",
       "2001Q3  0.454060 -0.237767  0.130067 -0.513619\n",
       "2001Q4  0.454060 -0.237767  0.130067 -0.513619"
      ]
     },
     "execution_count": 73,
     "metadata": {},
     "output_type": "execute_result"
    }
   ],
   "source": [
    "annual_frame.resample('Q-DEC').ffill()"
   ]
  },
  {
   "cell_type": "code",
   "execution_count": 74,
   "metadata": {},
   "outputs": [
    {
     "data": {
      "text/html": [
       "<div>\n",
       "<style scoped>\n",
       "    .dataframe tbody tr th:only-of-type {\n",
       "        vertical-align: middle;\n",
       "    }\n",
       "\n",
       "    .dataframe tbody tr th {\n",
       "        vertical-align: top;\n",
       "    }\n",
       "\n",
       "    .dataframe thead th {\n",
       "        text-align: right;\n",
       "    }\n",
       "</style>\n",
       "<table border=\"1\" class=\"dataframe\">\n",
       "  <thead>\n",
       "    <tr style=\"text-align: right;\">\n",
       "      <th></th>\n",
       "      <th>Colorado</th>\n",
       "      <th>Texas</th>\n",
       "      <th>New York</th>\n",
       "      <th>Ohio</th>\n",
       "    </tr>\n",
       "  </thead>\n",
       "  <tbody>\n",
       "    <tr>\n",
       "      <th>2000Q4</th>\n",
       "      <td>-0.125189</td>\n",
       "      <td>-0.172748</td>\n",
       "      <td>0.034392</td>\n",
       "      <td>0.361442</td>\n",
       "    </tr>\n",
       "    <tr>\n",
       "      <th>2001Q1</th>\n",
       "      <td>-0.125189</td>\n",
       "      <td>-0.172748</td>\n",
       "      <td>0.034392</td>\n",
       "      <td>0.361442</td>\n",
       "    </tr>\n",
       "    <tr>\n",
       "      <th>2001Q2</th>\n",
       "      <td>-0.125189</td>\n",
       "      <td>-0.172748</td>\n",
       "      <td>0.034392</td>\n",
       "      <td>0.361442</td>\n",
       "    </tr>\n",
       "    <tr>\n",
       "      <th>2001Q3</th>\n",
       "      <td>-0.125189</td>\n",
       "      <td>-0.172748</td>\n",
       "      <td>0.034392</td>\n",
       "      <td>0.361442</td>\n",
       "    </tr>\n",
       "    <tr>\n",
       "      <th>2001Q4</th>\n",
       "      <td>0.454060</td>\n",
       "      <td>-0.237767</td>\n",
       "      <td>0.130067</td>\n",
       "      <td>-0.513619</td>\n",
       "    </tr>\n",
       "  </tbody>\n",
       "</table>\n",
       "</div>"
      ],
      "text/plain": [
       "        Colorado     Texas  New York      Ohio\n",
       "2000Q4 -0.125189 -0.172748  0.034392  0.361442\n",
       "2001Q1 -0.125189 -0.172748  0.034392  0.361442\n",
       "2001Q2 -0.125189 -0.172748  0.034392  0.361442\n",
       "2001Q3 -0.125189 -0.172748  0.034392  0.361442\n",
       "2001Q4  0.454060 -0.237767  0.130067 -0.513619"
      ]
     },
     "execution_count": 74,
     "metadata": {},
     "output_type": "execute_result"
    }
   ],
   "source": [
    "annual_frame.resample('Q-DEC', convention='end').ffill()"
   ]
  },
  {
   "cell_type": "markdown",
   "metadata": {},
   "source": [
    "由于时期指的是时间区间，所以升采样和降采样的规则就比较严格：\n",
    "\n",
    "- 在降采样中，目标频率必须是源频率的子时期（subperiod）。\n",
    "- 在升采样中，目标频率必须是源频率的超时期（superperiod）。\n",
    "\n",
    "如果不满足这些条件，就会引发异常。这主要影响的是按季、年、周计算的频率。例如，由Q-MAR定义的时间区间只能升采样为A-MAR、A-JUN、A-SEP、A-DEC等："
   ]
  },
  {
   "cell_type": "code",
   "execution_count": 75,
   "metadata": {},
   "outputs": [
    {
     "data": {
      "text/html": [
       "<div>\n",
       "<style scoped>\n",
       "    .dataframe tbody tr th:only-of-type {\n",
       "        vertical-align: middle;\n",
       "    }\n",
       "\n",
       "    .dataframe tbody tr th {\n",
       "        vertical-align: top;\n",
       "    }\n",
       "\n",
       "    .dataframe thead th {\n",
       "        text-align: right;\n",
       "    }\n",
       "</style>\n",
       "<table border=\"1\" class=\"dataframe\">\n",
       "  <thead>\n",
       "    <tr style=\"text-align: right;\">\n",
       "      <th></th>\n",
       "      <th>Colorado</th>\n",
       "      <th>Texas</th>\n",
       "      <th>New York</th>\n",
       "      <th>Ohio</th>\n",
       "    </tr>\n",
       "  </thead>\n",
       "  <tbody>\n",
       "    <tr>\n",
       "      <th>2000Q4</th>\n",
       "      <td>-0.125189</td>\n",
       "      <td>-0.172748</td>\n",
       "      <td>0.034392</td>\n",
       "      <td>0.361442</td>\n",
       "    </tr>\n",
       "    <tr>\n",
       "      <th>2001Q1</th>\n",
       "      <td>-0.125189</td>\n",
       "      <td>-0.172748</td>\n",
       "      <td>0.034392</td>\n",
       "      <td>0.361442</td>\n",
       "    </tr>\n",
       "    <tr>\n",
       "      <th>2001Q2</th>\n",
       "      <td>-0.125189</td>\n",
       "      <td>-0.172748</td>\n",
       "      <td>0.034392</td>\n",
       "      <td>0.361442</td>\n",
       "    </tr>\n",
       "    <tr>\n",
       "      <th>2001Q3</th>\n",
       "      <td>-0.125189</td>\n",
       "      <td>-0.172748</td>\n",
       "      <td>0.034392</td>\n",
       "      <td>0.361442</td>\n",
       "    </tr>\n",
       "    <tr>\n",
       "      <th>2001Q4</th>\n",
       "      <td>0.454060</td>\n",
       "      <td>-0.237767</td>\n",
       "      <td>0.130067</td>\n",
       "      <td>-0.513619</td>\n",
       "    </tr>\n",
       "    <tr>\n",
       "      <th>2002Q1</th>\n",
       "      <td>0.454060</td>\n",
       "      <td>-0.237767</td>\n",
       "      <td>0.130067</td>\n",
       "      <td>-0.513619</td>\n",
       "    </tr>\n",
       "    <tr>\n",
       "      <th>2002Q2</th>\n",
       "      <td>0.454060</td>\n",
       "      <td>-0.237767</td>\n",
       "      <td>0.130067</td>\n",
       "      <td>-0.513619</td>\n",
       "    </tr>\n",
       "    <tr>\n",
       "      <th>2002Q3</th>\n",
       "      <td>0.454060</td>\n",
       "      <td>-0.237767</td>\n",
       "      <td>0.130067</td>\n",
       "      <td>-0.513619</td>\n",
       "    </tr>\n",
       "  </tbody>\n",
       "</table>\n",
       "</div>"
      ],
      "text/plain": [
       "        Colorado     Texas  New York      Ohio\n",
       "2000Q4 -0.125189 -0.172748  0.034392  0.361442\n",
       "2001Q1 -0.125189 -0.172748  0.034392  0.361442\n",
       "2001Q2 -0.125189 -0.172748  0.034392  0.361442\n",
       "2001Q3 -0.125189 -0.172748  0.034392  0.361442\n",
       "2001Q4  0.454060 -0.237767  0.130067 -0.513619\n",
       "2002Q1  0.454060 -0.237767  0.130067 -0.513619\n",
       "2002Q2  0.454060 -0.237767  0.130067 -0.513619\n",
       "2002Q3  0.454060 -0.237767  0.130067 -0.513619"
      ]
     },
     "execution_count": 75,
     "metadata": {},
     "output_type": "execute_result"
    }
   ],
   "source": [
    "annual_frame.resample('Q-MAR').ffill()"
   ]
  },
  {
   "cell_type": "markdown",
   "metadata": {},
   "source": [
    "## 11.7 移动窗口的函数"
   ]
  },
  {
   "cell_type": "markdown",
   "metadata": {},
   "source": [
    "在移动窗口（可以带有指数衰减权数）上计算的各种统计函数也是一类常见于时间序列的数组变换。这样可以圆滑噪音数据或断裂数据。我将它们称为移动窗口函数（moving window function），其中还包括那些窗口不定长的函数（如指数加权移动平均）。跟其他统计函数一样，移动窗口函数也会自动排除缺失值。\n",
    "\n",
    "开始之前，我们加载一些时间序列数据，将其重采样为工作日频率："
   ]
  },
  {
   "cell_type": "code",
   "execution_count": 76,
   "metadata": {},
   "outputs": [],
   "source": [
    "close_px_all = pd.read_csv(\"examples/stock_px_2.csv\",\n",
    "                          parse_dates=True, index_col=0)"
   ]
  },
  {
   "cell_type": "code",
   "execution_count": 77,
   "metadata": {},
   "outputs": [],
   "source": [
    "close_px = close_px_all[['AAPL', 'MSFT', 'XOM']]"
   ]
  },
  {
   "cell_type": "code",
   "execution_count": 78,
   "metadata": {},
   "outputs": [],
   "source": [
    "close_px = close_px.resample(\"B\").ffill()"
   ]
  },
  {
   "cell_type": "markdown",
   "metadata": {},
   "source": [
    "现在引入rolling运算符，它与resample和groupby很像。可以在TimeSeries或DataFrame以及一个window（表示期数，见图11-4）上调用它："
   ]
  },
  {
   "cell_type": "code",
   "execution_count": 88,
   "metadata": {},
   "outputs": [
    {
     "data": {
      "application/javascript": [
       "/* Put everything inside the global mpl namespace */\n",
       "window.mpl = {};\n",
       "\n",
       "\n",
       "mpl.get_websocket_type = function() {\n",
       "    if (typeof(WebSocket) !== 'undefined') {\n",
       "        return WebSocket;\n",
       "    } else if (typeof(MozWebSocket) !== 'undefined') {\n",
       "        return MozWebSocket;\n",
       "    } else {\n",
       "        alert('Your browser does not have WebSocket support.' +\n",
       "              'Please try Chrome, Safari or Firefox ≥ 6. ' +\n",
       "              'Firefox 4 and 5 are also supported but you ' +\n",
       "              'have to enable WebSockets in about:config.');\n",
       "    };\n",
       "}\n",
       "\n",
       "mpl.figure = function(figure_id, websocket, ondownload, parent_element) {\n",
       "    this.id = figure_id;\n",
       "\n",
       "    this.ws = websocket;\n",
       "\n",
       "    this.supports_binary = (this.ws.binaryType != undefined);\n",
       "\n",
       "    if (!this.supports_binary) {\n",
       "        var warnings = document.getElementById(\"mpl-warnings\");\n",
       "        if (warnings) {\n",
       "            warnings.style.display = 'block';\n",
       "            warnings.textContent = (\n",
       "                \"This browser does not support binary websocket messages. \" +\n",
       "                    \"Performance may be slow.\");\n",
       "        }\n",
       "    }\n",
       "\n",
       "    this.imageObj = new Image();\n",
       "\n",
       "    this.context = undefined;\n",
       "    this.message = undefined;\n",
       "    this.canvas = undefined;\n",
       "    this.rubberband_canvas = undefined;\n",
       "    this.rubberband_context = undefined;\n",
       "    this.format_dropdown = undefined;\n",
       "\n",
       "    this.image_mode = 'full';\n",
       "\n",
       "    this.root = $('<div/>');\n",
       "    this._root_extra_style(this.root)\n",
       "    this.root.attr('style', 'display: inline-block');\n",
       "\n",
       "    $(parent_element).append(this.root);\n",
       "\n",
       "    this._init_header(this);\n",
       "    this._init_canvas(this);\n",
       "    this._init_toolbar(this);\n",
       "\n",
       "    var fig = this;\n",
       "\n",
       "    this.waiting = false;\n",
       "\n",
       "    this.ws.onopen =  function () {\n",
       "            fig.send_message(\"supports_binary\", {value: fig.supports_binary});\n",
       "            fig.send_message(\"send_image_mode\", {});\n",
       "            if (mpl.ratio != 1) {\n",
       "                fig.send_message(\"set_dpi_ratio\", {'dpi_ratio': mpl.ratio});\n",
       "            }\n",
       "            fig.send_message(\"refresh\", {});\n",
       "        }\n",
       "\n",
       "    this.imageObj.onload = function() {\n",
       "            if (fig.image_mode == 'full') {\n",
       "                // Full images could contain transparency (where diff images\n",
       "                // almost always do), so we need to clear the canvas so that\n",
       "                // there is no ghosting.\n",
       "                fig.context.clearRect(0, 0, fig.canvas.width, fig.canvas.height);\n",
       "            }\n",
       "            fig.context.drawImage(fig.imageObj, 0, 0);\n",
       "        };\n",
       "\n",
       "    this.imageObj.onunload = function() {\n",
       "        fig.ws.close();\n",
       "    }\n",
       "\n",
       "    this.ws.onmessage = this._make_on_message_function(this);\n",
       "\n",
       "    this.ondownload = ondownload;\n",
       "}\n",
       "\n",
       "mpl.figure.prototype._init_header = function() {\n",
       "    var titlebar = $(\n",
       "        '<div class=\"ui-dialog-titlebar ui-widget-header ui-corner-all ' +\n",
       "        'ui-helper-clearfix\"/>');\n",
       "    var titletext = $(\n",
       "        '<div class=\"ui-dialog-title\" style=\"width: 100%; ' +\n",
       "        'text-align: center; padding: 3px;\"/>');\n",
       "    titlebar.append(titletext)\n",
       "    this.root.append(titlebar);\n",
       "    this.header = titletext[0];\n",
       "}\n",
       "\n",
       "\n",
       "\n",
       "mpl.figure.prototype._canvas_extra_style = function(canvas_div) {\n",
       "\n",
       "}\n",
       "\n",
       "\n",
       "mpl.figure.prototype._root_extra_style = function(canvas_div) {\n",
       "\n",
       "}\n",
       "\n",
       "mpl.figure.prototype._init_canvas = function() {\n",
       "    var fig = this;\n",
       "\n",
       "    var canvas_div = $('<div/>');\n",
       "\n",
       "    canvas_div.attr('style', 'position: relative; clear: both; outline: 0');\n",
       "\n",
       "    function canvas_keyboard_event(event) {\n",
       "        return fig.key_event(event, event['data']);\n",
       "    }\n",
       "\n",
       "    canvas_div.keydown('key_press', canvas_keyboard_event);\n",
       "    canvas_div.keyup('key_release', canvas_keyboard_event);\n",
       "    this.canvas_div = canvas_div\n",
       "    this._canvas_extra_style(canvas_div)\n",
       "    this.root.append(canvas_div);\n",
       "\n",
       "    var canvas = $('<canvas/>');\n",
       "    canvas.addClass('mpl-canvas');\n",
       "    canvas.attr('style', \"left: 0; top: 0; z-index: 0; outline: 0\")\n",
       "\n",
       "    this.canvas = canvas[0];\n",
       "    this.context = canvas[0].getContext(\"2d\");\n",
       "\n",
       "    var backingStore = this.context.backingStorePixelRatio ||\n",
       "\tthis.context.webkitBackingStorePixelRatio ||\n",
       "\tthis.context.mozBackingStorePixelRatio ||\n",
       "\tthis.context.msBackingStorePixelRatio ||\n",
       "\tthis.context.oBackingStorePixelRatio ||\n",
       "\tthis.context.backingStorePixelRatio || 1;\n",
       "\n",
       "    mpl.ratio = (window.devicePixelRatio || 1) / backingStore;\n",
       "\n",
       "    var rubberband = $('<canvas/>');\n",
       "    rubberband.attr('style', \"position: absolute; left: 0; top: 0; z-index: 1;\")\n",
       "\n",
       "    var pass_mouse_events = true;\n",
       "\n",
       "    canvas_div.resizable({\n",
       "        start: function(event, ui) {\n",
       "            pass_mouse_events = false;\n",
       "        },\n",
       "        resize: function(event, ui) {\n",
       "            fig.request_resize(ui.size.width, ui.size.height);\n",
       "        },\n",
       "        stop: function(event, ui) {\n",
       "            pass_mouse_events = true;\n",
       "            fig.request_resize(ui.size.width, ui.size.height);\n",
       "        },\n",
       "    });\n",
       "\n",
       "    function mouse_event_fn(event) {\n",
       "        if (pass_mouse_events)\n",
       "            return fig.mouse_event(event, event['data']);\n",
       "    }\n",
       "\n",
       "    rubberband.mousedown('button_press', mouse_event_fn);\n",
       "    rubberband.mouseup('button_release', mouse_event_fn);\n",
       "    // Throttle sequential mouse events to 1 every 20ms.\n",
       "    rubberband.mousemove('motion_notify', mouse_event_fn);\n",
       "\n",
       "    rubberband.mouseenter('figure_enter', mouse_event_fn);\n",
       "    rubberband.mouseleave('figure_leave', mouse_event_fn);\n",
       "\n",
       "    canvas_div.on(\"wheel\", function (event) {\n",
       "        event = event.originalEvent;\n",
       "        event['data'] = 'scroll'\n",
       "        if (event.deltaY < 0) {\n",
       "            event.step = 1;\n",
       "        } else {\n",
       "            event.step = -1;\n",
       "        }\n",
       "        mouse_event_fn(event);\n",
       "    });\n",
       "\n",
       "    canvas_div.append(canvas);\n",
       "    canvas_div.append(rubberband);\n",
       "\n",
       "    this.rubberband = rubberband;\n",
       "    this.rubberband_canvas = rubberband[0];\n",
       "    this.rubberband_context = rubberband[0].getContext(\"2d\");\n",
       "    this.rubberband_context.strokeStyle = \"#000000\";\n",
       "\n",
       "    this._resize_canvas = function(width, height) {\n",
       "        // Keep the size of the canvas, canvas container, and rubber band\n",
       "        // canvas in synch.\n",
       "        canvas_div.css('width', width)\n",
       "        canvas_div.css('height', height)\n",
       "\n",
       "        canvas.attr('width', width * mpl.ratio);\n",
       "        canvas.attr('height', height * mpl.ratio);\n",
       "        canvas.attr('style', 'width: ' + width + 'px; height: ' + height + 'px;');\n",
       "\n",
       "        rubberband.attr('width', width);\n",
       "        rubberband.attr('height', height);\n",
       "    }\n",
       "\n",
       "    // Set the figure to an initial 600x600px, this will subsequently be updated\n",
       "    // upon first draw.\n",
       "    this._resize_canvas(600, 600);\n",
       "\n",
       "    // Disable right mouse context menu.\n",
       "    $(this.rubberband_canvas).bind(\"contextmenu\",function(e){\n",
       "        return false;\n",
       "    });\n",
       "\n",
       "    function set_focus () {\n",
       "        canvas.focus();\n",
       "        canvas_div.focus();\n",
       "    }\n",
       "\n",
       "    window.setTimeout(set_focus, 100);\n",
       "}\n",
       "\n",
       "mpl.figure.prototype._init_toolbar = function() {\n",
       "    var fig = this;\n",
       "\n",
       "    var nav_element = $('<div/>')\n",
       "    nav_element.attr('style', 'width: 100%');\n",
       "    this.root.append(nav_element);\n",
       "\n",
       "    // Define a callback function for later on.\n",
       "    function toolbar_event(event) {\n",
       "        return fig.toolbar_button_onclick(event['data']);\n",
       "    }\n",
       "    function toolbar_mouse_event(event) {\n",
       "        return fig.toolbar_button_onmouseover(event['data']);\n",
       "    }\n",
       "\n",
       "    for(var toolbar_ind in mpl.toolbar_items) {\n",
       "        var name = mpl.toolbar_items[toolbar_ind][0];\n",
       "        var tooltip = mpl.toolbar_items[toolbar_ind][1];\n",
       "        var image = mpl.toolbar_items[toolbar_ind][2];\n",
       "        var method_name = mpl.toolbar_items[toolbar_ind][3];\n",
       "\n",
       "        if (!name) {\n",
       "            // put a spacer in here.\n",
       "            continue;\n",
       "        }\n",
       "        var button = $('<button/>');\n",
       "        button.addClass('ui-button ui-widget ui-state-default ui-corner-all ' +\n",
       "                        'ui-button-icon-only');\n",
       "        button.attr('role', 'button');\n",
       "        button.attr('aria-disabled', 'false');\n",
       "        button.click(method_name, toolbar_event);\n",
       "        button.mouseover(tooltip, toolbar_mouse_event);\n",
       "\n",
       "        var icon_img = $('<span/>');\n",
       "        icon_img.addClass('ui-button-icon-primary ui-icon');\n",
       "        icon_img.addClass(image);\n",
       "        icon_img.addClass('ui-corner-all');\n",
       "\n",
       "        var tooltip_span = $('<span/>');\n",
       "        tooltip_span.addClass('ui-button-text');\n",
       "        tooltip_span.html(tooltip);\n",
       "\n",
       "        button.append(icon_img);\n",
       "        button.append(tooltip_span);\n",
       "\n",
       "        nav_element.append(button);\n",
       "    }\n",
       "\n",
       "    var fmt_picker_span = $('<span/>');\n",
       "\n",
       "    var fmt_picker = $('<select/>');\n",
       "    fmt_picker.addClass('mpl-toolbar-option ui-widget ui-widget-content');\n",
       "    fmt_picker_span.append(fmt_picker);\n",
       "    nav_element.append(fmt_picker_span);\n",
       "    this.format_dropdown = fmt_picker[0];\n",
       "\n",
       "    for (var ind in mpl.extensions) {\n",
       "        var fmt = mpl.extensions[ind];\n",
       "        var option = $(\n",
       "            '<option/>', {selected: fmt === mpl.default_extension}).html(fmt);\n",
       "        fmt_picker.append(option)\n",
       "    }\n",
       "\n",
       "    // Add hover states to the ui-buttons\n",
       "    $( \".ui-button\" ).hover(\n",
       "        function() { $(this).addClass(\"ui-state-hover\");},\n",
       "        function() { $(this).removeClass(\"ui-state-hover\");}\n",
       "    );\n",
       "\n",
       "    var status_bar = $('<span class=\"mpl-message\"/>');\n",
       "    nav_element.append(status_bar);\n",
       "    this.message = status_bar[0];\n",
       "}\n",
       "\n",
       "mpl.figure.prototype.request_resize = function(x_pixels, y_pixels) {\n",
       "    // Request matplotlib to resize the figure. Matplotlib will then trigger a resize in the client,\n",
       "    // which will in turn request a refresh of the image.\n",
       "    this.send_message('resize', {'width': x_pixels, 'height': y_pixels});\n",
       "}\n",
       "\n",
       "mpl.figure.prototype.send_message = function(type, properties) {\n",
       "    properties['type'] = type;\n",
       "    properties['figure_id'] = this.id;\n",
       "    this.ws.send(JSON.stringify(properties));\n",
       "}\n",
       "\n",
       "mpl.figure.prototype.send_draw_message = function() {\n",
       "    if (!this.waiting) {\n",
       "        this.waiting = true;\n",
       "        this.ws.send(JSON.stringify({type: \"draw\", figure_id: this.id}));\n",
       "    }\n",
       "}\n",
       "\n",
       "\n",
       "mpl.figure.prototype.handle_save = function(fig, msg) {\n",
       "    var format_dropdown = fig.format_dropdown;\n",
       "    var format = format_dropdown.options[format_dropdown.selectedIndex].value;\n",
       "    fig.ondownload(fig, format);\n",
       "}\n",
       "\n",
       "\n",
       "mpl.figure.prototype.handle_resize = function(fig, msg) {\n",
       "    var size = msg['size'];\n",
       "    if (size[0] != fig.canvas.width || size[1] != fig.canvas.height) {\n",
       "        fig._resize_canvas(size[0], size[1]);\n",
       "        fig.send_message(\"refresh\", {});\n",
       "    };\n",
       "}\n",
       "\n",
       "mpl.figure.prototype.handle_rubberband = function(fig, msg) {\n",
       "    var x0 = msg['x0'] / mpl.ratio;\n",
       "    var y0 = (fig.canvas.height - msg['y0']) / mpl.ratio;\n",
       "    var x1 = msg['x1'] / mpl.ratio;\n",
       "    var y1 = (fig.canvas.height - msg['y1']) / mpl.ratio;\n",
       "    x0 = Math.floor(x0) + 0.5;\n",
       "    y0 = Math.floor(y0) + 0.5;\n",
       "    x1 = Math.floor(x1) + 0.5;\n",
       "    y1 = Math.floor(y1) + 0.5;\n",
       "    var min_x = Math.min(x0, x1);\n",
       "    var min_y = Math.min(y0, y1);\n",
       "    var width = Math.abs(x1 - x0);\n",
       "    var height = Math.abs(y1 - y0);\n",
       "\n",
       "    fig.rubberband_context.clearRect(\n",
       "        0, 0, fig.canvas.width, fig.canvas.height);\n",
       "\n",
       "    fig.rubberband_context.strokeRect(min_x, min_y, width, height);\n",
       "}\n",
       "\n",
       "mpl.figure.prototype.handle_figure_label = function(fig, msg) {\n",
       "    // Updates the figure title.\n",
       "    fig.header.textContent = msg['label'];\n",
       "}\n",
       "\n",
       "mpl.figure.prototype.handle_cursor = function(fig, msg) {\n",
       "    var cursor = msg['cursor'];\n",
       "    switch(cursor)\n",
       "    {\n",
       "    case 0:\n",
       "        cursor = 'pointer';\n",
       "        break;\n",
       "    case 1:\n",
       "        cursor = 'default';\n",
       "        break;\n",
       "    case 2:\n",
       "        cursor = 'crosshair';\n",
       "        break;\n",
       "    case 3:\n",
       "        cursor = 'move';\n",
       "        break;\n",
       "    }\n",
       "    fig.rubberband_canvas.style.cursor = cursor;\n",
       "}\n",
       "\n",
       "mpl.figure.prototype.handle_message = function(fig, msg) {\n",
       "    fig.message.textContent = msg['message'];\n",
       "}\n",
       "\n",
       "mpl.figure.prototype.handle_draw = function(fig, msg) {\n",
       "    // Request the server to send over a new figure.\n",
       "    fig.send_draw_message();\n",
       "}\n",
       "\n",
       "mpl.figure.prototype.handle_image_mode = function(fig, msg) {\n",
       "    fig.image_mode = msg['mode'];\n",
       "}\n",
       "\n",
       "mpl.figure.prototype.updated_canvas_event = function() {\n",
       "    // Called whenever the canvas gets updated.\n",
       "    this.send_message(\"ack\", {});\n",
       "}\n",
       "\n",
       "// A function to construct a web socket function for onmessage handling.\n",
       "// Called in the figure constructor.\n",
       "mpl.figure.prototype._make_on_message_function = function(fig) {\n",
       "    return function socket_on_message(evt) {\n",
       "        if (evt.data instanceof Blob) {\n",
       "            /* FIXME: We get \"Resource interpreted as Image but\n",
       "             * transferred with MIME type text/plain:\" errors on\n",
       "             * Chrome.  But how to set the MIME type?  It doesn't seem\n",
       "             * to be part of the websocket stream */\n",
       "            evt.data.type = \"image/png\";\n",
       "\n",
       "            /* Free the memory for the previous frames */\n",
       "            if (fig.imageObj.src) {\n",
       "                (window.URL || window.webkitURL).revokeObjectURL(\n",
       "                    fig.imageObj.src);\n",
       "            }\n",
       "\n",
       "            fig.imageObj.src = (window.URL || window.webkitURL).createObjectURL(\n",
       "                evt.data);\n",
       "            fig.updated_canvas_event();\n",
       "            fig.waiting = false;\n",
       "            return;\n",
       "        }\n",
       "        else if (typeof evt.data === 'string' && evt.data.slice(0, 21) == \"data:image/png;base64\") {\n",
       "            fig.imageObj.src = evt.data;\n",
       "            fig.updated_canvas_event();\n",
       "            fig.waiting = false;\n",
       "            return;\n",
       "        }\n",
       "\n",
       "        var msg = JSON.parse(evt.data);\n",
       "        var msg_type = msg['type'];\n",
       "\n",
       "        // Call the  \"handle_{type}\" callback, which takes\n",
       "        // the figure and JSON message as its only arguments.\n",
       "        try {\n",
       "            var callback = fig[\"handle_\" + msg_type];\n",
       "        } catch (e) {\n",
       "            console.log(\"No handler for the '\" + msg_type + \"' message type: \", msg);\n",
       "            return;\n",
       "        }\n",
       "\n",
       "        if (callback) {\n",
       "            try {\n",
       "                // console.log(\"Handling '\" + msg_type + \"' message: \", msg);\n",
       "                callback(fig, msg);\n",
       "            } catch (e) {\n",
       "                console.log(\"Exception inside the 'handler_\" + msg_type + \"' callback:\", e, e.stack, msg);\n",
       "            }\n",
       "        }\n",
       "    };\n",
       "}\n",
       "\n",
       "// from http://stackoverflow.com/questions/1114465/getting-mouse-location-in-canvas\n",
       "mpl.findpos = function(e) {\n",
       "    //this section is from http://www.quirksmode.org/js/events_properties.html\n",
       "    var targ;\n",
       "    if (!e)\n",
       "        e = window.event;\n",
       "    if (e.target)\n",
       "        targ = e.target;\n",
       "    else if (e.srcElement)\n",
       "        targ = e.srcElement;\n",
       "    if (targ.nodeType == 3) // defeat Safari bug\n",
       "        targ = targ.parentNode;\n",
       "\n",
       "    // jQuery normalizes the pageX and pageY\n",
       "    // pageX,Y are the mouse positions relative to the document\n",
       "    // offset() returns the position of the element relative to the document\n",
       "    var x = e.pageX - $(targ).offset().left;\n",
       "    var y = e.pageY - $(targ).offset().top;\n",
       "\n",
       "    return {\"x\": x, \"y\": y};\n",
       "};\n",
       "\n",
       "/*\n",
       " * return a copy of an object with only non-object keys\n",
       " * we need this to avoid circular references\n",
       " * http://stackoverflow.com/a/24161582/3208463\n",
       " */\n",
       "function simpleKeys (original) {\n",
       "  return Object.keys(original).reduce(function (obj, key) {\n",
       "    if (typeof original[key] !== 'object')\n",
       "        obj[key] = original[key]\n",
       "    return obj;\n",
       "  }, {});\n",
       "}\n",
       "\n",
       "mpl.figure.prototype.mouse_event = function(event, name) {\n",
       "    var canvas_pos = mpl.findpos(event)\n",
       "\n",
       "    if (name === 'button_press')\n",
       "    {\n",
       "        this.canvas.focus();\n",
       "        this.canvas_div.focus();\n",
       "    }\n",
       "\n",
       "    var x = canvas_pos.x * mpl.ratio;\n",
       "    var y = canvas_pos.y * mpl.ratio;\n",
       "\n",
       "    this.send_message(name, {x: x, y: y, button: event.button,\n",
       "                             step: event.step,\n",
       "                             guiEvent: simpleKeys(event)});\n",
       "\n",
       "    /* This prevents the web browser from automatically changing to\n",
       "     * the text insertion cursor when the button is pressed.  We want\n",
       "     * to control all of the cursor setting manually through the\n",
       "     * 'cursor' event from matplotlib */\n",
       "    event.preventDefault();\n",
       "    return false;\n",
       "}\n",
       "\n",
       "mpl.figure.prototype._key_event_extra = function(event, name) {\n",
       "    // Handle any extra behaviour associated with a key event\n",
       "}\n",
       "\n",
       "mpl.figure.prototype.key_event = function(event, name) {\n",
       "\n",
       "    // Prevent repeat events\n",
       "    if (name == 'key_press')\n",
       "    {\n",
       "        if (event.which === this._key)\n",
       "            return;\n",
       "        else\n",
       "            this._key = event.which;\n",
       "    }\n",
       "    if (name == 'key_release')\n",
       "        this._key = null;\n",
       "\n",
       "    var value = '';\n",
       "    if (event.ctrlKey && event.which != 17)\n",
       "        value += \"ctrl+\";\n",
       "    if (event.altKey && event.which != 18)\n",
       "        value += \"alt+\";\n",
       "    if (event.shiftKey && event.which != 16)\n",
       "        value += \"shift+\";\n",
       "\n",
       "    value += 'k';\n",
       "    value += event.which.toString();\n",
       "\n",
       "    this._key_event_extra(event, name);\n",
       "\n",
       "    this.send_message(name, {key: value,\n",
       "                             guiEvent: simpleKeys(event)});\n",
       "    return false;\n",
       "}\n",
       "\n",
       "mpl.figure.prototype.toolbar_button_onclick = function(name) {\n",
       "    if (name == 'download') {\n",
       "        this.handle_save(this, null);\n",
       "    } else {\n",
       "        this.send_message(\"toolbar_button\", {name: name});\n",
       "    }\n",
       "};\n",
       "\n",
       "mpl.figure.prototype.toolbar_button_onmouseover = function(tooltip) {\n",
       "    this.message.textContent = tooltip;\n",
       "};\n",
       "mpl.toolbar_items = [[\"Home\", \"Reset original view\", \"fa fa-home icon-home\", \"home\"], [\"Back\", \"Back to previous view\", \"fa fa-arrow-left icon-arrow-left\", \"back\"], [\"Forward\", \"Forward to next view\", \"fa fa-arrow-right icon-arrow-right\", \"forward\"], [\"\", \"\", \"\", \"\"], [\"Pan\", \"Pan axes with left mouse, zoom with right\", \"fa fa-arrows icon-move\", \"pan\"], [\"Zoom\", \"Zoom to rectangle\", \"fa fa-square-o icon-check-empty\", \"zoom\"], [\"\", \"\", \"\", \"\"], [\"Download\", \"Download plot\", \"fa fa-floppy-o icon-save\", \"download\"]];\n",
       "\n",
       "mpl.extensions = [\"eps\", \"jpeg\", \"pdf\", \"png\", \"ps\", \"raw\", \"svg\", \"tif\"];\n",
       "\n",
       "mpl.default_extension = \"png\";var comm_websocket_adapter = function(comm) {\n",
       "    // Create a \"websocket\"-like object which calls the given IPython comm\n",
       "    // object with the appropriate methods. Currently this is a non binary\n",
       "    // socket, so there is still some room for performance tuning.\n",
       "    var ws = {};\n",
       "\n",
       "    ws.close = function() {\n",
       "        comm.close()\n",
       "    };\n",
       "    ws.send = function(m) {\n",
       "        //console.log('sending', m);\n",
       "        comm.send(m);\n",
       "    };\n",
       "    // Register the callback with on_msg.\n",
       "    comm.on_msg(function(msg) {\n",
       "        //console.log('receiving', msg['content']['data'], msg);\n",
       "        // Pass the mpl event to the overridden (by mpl) onmessage function.\n",
       "        ws.onmessage(msg['content']['data'])\n",
       "    });\n",
       "    return ws;\n",
       "}\n",
       "\n",
       "mpl.mpl_figure_comm = function(comm, msg) {\n",
       "    // This is the function which gets called when the mpl process\n",
       "    // starts-up an IPython Comm through the \"matplotlib\" channel.\n",
       "\n",
       "    var id = msg.content.data.id;\n",
       "    // Get hold of the div created by the display call when the Comm\n",
       "    // socket was opened in Python.\n",
       "    var element = $(\"#\" + id);\n",
       "    var ws_proxy = comm_websocket_adapter(comm)\n",
       "\n",
       "    function ondownload(figure, format) {\n",
       "        window.open(figure.imageObj.src);\n",
       "    }\n",
       "\n",
       "    var fig = new mpl.figure(id, ws_proxy,\n",
       "                           ondownload,\n",
       "                           element.get(0));\n",
       "\n",
       "    // Call onopen now - mpl needs it, as it is assuming we've passed it a real\n",
       "    // web socket which is closed, not our websocket->open comm proxy.\n",
       "    ws_proxy.onopen();\n",
       "\n",
       "    fig.parent_element = element.get(0);\n",
       "    fig.cell_info = mpl.find_output_cell(\"<div id='\" + id + \"'></div>\");\n",
       "    if (!fig.cell_info) {\n",
       "        console.error(\"Failed to find cell for figure\", id, fig);\n",
       "        return;\n",
       "    }\n",
       "\n",
       "    var output_index = fig.cell_info[2]\n",
       "    var cell = fig.cell_info[0];\n",
       "\n",
       "};\n",
       "\n",
       "mpl.figure.prototype.handle_close = function(fig, msg) {\n",
       "    var width = fig.canvas.width/mpl.ratio\n",
       "    fig.root.unbind('remove')\n",
       "\n",
       "    // Update the output cell to use the data from the current canvas.\n",
       "    fig.push_to_output();\n",
       "    var dataURL = fig.canvas.toDataURL();\n",
       "    // Re-enable the keyboard manager in IPython - without this line, in FF,\n",
       "    // the notebook keyboard shortcuts fail.\n",
       "    IPython.keyboard_manager.enable()\n",
       "    $(fig.parent_element).html('<img src=\"' + dataURL + '\" width=\"' + width + '\">');\n",
       "    fig.close_ws(fig, msg);\n",
       "}\n",
       "\n",
       "mpl.figure.prototype.close_ws = function(fig, msg){\n",
       "    fig.send_message('closing', msg);\n",
       "    // fig.ws.close()\n",
       "}\n",
       "\n",
       "mpl.figure.prototype.push_to_output = function(remove_interactive) {\n",
       "    // Turn the data on the canvas into data in the output cell.\n",
       "    var width = this.canvas.width/mpl.ratio\n",
       "    var dataURL = this.canvas.toDataURL();\n",
       "    this.cell_info[1]['text/html'] = '<img src=\"' + dataURL + '\" width=\"' + width + '\">';\n",
       "}\n",
       "\n",
       "mpl.figure.prototype.updated_canvas_event = function() {\n",
       "    // Tell IPython that the notebook contents must change.\n",
       "    IPython.notebook.set_dirty(true);\n",
       "    this.send_message(\"ack\", {});\n",
       "    var fig = this;\n",
       "    // Wait a second, then push the new image to the DOM so\n",
       "    // that it is saved nicely (might be nice to debounce this).\n",
       "    setTimeout(function () { fig.push_to_output() }, 1000);\n",
       "}\n",
       "\n",
       "mpl.figure.prototype._init_toolbar = function() {\n",
       "    var fig = this;\n",
       "\n",
       "    var nav_element = $('<div/>')\n",
       "    nav_element.attr('style', 'width: 100%');\n",
       "    this.root.append(nav_element);\n",
       "\n",
       "    // Define a callback function for later on.\n",
       "    function toolbar_event(event) {\n",
       "        return fig.toolbar_button_onclick(event['data']);\n",
       "    }\n",
       "    function toolbar_mouse_event(event) {\n",
       "        return fig.toolbar_button_onmouseover(event['data']);\n",
       "    }\n",
       "\n",
       "    for(var toolbar_ind in mpl.toolbar_items){\n",
       "        var name = mpl.toolbar_items[toolbar_ind][0];\n",
       "        var tooltip = mpl.toolbar_items[toolbar_ind][1];\n",
       "        var image = mpl.toolbar_items[toolbar_ind][2];\n",
       "        var method_name = mpl.toolbar_items[toolbar_ind][3];\n",
       "\n",
       "        if (!name) { continue; };\n",
       "\n",
       "        var button = $('<button class=\"btn btn-default\" href=\"#\" title=\"' + name + '\"><i class=\"fa ' + image + ' fa-lg\"></i></button>');\n",
       "        button.click(method_name, toolbar_event);\n",
       "        button.mouseover(tooltip, toolbar_mouse_event);\n",
       "        nav_element.append(button);\n",
       "    }\n",
       "\n",
       "    // Add the status bar.\n",
       "    var status_bar = $('<span class=\"mpl-message\" style=\"text-align:right; float: right;\"/>');\n",
       "    nav_element.append(status_bar);\n",
       "    this.message = status_bar[0];\n",
       "\n",
       "    // Add the close button to the window.\n",
       "    var buttongrp = $('<div class=\"btn-group inline pull-right\"></div>');\n",
       "    var button = $('<button class=\"btn btn-mini btn-primary\" href=\"#\" title=\"Stop Interaction\"><i class=\"fa fa-power-off icon-remove icon-large\"></i></button>');\n",
       "    button.click(function (evt) { fig.handle_close(fig, {}); } );\n",
       "    button.mouseover('Stop Interaction', toolbar_mouse_event);\n",
       "    buttongrp.append(button);\n",
       "    var titlebar = this.root.find($('.ui-dialog-titlebar'));\n",
       "    titlebar.prepend(buttongrp);\n",
       "}\n",
       "\n",
       "mpl.figure.prototype._root_extra_style = function(el){\n",
       "    var fig = this\n",
       "    el.on(\"remove\", function(){\n",
       "\tfig.close_ws(fig, {});\n",
       "    });\n",
       "}\n",
       "\n",
       "mpl.figure.prototype._canvas_extra_style = function(el){\n",
       "    // this is important to make the div 'focusable\n",
       "    el.attr('tabindex', 0)\n",
       "    // reach out to IPython and tell the keyboard manager to turn it's self\n",
       "    // off when our div gets focus\n",
       "\n",
       "    // location in version 3\n",
       "    if (IPython.notebook.keyboard_manager) {\n",
       "        IPython.notebook.keyboard_manager.register_events(el);\n",
       "    }\n",
       "    else {\n",
       "        // location in version 2\n",
       "        IPython.keyboard_manager.register_events(el);\n",
       "    }\n",
       "\n",
       "}\n",
       "\n",
       "mpl.figure.prototype._key_event_extra = function(event, name) {\n",
       "    var manager = IPython.notebook.keyboard_manager;\n",
       "    if (!manager)\n",
       "        manager = IPython.keyboard_manager;\n",
       "\n",
       "    // Check for shift+enter\n",
       "    if (event.shiftKey && event.which == 13) {\n",
       "        this.canvas_div.blur();\n",
       "        event.shiftKey = false;\n",
       "        // Send a \"J\" for go to next cell\n",
       "        event.which = 74;\n",
       "        event.keyCode = 74;\n",
       "        manager.command_mode();\n",
       "        manager.handle_keydown(event);\n",
       "    }\n",
       "}\n",
       "\n",
       "mpl.figure.prototype.handle_save = function(fig, msg) {\n",
       "    fig.ondownload(fig, null);\n",
       "}\n",
       "\n",
       "\n",
       "mpl.find_output_cell = function(html_output) {\n",
       "    // Return the cell and output element which can be found *uniquely* in the notebook.\n",
       "    // Note - this is a bit hacky, but it is done because the \"notebook_saving.Notebook\"\n",
       "    // IPython event is triggered only after the cells have been serialised, which for\n",
       "    // our purposes (turning an active figure into a static one), is too late.\n",
       "    var cells = IPython.notebook.get_cells();\n",
       "    var ncells = cells.length;\n",
       "    for (var i=0; i<ncells; i++) {\n",
       "        var cell = cells[i];\n",
       "        if (cell.cell_type === 'code'){\n",
       "            for (var j=0; j<cell.output_area.outputs.length; j++) {\n",
       "                var data = cell.output_area.outputs[j];\n",
       "                if (data.data) {\n",
       "                    // IPython >= 3 moved mimebundle to data attribute of output\n",
       "                    data = data.data;\n",
       "                }\n",
       "                if (data['text/html'] == html_output) {\n",
       "                    return [cell, data, j];\n",
       "                }\n",
       "            }\n",
       "        }\n",
       "    }\n",
       "}\n",
       "\n",
       "// Register the function which deals with the matplotlib target/channel.\n",
       "// The kernel may be null if the page has been refreshed.\n",
       "if (IPython.notebook.kernel != null) {\n",
       "    IPython.notebook.kernel.comm_manager.register_target('matplotlib', mpl.mpl_figure_comm);\n",
       "}\n"
      ],
      "text/plain": [
       "<IPython.core.display.Javascript object>"
      ]
     },
     "metadata": {},
     "output_type": "display_data"
    },
    {
     "data": {
      "text/html": [
       "<img src=\"data:image/png;base64,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\" width=\"640\">"
      ],
      "text/plain": [
       "<IPython.core.display.HTML object>"
      ]
     },
     "metadata": {},
     "output_type": "display_data"
    },
    {
     "data": {
      "application/javascript": [
       "/* Put everything inside the global mpl namespace */\n",
       "window.mpl = {};\n",
       "\n",
       "\n",
       "mpl.get_websocket_type = function() {\n",
       "    if (typeof(WebSocket) !== 'undefined') {\n",
       "        return WebSocket;\n",
       "    } else if (typeof(MozWebSocket) !== 'undefined') {\n",
       "        return MozWebSocket;\n",
       "    } else {\n",
       "        alert('Your browser does not have WebSocket support.' +\n",
       "              'Please try Chrome, Safari or Firefox ≥ 6. ' +\n",
       "              'Firefox 4 and 5 are also supported but you ' +\n",
       "              'have to enable WebSockets in about:config.');\n",
       "    };\n",
       "}\n",
       "\n",
       "mpl.figure = function(figure_id, websocket, ondownload, parent_element) {\n",
       "    this.id = figure_id;\n",
       "\n",
       "    this.ws = websocket;\n",
       "\n",
       "    this.supports_binary = (this.ws.binaryType != undefined);\n",
       "\n",
       "    if (!this.supports_binary) {\n",
       "        var warnings = document.getElementById(\"mpl-warnings\");\n",
       "        if (warnings) {\n",
       "            warnings.style.display = 'block';\n",
       "            warnings.textContent = (\n",
       "                \"This browser does not support binary websocket messages. \" +\n",
       "                    \"Performance may be slow.\");\n",
       "        }\n",
       "    }\n",
       "\n",
       "    this.imageObj = new Image();\n",
       "\n",
       "    this.context = undefined;\n",
       "    this.message = undefined;\n",
       "    this.canvas = undefined;\n",
       "    this.rubberband_canvas = undefined;\n",
       "    this.rubberband_context = undefined;\n",
       "    this.format_dropdown = undefined;\n",
       "\n",
       "    this.image_mode = 'full';\n",
       "\n",
       "    this.root = $('<div/>');\n",
       "    this._root_extra_style(this.root)\n",
       "    this.root.attr('style', 'display: inline-block');\n",
       "\n",
       "    $(parent_element).append(this.root);\n",
       "\n",
       "    this._init_header(this);\n",
       "    this._init_canvas(this);\n",
       "    this._init_toolbar(this);\n",
       "\n",
       "    var fig = this;\n",
       "\n",
       "    this.waiting = false;\n",
       "\n",
       "    this.ws.onopen =  function () {\n",
       "            fig.send_message(\"supports_binary\", {value: fig.supports_binary});\n",
       "            fig.send_message(\"send_image_mode\", {});\n",
       "            if (mpl.ratio != 1) {\n",
       "                fig.send_message(\"set_dpi_ratio\", {'dpi_ratio': mpl.ratio});\n",
       "            }\n",
       "            fig.send_message(\"refresh\", {});\n",
       "        }\n",
       "\n",
       "    this.imageObj.onload = function() {\n",
       "            if (fig.image_mode == 'full') {\n",
       "                // Full images could contain transparency (where diff images\n",
       "                // almost always do), so we need to clear the canvas so that\n",
       "                // there is no ghosting.\n",
       "                fig.context.clearRect(0, 0, fig.canvas.width, fig.canvas.height);\n",
       "            }\n",
       "            fig.context.drawImage(fig.imageObj, 0, 0);\n",
       "        };\n",
       "\n",
       "    this.imageObj.onunload = function() {\n",
       "        fig.ws.close();\n",
       "    }\n",
       "\n",
       "    this.ws.onmessage = this._make_on_message_function(this);\n",
       "\n",
       "    this.ondownload = ondownload;\n",
       "}\n",
       "\n",
       "mpl.figure.prototype._init_header = function() {\n",
       "    var titlebar = $(\n",
       "        '<div class=\"ui-dialog-titlebar ui-widget-header ui-corner-all ' +\n",
       "        'ui-helper-clearfix\"/>');\n",
       "    var titletext = $(\n",
       "        '<div class=\"ui-dialog-title\" style=\"width: 100%; ' +\n",
       "        'text-align: center; padding: 3px;\"/>');\n",
       "    titlebar.append(titletext)\n",
       "    this.root.append(titlebar);\n",
       "    this.header = titletext[0];\n",
       "}\n",
       "\n",
       "\n",
       "\n",
       "mpl.figure.prototype._canvas_extra_style = function(canvas_div) {\n",
       "\n",
       "}\n",
       "\n",
       "\n",
       "mpl.figure.prototype._root_extra_style = function(canvas_div) {\n",
       "\n",
       "}\n",
       "\n",
       "mpl.figure.prototype._init_canvas = function() {\n",
       "    var fig = this;\n",
       "\n",
       "    var canvas_div = $('<div/>');\n",
       "\n",
       "    canvas_div.attr('style', 'position: relative; clear: both; outline: 0');\n",
       "\n",
       "    function canvas_keyboard_event(event) {\n",
       "        return fig.key_event(event, event['data']);\n",
       "    }\n",
       "\n",
       "    canvas_div.keydown('key_press', canvas_keyboard_event);\n",
       "    canvas_div.keyup('key_release', canvas_keyboard_event);\n",
       "    this.canvas_div = canvas_div\n",
       "    this._canvas_extra_style(canvas_div)\n",
       "    this.root.append(canvas_div);\n",
       "\n",
       "    var canvas = $('<canvas/>');\n",
       "    canvas.addClass('mpl-canvas');\n",
       "    canvas.attr('style', \"left: 0; top: 0; z-index: 0; outline: 0\")\n",
       "\n",
       "    this.canvas = canvas[0];\n",
       "    this.context = canvas[0].getContext(\"2d\");\n",
       "\n",
       "    var backingStore = this.context.backingStorePixelRatio ||\n",
       "\tthis.context.webkitBackingStorePixelRatio ||\n",
       "\tthis.context.mozBackingStorePixelRatio ||\n",
       "\tthis.context.msBackingStorePixelRatio ||\n",
       "\tthis.context.oBackingStorePixelRatio ||\n",
       "\tthis.context.backingStorePixelRatio || 1;\n",
       "\n",
       "    mpl.ratio = (window.devicePixelRatio || 1) / backingStore;\n",
       "\n",
       "    var rubberband = $('<canvas/>');\n",
       "    rubberband.attr('style', \"position: absolute; left: 0; top: 0; z-index: 1;\")\n",
       "\n",
       "    var pass_mouse_events = true;\n",
       "\n",
       "    canvas_div.resizable({\n",
       "        start: function(event, ui) {\n",
       "            pass_mouse_events = false;\n",
       "        },\n",
       "        resize: function(event, ui) {\n",
       "            fig.request_resize(ui.size.width, ui.size.height);\n",
       "        },\n",
       "        stop: function(event, ui) {\n",
       "            pass_mouse_events = true;\n",
       "            fig.request_resize(ui.size.width, ui.size.height);\n",
       "        },\n",
       "    });\n",
       "\n",
       "    function mouse_event_fn(event) {\n",
       "        if (pass_mouse_events)\n",
       "            return fig.mouse_event(event, event['data']);\n",
       "    }\n",
       "\n",
       "    rubberband.mousedown('button_press', mouse_event_fn);\n",
       "    rubberband.mouseup('button_release', mouse_event_fn);\n",
       "    // Throttle sequential mouse events to 1 every 20ms.\n",
       "    rubberband.mousemove('motion_notify', mouse_event_fn);\n",
       "\n",
       "    rubberband.mouseenter('figure_enter', mouse_event_fn);\n",
       "    rubberband.mouseleave('figure_leave', mouse_event_fn);\n",
       "\n",
       "    canvas_div.on(\"wheel\", function (event) {\n",
       "        event = event.originalEvent;\n",
       "        event['data'] = 'scroll'\n",
       "        if (event.deltaY < 0) {\n",
       "            event.step = 1;\n",
       "        } else {\n",
       "            event.step = -1;\n",
       "        }\n",
       "        mouse_event_fn(event);\n",
       "    });\n",
       "\n",
       "    canvas_div.append(canvas);\n",
       "    canvas_div.append(rubberband);\n",
       "\n",
       "    this.rubberband = rubberband;\n",
       "    this.rubberband_canvas = rubberband[0];\n",
       "    this.rubberband_context = rubberband[0].getContext(\"2d\");\n",
       "    this.rubberband_context.strokeStyle = \"#000000\";\n",
       "\n",
       "    this._resize_canvas = function(width, height) {\n",
       "        // Keep the size of the canvas, canvas container, and rubber band\n",
       "        // canvas in synch.\n",
       "        canvas_div.css('width', width)\n",
       "        canvas_div.css('height', height)\n",
       "\n",
       "        canvas.attr('width', width * mpl.ratio);\n",
       "        canvas.attr('height', height * mpl.ratio);\n",
       "        canvas.attr('style', 'width: ' + width + 'px; height: ' + height + 'px;');\n",
       "\n",
       "        rubberband.attr('width', width);\n",
       "        rubberband.attr('height', height);\n",
       "    }\n",
       "\n",
       "    // Set the figure to an initial 600x600px, this will subsequently be updated\n",
       "    // upon first draw.\n",
       "    this._resize_canvas(600, 600);\n",
       "\n",
       "    // Disable right mouse context menu.\n",
       "    $(this.rubberband_canvas).bind(\"contextmenu\",function(e){\n",
       "        return false;\n",
       "    });\n",
       "\n",
       "    function set_focus () {\n",
       "        canvas.focus();\n",
       "        canvas_div.focus();\n",
       "    }\n",
       "\n",
       "    window.setTimeout(set_focus, 100);\n",
       "}\n",
       "\n",
       "mpl.figure.prototype._init_toolbar = function() {\n",
       "    var fig = this;\n",
       "\n",
       "    var nav_element = $('<div/>')\n",
       "    nav_element.attr('style', 'width: 100%');\n",
       "    this.root.append(nav_element);\n",
       "\n",
       "    // Define a callback function for later on.\n",
       "    function toolbar_event(event) {\n",
       "        return fig.toolbar_button_onclick(event['data']);\n",
       "    }\n",
       "    function toolbar_mouse_event(event) {\n",
       "        return fig.toolbar_button_onmouseover(event['data']);\n",
       "    }\n",
       "\n",
       "    for(var toolbar_ind in mpl.toolbar_items) {\n",
       "        var name = mpl.toolbar_items[toolbar_ind][0];\n",
       "        var tooltip = mpl.toolbar_items[toolbar_ind][1];\n",
       "        var image = mpl.toolbar_items[toolbar_ind][2];\n",
       "        var method_name = mpl.toolbar_items[toolbar_ind][3];\n",
       "\n",
       "        if (!name) {\n",
       "            // put a spacer in here.\n",
       "            continue;\n",
       "        }\n",
       "        var button = $('<button/>');\n",
       "        button.addClass('ui-button ui-widget ui-state-default ui-corner-all ' +\n",
       "                        'ui-button-icon-only');\n",
       "        button.attr('role', 'button');\n",
       "        button.attr('aria-disabled', 'false');\n",
       "        button.click(method_name, toolbar_event);\n",
       "        button.mouseover(tooltip, toolbar_mouse_event);\n",
       "\n",
       "        var icon_img = $('<span/>');\n",
       "        icon_img.addClass('ui-button-icon-primary ui-icon');\n",
       "        icon_img.addClass(image);\n",
       "        icon_img.addClass('ui-corner-all');\n",
       "\n",
       "        var tooltip_span = $('<span/>');\n",
       "        tooltip_span.addClass('ui-button-text');\n",
       "        tooltip_span.html(tooltip);\n",
       "\n",
       "        button.append(icon_img);\n",
       "        button.append(tooltip_span);\n",
       "\n",
       "        nav_element.append(button);\n",
       "    }\n",
       "\n",
       "    var fmt_picker_span = $('<span/>');\n",
       "\n",
       "    var fmt_picker = $('<select/>');\n",
       "    fmt_picker.addClass('mpl-toolbar-option ui-widget ui-widget-content');\n",
       "    fmt_picker_span.append(fmt_picker);\n",
       "    nav_element.append(fmt_picker_span);\n",
       "    this.format_dropdown = fmt_picker[0];\n",
       "\n",
       "    for (var ind in mpl.extensions) {\n",
       "        var fmt = mpl.extensions[ind];\n",
       "        var option = $(\n",
       "            '<option/>', {selected: fmt === mpl.default_extension}).html(fmt);\n",
       "        fmt_picker.append(option)\n",
       "    }\n",
       "\n",
       "    // Add hover states to the ui-buttons\n",
       "    $( \".ui-button\" ).hover(\n",
       "        function() { $(this).addClass(\"ui-state-hover\");},\n",
       "        function() { $(this).removeClass(\"ui-state-hover\");}\n",
       "    );\n",
       "\n",
       "    var status_bar = $('<span class=\"mpl-message\"/>');\n",
       "    nav_element.append(status_bar);\n",
       "    this.message = status_bar[0];\n",
       "}\n",
       "\n",
       "mpl.figure.prototype.request_resize = function(x_pixels, y_pixels) {\n",
       "    // Request matplotlib to resize the figure. Matplotlib will then trigger a resize in the client,\n",
       "    // which will in turn request a refresh of the image.\n",
       "    this.send_message('resize', {'width': x_pixels, 'height': y_pixels});\n",
       "}\n",
       "\n",
       "mpl.figure.prototype.send_message = function(type, properties) {\n",
       "    properties['type'] = type;\n",
       "    properties['figure_id'] = this.id;\n",
       "    this.ws.send(JSON.stringify(properties));\n",
       "}\n",
       "\n",
       "mpl.figure.prototype.send_draw_message = function() {\n",
       "    if (!this.waiting) {\n",
       "        this.waiting = true;\n",
       "        this.ws.send(JSON.stringify({type: \"draw\", figure_id: this.id}));\n",
       "    }\n",
       "}\n",
       "\n",
       "\n",
       "mpl.figure.prototype.handle_save = function(fig, msg) {\n",
       "    var format_dropdown = fig.format_dropdown;\n",
       "    var format = format_dropdown.options[format_dropdown.selectedIndex].value;\n",
       "    fig.ondownload(fig, format);\n",
       "}\n",
       "\n",
       "\n",
       "mpl.figure.prototype.handle_resize = function(fig, msg) {\n",
       "    var size = msg['size'];\n",
       "    if (size[0] != fig.canvas.width || size[1] != fig.canvas.height) {\n",
       "        fig._resize_canvas(size[0], size[1]);\n",
       "        fig.send_message(\"refresh\", {});\n",
       "    };\n",
       "}\n",
       "\n",
       "mpl.figure.prototype.handle_rubberband = function(fig, msg) {\n",
       "    var x0 = msg['x0'] / mpl.ratio;\n",
       "    var y0 = (fig.canvas.height - msg['y0']) / mpl.ratio;\n",
       "    var x1 = msg['x1'] / mpl.ratio;\n",
       "    var y1 = (fig.canvas.height - msg['y1']) / mpl.ratio;\n",
       "    x0 = Math.floor(x0) + 0.5;\n",
       "    y0 = Math.floor(y0) + 0.5;\n",
       "    x1 = Math.floor(x1) + 0.5;\n",
       "    y1 = Math.floor(y1) + 0.5;\n",
       "    var min_x = Math.min(x0, x1);\n",
       "    var min_y = Math.min(y0, y1);\n",
       "    var width = Math.abs(x1 - x0);\n",
       "    var height = Math.abs(y1 - y0);\n",
       "\n",
       "    fig.rubberband_context.clearRect(\n",
       "        0, 0, fig.canvas.width, fig.canvas.height);\n",
       "\n",
       "    fig.rubberband_context.strokeRect(min_x, min_y, width, height);\n",
       "}\n",
       "\n",
       "mpl.figure.prototype.handle_figure_label = function(fig, msg) {\n",
       "    // Updates the figure title.\n",
       "    fig.header.textContent = msg['label'];\n",
       "}\n",
       "\n",
       "mpl.figure.prototype.handle_cursor = function(fig, msg) {\n",
       "    var cursor = msg['cursor'];\n",
       "    switch(cursor)\n",
       "    {\n",
       "    case 0:\n",
       "        cursor = 'pointer';\n",
       "        break;\n",
       "    case 1:\n",
       "        cursor = 'default';\n",
       "        break;\n",
       "    case 2:\n",
       "        cursor = 'crosshair';\n",
       "        break;\n",
       "    case 3:\n",
       "        cursor = 'move';\n",
       "        break;\n",
       "    }\n",
       "    fig.rubberband_canvas.style.cursor = cursor;\n",
       "}\n",
       "\n",
       "mpl.figure.prototype.handle_message = function(fig, msg) {\n",
       "    fig.message.textContent = msg['message'];\n",
       "}\n",
       "\n",
       "mpl.figure.prototype.handle_draw = function(fig, msg) {\n",
       "    // Request the server to send over a new figure.\n",
       "    fig.send_draw_message();\n",
       "}\n",
       "\n",
       "mpl.figure.prototype.handle_image_mode = function(fig, msg) {\n",
       "    fig.image_mode = msg['mode'];\n",
       "}\n",
       "\n",
       "mpl.figure.prototype.updated_canvas_event = function() {\n",
       "    // Called whenever the canvas gets updated.\n",
       "    this.send_message(\"ack\", {});\n",
       "}\n",
       "\n",
       "// A function to construct a web socket function for onmessage handling.\n",
       "// Called in the figure constructor.\n",
       "mpl.figure.prototype._make_on_message_function = function(fig) {\n",
       "    return function socket_on_message(evt) {\n",
       "        if (evt.data instanceof Blob) {\n",
       "            /* FIXME: We get \"Resource interpreted as Image but\n",
       "             * transferred with MIME type text/plain:\" errors on\n",
       "             * Chrome.  But how to set the MIME type?  It doesn't seem\n",
       "             * to be part of the websocket stream */\n",
       "            evt.data.type = \"image/png\";\n",
       "\n",
       "            /* Free the memory for the previous frames */\n",
       "            if (fig.imageObj.src) {\n",
       "                (window.URL || window.webkitURL).revokeObjectURL(\n",
       "                    fig.imageObj.src);\n",
       "            }\n",
       "\n",
       "            fig.imageObj.src = (window.URL || window.webkitURL).createObjectURL(\n",
       "                evt.data);\n",
       "            fig.updated_canvas_event();\n",
       "            fig.waiting = false;\n",
       "            return;\n",
       "        }\n",
       "        else if (typeof evt.data === 'string' && evt.data.slice(0, 21) == \"data:image/png;base64\") {\n",
       "            fig.imageObj.src = evt.data;\n",
       "            fig.updated_canvas_event();\n",
       "            fig.waiting = false;\n",
       "            return;\n",
       "        }\n",
       "\n",
       "        var msg = JSON.parse(evt.data);\n",
       "        var msg_type = msg['type'];\n",
       "\n",
       "        // Call the  \"handle_{type}\" callback, which takes\n",
       "        // the figure and JSON message as its only arguments.\n",
       "        try {\n",
       "            var callback = fig[\"handle_\" + msg_type];\n",
       "        } catch (e) {\n",
       "            console.log(\"No handler for the '\" + msg_type + \"' message type: \", msg);\n",
       "            return;\n",
       "        }\n",
       "\n",
       "        if (callback) {\n",
       "            try {\n",
       "                // console.log(\"Handling '\" + msg_type + \"' message: \", msg);\n",
       "                callback(fig, msg);\n",
       "            } catch (e) {\n",
       "                console.log(\"Exception inside the 'handler_\" + msg_type + \"' callback:\", e, e.stack, msg);\n",
       "            }\n",
       "        }\n",
       "    };\n",
       "}\n",
       "\n",
       "// from http://stackoverflow.com/questions/1114465/getting-mouse-location-in-canvas\n",
       "mpl.findpos = function(e) {\n",
       "    //this section is from http://www.quirksmode.org/js/events_properties.html\n",
       "    var targ;\n",
       "    if (!e)\n",
       "        e = window.event;\n",
       "    if (e.target)\n",
       "        targ = e.target;\n",
       "    else if (e.srcElement)\n",
       "        targ = e.srcElement;\n",
       "    if (targ.nodeType == 3) // defeat Safari bug\n",
       "        targ = targ.parentNode;\n",
       "\n",
       "    // jQuery normalizes the pageX and pageY\n",
       "    // pageX,Y are the mouse positions relative to the document\n",
       "    // offset() returns the position of the element relative to the document\n",
       "    var x = e.pageX - $(targ).offset().left;\n",
       "    var y = e.pageY - $(targ).offset().top;\n",
       "\n",
       "    return {\"x\": x, \"y\": y};\n",
       "};\n",
       "\n",
       "/*\n",
       " * return a copy of an object with only non-object keys\n",
       " * we need this to avoid circular references\n",
       " * http://stackoverflow.com/a/24161582/3208463\n",
       " */\n",
       "function simpleKeys (original) {\n",
       "  return Object.keys(original).reduce(function (obj, key) {\n",
       "    if (typeof original[key] !== 'object')\n",
       "        obj[key] = original[key]\n",
       "    return obj;\n",
       "  }, {});\n",
       "}\n",
       "\n",
       "mpl.figure.prototype.mouse_event = function(event, name) {\n",
       "    var canvas_pos = mpl.findpos(event)\n",
       "\n",
       "    if (name === 'button_press')\n",
       "    {\n",
       "        this.canvas.focus();\n",
       "        this.canvas_div.focus();\n",
       "    }\n",
       "\n",
       "    var x = canvas_pos.x * mpl.ratio;\n",
       "    var y = canvas_pos.y * mpl.ratio;\n",
       "\n",
       "    this.send_message(name, {x: x, y: y, button: event.button,\n",
       "                             step: event.step,\n",
       "                             guiEvent: simpleKeys(event)});\n",
       "\n",
       "    /* This prevents the web browser from automatically changing to\n",
       "     * the text insertion cursor when the button is pressed.  We want\n",
       "     * to control all of the cursor setting manually through the\n",
       "     * 'cursor' event from matplotlib */\n",
       "    event.preventDefault();\n",
       "    return false;\n",
       "}\n",
       "\n",
       "mpl.figure.prototype._key_event_extra = function(event, name) {\n",
       "    // Handle any extra behaviour associated with a key event\n",
       "}\n",
       "\n",
       "mpl.figure.prototype.key_event = function(event, name) {\n",
       "\n",
       "    // Prevent repeat events\n",
       "    if (name == 'key_press')\n",
       "    {\n",
       "        if (event.which === this._key)\n",
       "            return;\n",
       "        else\n",
       "            this._key = event.which;\n",
       "    }\n",
       "    if (name == 'key_release')\n",
       "        this._key = null;\n",
       "\n",
       "    var value = '';\n",
       "    if (event.ctrlKey && event.which != 17)\n",
       "        value += \"ctrl+\";\n",
       "    if (event.altKey && event.which != 18)\n",
       "        value += \"alt+\";\n",
       "    if (event.shiftKey && event.which != 16)\n",
       "        value += \"shift+\";\n",
       "\n",
       "    value += 'k';\n",
       "    value += event.which.toString();\n",
       "\n",
       "    this._key_event_extra(event, name);\n",
       "\n",
       "    this.send_message(name, {key: value,\n",
       "                             guiEvent: simpleKeys(event)});\n",
       "    return false;\n",
       "}\n",
       "\n",
       "mpl.figure.prototype.toolbar_button_onclick = function(name) {\n",
       "    if (name == 'download') {\n",
       "        this.handle_save(this, null);\n",
       "    } else {\n",
       "        this.send_message(\"toolbar_button\", {name: name});\n",
       "    }\n",
       "};\n",
       "\n",
       "mpl.figure.prototype.toolbar_button_onmouseover = function(tooltip) {\n",
       "    this.message.textContent = tooltip;\n",
       "};\n",
       "mpl.toolbar_items = [[\"Home\", \"Reset original view\", \"fa fa-home icon-home\", \"home\"], [\"Back\", \"Back to previous view\", \"fa fa-arrow-left icon-arrow-left\", \"back\"], [\"Forward\", \"Forward to next view\", \"fa fa-arrow-right icon-arrow-right\", \"forward\"], [\"\", \"\", \"\", \"\"], [\"Pan\", \"Pan axes with left mouse, zoom with right\", \"fa fa-arrows icon-move\", \"pan\"], [\"Zoom\", \"Zoom to rectangle\", \"fa fa-square-o icon-check-empty\", \"zoom\"], [\"\", \"\", \"\", \"\"], [\"Download\", \"Download plot\", \"fa fa-floppy-o icon-save\", \"download\"]];\n",
       "\n",
       "mpl.extensions = [\"eps\", \"jpeg\", \"pdf\", \"png\", \"ps\", \"raw\", \"svg\", \"tif\"];\n",
       "\n",
       "mpl.default_extension = \"png\";var comm_websocket_adapter = function(comm) {\n",
       "    // Create a \"websocket\"-like object which calls the given IPython comm\n",
       "    // object with the appropriate methods. Currently this is a non binary\n",
       "    // socket, so there is still some room for performance tuning.\n",
       "    var ws = {};\n",
       "\n",
       "    ws.close = function() {\n",
       "        comm.close()\n",
       "    };\n",
       "    ws.send = function(m) {\n",
       "        //console.log('sending', m);\n",
       "        comm.send(m);\n",
       "    };\n",
       "    // Register the callback with on_msg.\n",
       "    comm.on_msg(function(msg) {\n",
       "        //console.log('receiving', msg['content']['data'], msg);\n",
       "        // Pass the mpl event to the overridden (by mpl) onmessage function.\n",
       "        ws.onmessage(msg['content']['data'])\n",
       "    });\n",
       "    return ws;\n",
       "}\n",
       "\n",
       "mpl.mpl_figure_comm = function(comm, msg) {\n",
       "    // This is the function which gets called when the mpl process\n",
       "    // starts-up an IPython Comm through the \"matplotlib\" channel.\n",
       "\n",
       "    var id = msg.content.data.id;\n",
       "    // Get hold of the div created by the display call when the Comm\n",
       "    // socket was opened in Python.\n",
       "    var element = $(\"#\" + id);\n",
       "    var ws_proxy = comm_websocket_adapter(comm)\n",
       "\n",
       "    function ondownload(figure, format) {\n",
       "        window.open(figure.imageObj.src);\n",
       "    }\n",
       "\n",
       "    var fig = new mpl.figure(id, ws_proxy,\n",
       "                           ondownload,\n",
       "                           element.get(0));\n",
       "\n",
       "    // Call onopen now - mpl needs it, as it is assuming we've passed it a real\n",
       "    // web socket which is closed, not our websocket->open comm proxy.\n",
       "    ws_proxy.onopen();\n",
       "\n",
       "    fig.parent_element = element.get(0);\n",
       "    fig.cell_info = mpl.find_output_cell(\"<div id='\" + id + \"'></div>\");\n",
       "    if (!fig.cell_info) {\n",
       "        console.error(\"Failed to find cell for figure\", id, fig);\n",
       "        return;\n",
       "    }\n",
       "\n",
       "    var output_index = fig.cell_info[2]\n",
       "    var cell = fig.cell_info[0];\n",
       "\n",
       "};\n",
       "\n",
       "mpl.figure.prototype.handle_close = function(fig, msg) {\n",
       "    var width = fig.canvas.width/mpl.ratio\n",
       "    fig.root.unbind('remove')\n",
       "\n",
       "    // Update the output cell to use the data from the current canvas.\n",
       "    fig.push_to_output();\n",
       "    var dataURL = fig.canvas.toDataURL();\n",
       "    // Re-enable the keyboard manager in IPython - without this line, in FF,\n",
       "    // the notebook keyboard shortcuts fail.\n",
       "    IPython.keyboard_manager.enable()\n",
       "    $(fig.parent_element).html('<img src=\"' + dataURL + '\" width=\"' + width + '\">');\n",
       "    fig.close_ws(fig, msg);\n",
       "}\n",
       "\n",
       "mpl.figure.prototype.close_ws = function(fig, msg){\n",
       "    fig.send_message('closing', msg);\n",
       "    // fig.ws.close()\n",
       "}\n",
       "\n",
       "mpl.figure.prototype.push_to_output = function(remove_interactive) {\n",
       "    // Turn the data on the canvas into data in the output cell.\n",
       "    var width = this.canvas.width/mpl.ratio\n",
       "    var dataURL = this.canvas.toDataURL();\n",
       "    this.cell_info[1]['text/html'] = '<img src=\"' + dataURL + '\" width=\"' + width + '\">';\n",
       "}\n",
       "\n",
       "mpl.figure.prototype.updated_canvas_event = function() {\n",
       "    // Tell IPython that the notebook contents must change.\n",
       "    IPython.notebook.set_dirty(true);\n",
       "    this.send_message(\"ack\", {});\n",
       "    var fig = this;\n",
       "    // Wait a second, then push the new image to the DOM so\n",
       "    // that it is saved nicely (might be nice to debounce this).\n",
       "    setTimeout(function () { fig.push_to_output() }, 1000);\n",
       "}\n",
       "\n",
       "mpl.figure.prototype._init_toolbar = function() {\n",
       "    var fig = this;\n",
       "\n",
       "    var nav_element = $('<div/>')\n",
       "    nav_element.attr('style', 'width: 100%');\n",
       "    this.root.append(nav_element);\n",
       "\n",
       "    // Define a callback function for later on.\n",
       "    function toolbar_event(event) {\n",
       "        return fig.toolbar_button_onclick(event['data']);\n",
       "    }\n",
       "    function toolbar_mouse_event(event) {\n",
       "        return fig.toolbar_button_onmouseover(event['data']);\n",
       "    }\n",
       "\n",
       "    for(var toolbar_ind in mpl.toolbar_items){\n",
       "        var name = mpl.toolbar_items[toolbar_ind][0];\n",
       "        var tooltip = mpl.toolbar_items[toolbar_ind][1];\n",
       "        var image = mpl.toolbar_items[toolbar_ind][2];\n",
       "        var method_name = mpl.toolbar_items[toolbar_ind][3];\n",
       "\n",
       "        if (!name) { continue; };\n",
       "\n",
       "        var button = $('<button class=\"btn btn-default\" href=\"#\" title=\"' + name + '\"><i class=\"fa ' + image + ' fa-lg\"></i></button>');\n",
       "        button.click(method_name, toolbar_event);\n",
       "        button.mouseover(tooltip, toolbar_mouse_event);\n",
       "        nav_element.append(button);\n",
       "    }\n",
       "\n",
       "    // Add the status bar.\n",
       "    var status_bar = $('<span class=\"mpl-message\" style=\"text-align:right; float: right;\"/>');\n",
       "    nav_element.append(status_bar);\n",
       "    this.message = status_bar[0];\n",
       "\n",
       "    // Add the close button to the window.\n",
       "    var buttongrp = $('<div class=\"btn-group inline pull-right\"></div>');\n",
       "    var button = $('<button class=\"btn btn-mini btn-primary\" href=\"#\" title=\"Stop Interaction\"><i class=\"fa fa-power-off icon-remove icon-large\"></i></button>');\n",
       "    button.click(function (evt) { fig.handle_close(fig, {}); } );\n",
       "    button.mouseover('Stop Interaction', toolbar_mouse_event);\n",
       "    buttongrp.append(button);\n",
       "    var titlebar = this.root.find($('.ui-dialog-titlebar'));\n",
       "    titlebar.prepend(buttongrp);\n",
       "}\n",
       "\n",
       "mpl.figure.prototype._root_extra_style = function(el){\n",
       "    var fig = this\n",
       "    el.on(\"remove\", function(){\n",
       "\tfig.close_ws(fig, {});\n",
       "    });\n",
       "}\n",
       "\n",
       "mpl.figure.prototype._canvas_extra_style = function(el){\n",
       "    // this is important to make the div 'focusable\n",
       "    el.attr('tabindex', 0)\n",
       "    // reach out to IPython and tell the keyboard manager to turn it's self\n",
       "    // off when our div gets focus\n",
       "\n",
       "    // location in version 3\n",
       "    if (IPython.notebook.keyboard_manager) {\n",
       "        IPython.notebook.keyboard_manager.register_events(el);\n",
       "    }\n",
       "    else {\n",
       "        // location in version 2\n",
       "        IPython.keyboard_manager.register_events(el);\n",
       "    }\n",
       "\n",
       "}\n",
       "\n",
       "mpl.figure.prototype._key_event_extra = function(event, name) {\n",
       "    var manager = IPython.notebook.keyboard_manager;\n",
       "    if (!manager)\n",
       "        manager = IPython.keyboard_manager;\n",
       "\n",
       "    // Check for shift+enter\n",
       "    if (event.shiftKey && event.which == 13) {\n",
       "        this.canvas_div.blur();\n",
       "        event.shiftKey = false;\n",
       "        // Send a \"J\" for go to next cell\n",
       "        event.which = 74;\n",
       "        event.keyCode = 74;\n",
       "        manager.command_mode();\n",
       "        manager.handle_keydown(event);\n",
       "    }\n",
       "}\n",
       "\n",
       "mpl.figure.prototype.handle_save = function(fig, msg) {\n",
       "    fig.ondownload(fig, null);\n",
       "}\n",
       "\n",
       "\n",
       "mpl.find_output_cell = function(html_output) {\n",
       "    // Return the cell and output element which can be found *uniquely* in the notebook.\n",
       "    // Note - this is a bit hacky, but it is done because the \"notebook_saving.Notebook\"\n",
       "    // IPython event is triggered only after the cells have been serialised, which for\n",
       "    // our purposes (turning an active figure into a static one), is too late.\n",
       "    var cells = IPython.notebook.get_cells();\n",
       "    var ncells = cells.length;\n",
       "    for (var i=0; i<ncells; i++) {\n",
       "        var cell = cells[i];\n",
       "        if (cell.cell_type === 'code'){\n",
       "            for (var j=0; j<cell.output_area.outputs.length; j++) {\n",
       "                var data = cell.output_area.outputs[j];\n",
       "                if (data.data) {\n",
       "                    // IPython >= 3 moved mimebundle to data attribute of output\n",
       "                    data = data.data;\n",
       "                }\n",
       "                if (data['text/html'] == html_output) {\n",
       "                    return [cell, data, j];\n",
       "                }\n",
       "            }\n",
       "        }\n",
       "    }\n",
       "}\n",
       "\n",
       "// Register the function which deals with the matplotlib target/channel.\n",
       "// The kernel may be null if the page has been refreshed.\n",
       "if (IPython.notebook.kernel != null) {\n",
       "    IPython.notebook.kernel.comm_manager.register_target('matplotlib', mpl.mpl_figure_comm);\n",
       "}\n"
      ],
      "text/plain": [
       "<IPython.core.display.Javascript object>"
      ]
     },
     "metadata": {},
     "output_type": "display_data"
    },
    {
     "data": {
      "text/html": [
       "<img src=\"data:image/png;base64,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\" width=\"640\">"
      ],
      "text/plain": [
       "<IPython.core.display.HTML object>"
      ]
     },
     "metadata": {},
     "output_type": "display_data"
    }
   ],
   "source": [
    "import matplotlib.pyplot as plt\n",
    "%matplotlib notebook\n",
    "\n",
    "plt.figure()"
   ]
  },
  {
   "cell_type": "code",
   "execution_count": 89,
   "metadata": {},
   "outputs": [
    {
     "data": {
      "text/plain": [
       "<matplotlib.axes._subplots.AxesSubplot at 0x161af0eb940>"
      ]
     },
     "execution_count": 89,
     "metadata": {},
     "output_type": "execute_result"
    }
   ],
   "source": [
    "close_px.AAPL.plot()"
   ]
  },
  {
   "cell_type": "code",
   "execution_count": 90,
   "metadata": {},
   "outputs": [
    {
     "data": {
      "text/plain": [
       "<matplotlib.axes._subplots.AxesSubplot at 0x161af0eb940>"
      ]
     },
     "execution_count": 90,
     "metadata": {},
     "output_type": "execute_result"
    }
   ],
   "source": [
    "close_px.AAPL.rolling(250).mean().plot()"
   ]
  },
  {
   "cell_type": "markdown",
   "metadata": {},
   "source": [
    "表达式rolling(250)与groupby很像，但不是对其进行分组，而是创建一个按照250天分组的滑动窗口对象。然后，我们就得到了苹果公司股价的250天的移动窗口。\n",
    "\n",
    "默认情况下，rolling函数需要窗口中所有的值为非NA值。可以修改该行为以解决缺失数据的问题。其实，在时间序列开始处尚不足窗口期的那些数据就是个特例（见图11-5）："
   ]
  },
  {
   "cell_type": "code",
   "execution_count": 91,
   "metadata": {},
   "outputs": [
    {
     "data": {
      "text/plain": [
       "2003-01-09         NaN\n",
       "2003-01-10         NaN\n",
       "2003-01-13         NaN\n",
       "2003-01-14         NaN\n",
       "2003-01-15    0.077496\n",
       "2003-01-16    0.074760\n",
       "2003-01-17    0.112368\n",
       "Freq: B, Name: AAPL, dtype: float64"
      ]
     },
     "execution_count": 91,
     "metadata": {},
     "output_type": "execute_result"
    }
   ],
   "source": [
    "appl_std250 = close_px.AAPL.rolling(250, min_periods=10).std()\n",
    "appl_std250[5:12]"
   ]
  },
  {
   "cell_type": "code",
   "execution_count": 92,
   "metadata": {},
   "outputs": [
    {
     "data": {
      "application/javascript": [
       "/* Put everything inside the global mpl namespace */\n",
       "window.mpl = {};\n",
       "\n",
       "\n",
       "mpl.get_websocket_type = function() {\n",
       "    if (typeof(WebSocket) !== 'undefined') {\n",
       "        return WebSocket;\n",
       "    } else if (typeof(MozWebSocket) !== 'undefined') {\n",
       "        return MozWebSocket;\n",
       "    } else {\n",
       "        alert('Your browser does not have WebSocket support.' +\n",
       "              'Please try Chrome, Safari or Firefox ≥ 6. ' +\n",
       "              'Firefox 4 and 5 are also supported but you ' +\n",
       "              'have to enable WebSockets in about:config.');\n",
       "    };\n",
       "}\n",
       "\n",
       "mpl.figure = function(figure_id, websocket, ondownload, parent_element) {\n",
       "    this.id = figure_id;\n",
       "\n",
       "    this.ws = websocket;\n",
       "\n",
       "    this.supports_binary = (this.ws.binaryType != undefined);\n",
       "\n",
       "    if (!this.supports_binary) {\n",
       "        var warnings = document.getElementById(\"mpl-warnings\");\n",
       "        if (warnings) {\n",
       "            warnings.style.display = 'block';\n",
       "            warnings.textContent = (\n",
       "                \"This browser does not support binary websocket messages. \" +\n",
       "                    \"Performance may be slow.\");\n",
       "        }\n",
       "    }\n",
       "\n",
       "    this.imageObj = new Image();\n",
       "\n",
       "    this.context = undefined;\n",
       "    this.message = undefined;\n",
       "    this.canvas = undefined;\n",
       "    this.rubberband_canvas = undefined;\n",
       "    this.rubberband_context = undefined;\n",
       "    this.format_dropdown = undefined;\n",
       "\n",
       "    this.image_mode = 'full';\n",
       "\n",
       "    this.root = $('<div/>');\n",
       "    this._root_extra_style(this.root)\n",
       "    this.root.attr('style', 'display: inline-block');\n",
       "\n",
       "    $(parent_element).append(this.root);\n",
       "\n",
       "    this._init_header(this);\n",
       "    this._init_canvas(this);\n",
       "    this._init_toolbar(this);\n",
       "\n",
       "    var fig = this;\n",
       "\n",
       "    this.waiting = false;\n",
       "\n",
       "    this.ws.onopen =  function () {\n",
       "            fig.send_message(\"supports_binary\", {value: fig.supports_binary});\n",
       "            fig.send_message(\"send_image_mode\", {});\n",
       "            if (mpl.ratio != 1) {\n",
       "                fig.send_message(\"set_dpi_ratio\", {'dpi_ratio': mpl.ratio});\n",
       "            }\n",
       "            fig.send_message(\"refresh\", {});\n",
       "        }\n",
       "\n",
       "    this.imageObj.onload = function() {\n",
       "            if (fig.image_mode == 'full') {\n",
       "                // Full images could contain transparency (where diff images\n",
       "                // almost always do), so we need to clear the canvas so that\n",
       "                // there is no ghosting.\n",
       "                fig.context.clearRect(0, 0, fig.canvas.width, fig.canvas.height);\n",
       "            }\n",
       "            fig.context.drawImage(fig.imageObj, 0, 0);\n",
       "        };\n",
       "\n",
       "    this.imageObj.onunload = function() {\n",
       "        fig.ws.close();\n",
       "    }\n",
       "\n",
       "    this.ws.onmessage = this._make_on_message_function(this);\n",
       "\n",
       "    this.ondownload = ondownload;\n",
       "}\n",
       "\n",
       "mpl.figure.prototype._init_header = function() {\n",
       "    var titlebar = $(\n",
       "        '<div class=\"ui-dialog-titlebar ui-widget-header ui-corner-all ' +\n",
       "        'ui-helper-clearfix\"/>');\n",
       "    var titletext = $(\n",
       "        '<div class=\"ui-dialog-title\" style=\"width: 100%; ' +\n",
       "        'text-align: center; padding: 3px;\"/>');\n",
       "    titlebar.append(titletext)\n",
       "    this.root.append(titlebar);\n",
       "    this.header = titletext[0];\n",
       "}\n",
       "\n",
       "\n",
       "\n",
       "mpl.figure.prototype._canvas_extra_style = function(canvas_div) {\n",
       "\n",
       "}\n",
       "\n",
       "\n",
       "mpl.figure.prototype._root_extra_style = function(canvas_div) {\n",
       "\n",
       "}\n",
       "\n",
       "mpl.figure.prototype._init_canvas = function() {\n",
       "    var fig = this;\n",
       "\n",
       "    var canvas_div = $('<div/>');\n",
       "\n",
       "    canvas_div.attr('style', 'position: relative; clear: both; outline: 0');\n",
       "\n",
       "    function canvas_keyboard_event(event) {\n",
       "        return fig.key_event(event, event['data']);\n",
       "    }\n",
       "\n",
       "    canvas_div.keydown('key_press', canvas_keyboard_event);\n",
       "    canvas_div.keyup('key_release', canvas_keyboard_event);\n",
       "    this.canvas_div = canvas_div\n",
       "    this._canvas_extra_style(canvas_div)\n",
       "    this.root.append(canvas_div);\n",
       "\n",
       "    var canvas = $('<canvas/>');\n",
       "    canvas.addClass('mpl-canvas');\n",
       "    canvas.attr('style', \"left: 0; top: 0; z-index: 0; outline: 0\")\n",
       "\n",
       "    this.canvas = canvas[0];\n",
       "    this.context = canvas[0].getContext(\"2d\");\n",
       "\n",
       "    var backingStore = this.context.backingStorePixelRatio ||\n",
       "\tthis.context.webkitBackingStorePixelRatio ||\n",
       "\tthis.context.mozBackingStorePixelRatio ||\n",
       "\tthis.context.msBackingStorePixelRatio ||\n",
       "\tthis.context.oBackingStorePixelRatio ||\n",
       "\tthis.context.backingStorePixelRatio || 1;\n",
       "\n",
       "    mpl.ratio = (window.devicePixelRatio || 1) / backingStore;\n",
       "\n",
       "    var rubberband = $('<canvas/>');\n",
       "    rubberband.attr('style', \"position: absolute; left: 0; top: 0; z-index: 1;\")\n",
       "\n",
       "    var pass_mouse_events = true;\n",
       "\n",
       "    canvas_div.resizable({\n",
       "        start: function(event, ui) {\n",
       "            pass_mouse_events = false;\n",
       "        },\n",
       "        resize: function(event, ui) {\n",
       "            fig.request_resize(ui.size.width, ui.size.height);\n",
       "        },\n",
       "        stop: function(event, ui) {\n",
       "            pass_mouse_events = true;\n",
       "            fig.request_resize(ui.size.width, ui.size.height);\n",
       "        },\n",
       "    });\n",
       "\n",
       "    function mouse_event_fn(event) {\n",
       "        if (pass_mouse_events)\n",
       "            return fig.mouse_event(event, event['data']);\n",
       "    }\n",
       "\n",
       "    rubberband.mousedown('button_press', mouse_event_fn);\n",
       "    rubberband.mouseup('button_release', mouse_event_fn);\n",
       "    // Throttle sequential mouse events to 1 every 20ms.\n",
       "    rubberband.mousemove('motion_notify', mouse_event_fn);\n",
       "\n",
       "    rubberband.mouseenter('figure_enter', mouse_event_fn);\n",
       "    rubberband.mouseleave('figure_leave', mouse_event_fn);\n",
       "\n",
       "    canvas_div.on(\"wheel\", function (event) {\n",
       "        event = event.originalEvent;\n",
       "        event['data'] = 'scroll'\n",
       "        if (event.deltaY < 0) {\n",
       "            event.step = 1;\n",
       "        } else {\n",
       "            event.step = -1;\n",
       "        }\n",
       "        mouse_event_fn(event);\n",
       "    });\n",
       "\n",
       "    canvas_div.append(canvas);\n",
       "    canvas_div.append(rubberband);\n",
       "\n",
       "    this.rubberband = rubberband;\n",
       "    this.rubberband_canvas = rubberband[0];\n",
       "    this.rubberband_context = rubberband[0].getContext(\"2d\");\n",
       "    this.rubberband_context.strokeStyle = \"#000000\";\n",
       "\n",
       "    this._resize_canvas = function(width, height) {\n",
       "        // Keep the size of the canvas, canvas container, and rubber band\n",
       "        // canvas in synch.\n",
       "        canvas_div.css('width', width)\n",
       "        canvas_div.css('height', height)\n",
       "\n",
       "        canvas.attr('width', width * mpl.ratio);\n",
       "        canvas.attr('height', height * mpl.ratio);\n",
       "        canvas.attr('style', 'width: ' + width + 'px; height: ' + height + 'px;');\n",
       "\n",
       "        rubberband.attr('width', width);\n",
       "        rubberband.attr('height', height);\n",
       "    }\n",
       "\n",
       "    // Set the figure to an initial 600x600px, this will subsequently be updated\n",
       "    // upon first draw.\n",
       "    this._resize_canvas(600, 600);\n",
       "\n",
       "    // Disable right mouse context menu.\n",
       "    $(this.rubberband_canvas).bind(\"contextmenu\",function(e){\n",
       "        return false;\n",
       "    });\n",
       "\n",
       "    function set_focus () {\n",
       "        canvas.focus();\n",
       "        canvas_div.focus();\n",
       "    }\n",
       "\n",
       "    window.setTimeout(set_focus, 100);\n",
       "}\n",
       "\n",
       "mpl.figure.prototype._init_toolbar = function() {\n",
       "    var fig = this;\n",
       "\n",
       "    var nav_element = $('<div/>')\n",
       "    nav_element.attr('style', 'width: 100%');\n",
       "    this.root.append(nav_element);\n",
       "\n",
       "    // Define a callback function for later on.\n",
       "    function toolbar_event(event) {\n",
       "        return fig.toolbar_button_onclick(event['data']);\n",
       "    }\n",
       "    function toolbar_mouse_event(event) {\n",
       "        return fig.toolbar_button_onmouseover(event['data']);\n",
       "    }\n",
       "\n",
       "    for(var toolbar_ind in mpl.toolbar_items) {\n",
       "        var name = mpl.toolbar_items[toolbar_ind][0];\n",
       "        var tooltip = mpl.toolbar_items[toolbar_ind][1];\n",
       "        var image = mpl.toolbar_items[toolbar_ind][2];\n",
       "        var method_name = mpl.toolbar_items[toolbar_ind][3];\n",
       "\n",
       "        if (!name) {\n",
       "            // put a spacer in here.\n",
       "            continue;\n",
       "        }\n",
       "        var button = $('<button/>');\n",
       "        button.addClass('ui-button ui-widget ui-state-default ui-corner-all ' +\n",
       "                        'ui-button-icon-only');\n",
       "        button.attr('role', 'button');\n",
       "        button.attr('aria-disabled', 'false');\n",
       "        button.click(method_name, toolbar_event);\n",
       "        button.mouseover(tooltip, toolbar_mouse_event);\n",
       "\n",
       "        var icon_img = $('<span/>');\n",
       "        icon_img.addClass('ui-button-icon-primary ui-icon');\n",
       "        icon_img.addClass(image);\n",
       "        icon_img.addClass('ui-corner-all');\n",
       "\n",
       "        var tooltip_span = $('<span/>');\n",
       "        tooltip_span.addClass('ui-button-text');\n",
       "        tooltip_span.html(tooltip);\n",
       "\n",
       "        button.append(icon_img);\n",
       "        button.append(tooltip_span);\n",
       "\n",
       "        nav_element.append(button);\n",
       "    }\n",
       "\n",
       "    var fmt_picker_span = $('<span/>');\n",
       "\n",
       "    var fmt_picker = $('<select/>');\n",
       "    fmt_picker.addClass('mpl-toolbar-option ui-widget ui-widget-content');\n",
       "    fmt_picker_span.append(fmt_picker);\n",
       "    nav_element.append(fmt_picker_span);\n",
       "    this.format_dropdown = fmt_picker[0];\n",
       "\n",
       "    for (var ind in mpl.extensions) {\n",
       "        var fmt = mpl.extensions[ind];\n",
       "        var option = $(\n",
       "            '<option/>', {selected: fmt === mpl.default_extension}).html(fmt);\n",
       "        fmt_picker.append(option)\n",
       "    }\n",
       "\n",
       "    // Add hover states to the ui-buttons\n",
       "    $( \".ui-button\" ).hover(\n",
       "        function() { $(this).addClass(\"ui-state-hover\");},\n",
       "        function() { $(this).removeClass(\"ui-state-hover\");}\n",
       "    );\n",
       "\n",
       "    var status_bar = $('<span class=\"mpl-message\"/>');\n",
       "    nav_element.append(status_bar);\n",
       "    this.message = status_bar[0];\n",
       "}\n",
       "\n",
       "mpl.figure.prototype.request_resize = function(x_pixels, y_pixels) {\n",
       "    // Request matplotlib to resize the figure. Matplotlib will then trigger a resize in the client,\n",
       "    // which will in turn request a refresh of the image.\n",
       "    this.send_message('resize', {'width': x_pixels, 'height': y_pixels});\n",
       "}\n",
       "\n",
       "mpl.figure.prototype.send_message = function(type, properties) {\n",
       "    properties['type'] = type;\n",
       "    properties['figure_id'] = this.id;\n",
       "    this.ws.send(JSON.stringify(properties));\n",
       "}\n",
       "\n",
       "mpl.figure.prototype.send_draw_message = function() {\n",
       "    if (!this.waiting) {\n",
       "        this.waiting = true;\n",
       "        this.ws.send(JSON.stringify({type: \"draw\", figure_id: this.id}));\n",
       "    }\n",
       "}\n",
       "\n",
       "\n",
       "mpl.figure.prototype.handle_save = function(fig, msg) {\n",
       "    var format_dropdown = fig.format_dropdown;\n",
       "    var format = format_dropdown.options[format_dropdown.selectedIndex].value;\n",
       "    fig.ondownload(fig, format);\n",
       "}\n",
       "\n",
       "\n",
       "mpl.figure.prototype.handle_resize = function(fig, msg) {\n",
       "    var size = msg['size'];\n",
       "    if (size[0] != fig.canvas.width || size[1] != fig.canvas.height) {\n",
       "        fig._resize_canvas(size[0], size[1]);\n",
       "        fig.send_message(\"refresh\", {});\n",
       "    };\n",
       "}\n",
       "\n",
       "mpl.figure.prototype.handle_rubberband = function(fig, msg) {\n",
       "    var x0 = msg['x0'] / mpl.ratio;\n",
       "    var y0 = (fig.canvas.height - msg['y0']) / mpl.ratio;\n",
       "    var x1 = msg['x1'] / mpl.ratio;\n",
       "    var y1 = (fig.canvas.height - msg['y1']) / mpl.ratio;\n",
       "    x0 = Math.floor(x0) + 0.5;\n",
       "    y0 = Math.floor(y0) + 0.5;\n",
       "    x1 = Math.floor(x1) + 0.5;\n",
       "    y1 = Math.floor(y1) + 0.5;\n",
       "    var min_x = Math.min(x0, x1);\n",
       "    var min_y = Math.min(y0, y1);\n",
       "    var width = Math.abs(x1 - x0);\n",
       "    var height = Math.abs(y1 - y0);\n",
       "\n",
       "    fig.rubberband_context.clearRect(\n",
       "        0, 0, fig.canvas.width, fig.canvas.height);\n",
       "\n",
       "    fig.rubberband_context.strokeRect(min_x, min_y, width, height);\n",
       "}\n",
       "\n",
       "mpl.figure.prototype.handle_figure_label = function(fig, msg) {\n",
       "    // Updates the figure title.\n",
       "    fig.header.textContent = msg['label'];\n",
       "}\n",
       "\n",
       "mpl.figure.prototype.handle_cursor = function(fig, msg) {\n",
       "    var cursor = msg['cursor'];\n",
       "    switch(cursor)\n",
       "    {\n",
       "    case 0:\n",
       "        cursor = 'pointer';\n",
       "        break;\n",
       "    case 1:\n",
       "        cursor = 'default';\n",
       "        break;\n",
       "    case 2:\n",
       "        cursor = 'crosshair';\n",
       "        break;\n",
       "    case 3:\n",
       "        cursor = 'move';\n",
       "        break;\n",
       "    }\n",
       "    fig.rubberband_canvas.style.cursor = cursor;\n",
       "}\n",
       "\n",
       "mpl.figure.prototype.handle_message = function(fig, msg) {\n",
       "    fig.message.textContent = msg['message'];\n",
       "}\n",
       "\n",
       "mpl.figure.prototype.handle_draw = function(fig, msg) {\n",
       "    // Request the server to send over a new figure.\n",
       "    fig.send_draw_message();\n",
       "}\n",
       "\n",
       "mpl.figure.prototype.handle_image_mode = function(fig, msg) {\n",
       "    fig.image_mode = msg['mode'];\n",
       "}\n",
       "\n",
       "mpl.figure.prototype.updated_canvas_event = function() {\n",
       "    // Called whenever the canvas gets updated.\n",
       "    this.send_message(\"ack\", {});\n",
       "}\n",
       "\n",
       "// A function to construct a web socket function for onmessage handling.\n",
       "// Called in the figure constructor.\n",
       "mpl.figure.prototype._make_on_message_function = function(fig) {\n",
       "    return function socket_on_message(evt) {\n",
       "        if (evt.data instanceof Blob) {\n",
       "            /* FIXME: We get \"Resource interpreted as Image but\n",
       "             * transferred with MIME type text/plain:\" errors on\n",
       "             * Chrome.  But how to set the MIME type?  It doesn't seem\n",
       "             * to be part of the websocket stream */\n",
       "            evt.data.type = \"image/png\";\n",
       "\n",
       "            /* Free the memory for the previous frames */\n",
       "            if (fig.imageObj.src) {\n",
       "                (window.URL || window.webkitURL).revokeObjectURL(\n",
       "                    fig.imageObj.src);\n",
       "            }\n",
       "\n",
       "            fig.imageObj.src = (window.URL || window.webkitURL).createObjectURL(\n",
       "                evt.data);\n",
       "            fig.updated_canvas_event();\n",
       "            fig.waiting = false;\n",
       "            return;\n",
       "        }\n",
       "        else if (typeof evt.data === 'string' && evt.data.slice(0, 21) == \"data:image/png;base64\") {\n",
       "            fig.imageObj.src = evt.data;\n",
       "            fig.updated_canvas_event();\n",
       "            fig.waiting = false;\n",
       "            return;\n",
       "        }\n",
       "\n",
       "        var msg = JSON.parse(evt.data);\n",
       "        var msg_type = msg['type'];\n",
       "\n",
       "        // Call the  \"handle_{type}\" callback, which takes\n",
       "        // the figure and JSON message as its only arguments.\n",
       "        try {\n",
       "            var callback = fig[\"handle_\" + msg_type];\n",
       "        } catch (e) {\n",
       "            console.log(\"No handler for the '\" + msg_type + \"' message type: \", msg);\n",
       "            return;\n",
       "        }\n",
       "\n",
       "        if (callback) {\n",
       "            try {\n",
       "                // console.log(\"Handling '\" + msg_type + \"' message: \", msg);\n",
       "                callback(fig, msg);\n",
       "            } catch (e) {\n",
       "                console.log(\"Exception inside the 'handler_\" + msg_type + \"' callback:\", e, e.stack, msg);\n",
       "            }\n",
       "        }\n",
       "    };\n",
       "}\n",
       "\n",
       "// from http://stackoverflow.com/questions/1114465/getting-mouse-location-in-canvas\n",
       "mpl.findpos = function(e) {\n",
       "    //this section is from http://www.quirksmode.org/js/events_properties.html\n",
       "    var targ;\n",
       "    if (!e)\n",
       "        e = window.event;\n",
       "    if (e.target)\n",
       "        targ = e.target;\n",
       "    else if (e.srcElement)\n",
       "        targ = e.srcElement;\n",
       "    if (targ.nodeType == 3) // defeat Safari bug\n",
       "        targ = targ.parentNode;\n",
       "\n",
       "    // jQuery normalizes the pageX and pageY\n",
       "    // pageX,Y are the mouse positions relative to the document\n",
       "    // offset() returns the position of the element relative to the document\n",
       "    var x = e.pageX - $(targ).offset().left;\n",
       "    var y = e.pageY - $(targ).offset().top;\n",
       "\n",
       "    return {\"x\": x, \"y\": y};\n",
       "};\n",
       "\n",
       "/*\n",
       " * return a copy of an object with only non-object keys\n",
       " * we need this to avoid circular references\n",
       " * http://stackoverflow.com/a/24161582/3208463\n",
       " */\n",
       "function simpleKeys (original) {\n",
       "  return Object.keys(original).reduce(function (obj, key) {\n",
       "    if (typeof original[key] !== 'object')\n",
       "        obj[key] = original[key]\n",
       "    return obj;\n",
       "  }, {});\n",
       "}\n",
       "\n",
       "mpl.figure.prototype.mouse_event = function(event, name) {\n",
       "    var canvas_pos = mpl.findpos(event)\n",
       "\n",
       "    if (name === 'button_press')\n",
       "    {\n",
       "        this.canvas.focus();\n",
       "        this.canvas_div.focus();\n",
       "    }\n",
       "\n",
       "    var x = canvas_pos.x * mpl.ratio;\n",
       "    var y = canvas_pos.y * mpl.ratio;\n",
       "\n",
       "    this.send_message(name, {x: x, y: y, button: event.button,\n",
       "                             step: event.step,\n",
       "                             guiEvent: simpleKeys(event)});\n",
       "\n",
       "    /* This prevents the web browser from automatically changing to\n",
       "     * the text insertion cursor when the button is pressed.  We want\n",
       "     * to control all of the cursor setting manually through the\n",
       "     * 'cursor' event from matplotlib */\n",
       "    event.preventDefault();\n",
       "    return false;\n",
       "}\n",
       "\n",
       "mpl.figure.prototype._key_event_extra = function(event, name) {\n",
       "    // Handle any extra behaviour associated with a key event\n",
       "}\n",
       "\n",
       "mpl.figure.prototype.key_event = function(event, name) {\n",
       "\n",
       "    // Prevent repeat events\n",
       "    if (name == 'key_press')\n",
       "    {\n",
       "        if (event.which === this._key)\n",
       "            return;\n",
       "        else\n",
       "            this._key = event.which;\n",
       "    }\n",
       "    if (name == 'key_release')\n",
       "        this._key = null;\n",
       "\n",
       "    var value = '';\n",
       "    if (event.ctrlKey && event.which != 17)\n",
       "        value += \"ctrl+\";\n",
       "    if (event.altKey && event.which != 18)\n",
       "        value += \"alt+\";\n",
       "    if (event.shiftKey && event.which != 16)\n",
       "        value += \"shift+\";\n",
       "\n",
       "    value += 'k';\n",
       "    value += event.which.toString();\n",
       "\n",
       "    this._key_event_extra(event, name);\n",
       "\n",
       "    this.send_message(name, {key: value,\n",
       "                             guiEvent: simpleKeys(event)});\n",
       "    return false;\n",
       "}\n",
       "\n",
       "mpl.figure.prototype.toolbar_button_onclick = function(name) {\n",
       "    if (name == 'download') {\n",
       "        this.handle_save(this, null);\n",
       "    } else {\n",
       "        this.send_message(\"toolbar_button\", {name: name});\n",
       "    }\n",
       "};\n",
       "\n",
       "mpl.figure.prototype.toolbar_button_onmouseover = function(tooltip) {\n",
       "    this.message.textContent = tooltip;\n",
       "};\n",
       "mpl.toolbar_items = [[\"Home\", \"Reset original view\", \"fa fa-home icon-home\", \"home\"], [\"Back\", \"Back to previous view\", \"fa fa-arrow-left icon-arrow-left\", \"back\"], [\"Forward\", \"Forward to next view\", \"fa fa-arrow-right icon-arrow-right\", \"forward\"], [\"\", \"\", \"\", \"\"], [\"Pan\", \"Pan axes with left mouse, zoom with right\", \"fa fa-arrows icon-move\", \"pan\"], [\"Zoom\", \"Zoom to rectangle\", \"fa fa-square-o icon-check-empty\", \"zoom\"], [\"\", \"\", \"\", \"\"], [\"Download\", \"Download plot\", \"fa fa-floppy-o icon-save\", \"download\"]];\n",
       "\n",
       "mpl.extensions = [\"eps\", \"jpeg\", \"pdf\", \"png\", \"ps\", \"raw\", \"svg\", \"tif\"];\n",
       "\n",
       "mpl.default_extension = \"png\";var comm_websocket_adapter = function(comm) {\n",
       "    // Create a \"websocket\"-like object which calls the given IPython comm\n",
       "    // object with the appropriate methods. Currently this is a non binary\n",
       "    // socket, so there is still some room for performance tuning.\n",
       "    var ws = {};\n",
       "\n",
       "    ws.close = function() {\n",
       "        comm.close()\n",
       "    };\n",
       "    ws.send = function(m) {\n",
       "        //console.log('sending', m);\n",
       "        comm.send(m);\n",
       "    };\n",
       "    // Register the callback with on_msg.\n",
       "    comm.on_msg(function(msg) {\n",
       "        //console.log('receiving', msg['content']['data'], msg);\n",
       "        // Pass the mpl event to the overridden (by mpl) onmessage function.\n",
       "        ws.onmessage(msg['content']['data'])\n",
       "    });\n",
       "    return ws;\n",
       "}\n",
       "\n",
       "mpl.mpl_figure_comm = function(comm, msg) {\n",
       "    // This is the function which gets called when the mpl process\n",
       "    // starts-up an IPython Comm through the \"matplotlib\" channel.\n",
       "\n",
       "    var id = msg.content.data.id;\n",
       "    // Get hold of the div created by the display call when the Comm\n",
       "    // socket was opened in Python.\n",
       "    var element = $(\"#\" + id);\n",
       "    var ws_proxy = comm_websocket_adapter(comm)\n",
       "\n",
       "    function ondownload(figure, format) {\n",
       "        window.open(figure.imageObj.src);\n",
       "    }\n",
       "\n",
       "    var fig = new mpl.figure(id, ws_proxy,\n",
       "                           ondownload,\n",
       "                           element.get(0));\n",
       "\n",
       "    // Call onopen now - mpl needs it, as it is assuming we've passed it a real\n",
       "    // web socket which is closed, not our websocket->open comm proxy.\n",
       "    ws_proxy.onopen();\n",
       "\n",
       "    fig.parent_element = element.get(0);\n",
       "    fig.cell_info = mpl.find_output_cell(\"<div id='\" + id + \"'></div>\");\n",
       "    if (!fig.cell_info) {\n",
       "        console.error(\"Failed to find cell for figure\", id, fig);\n",
       "        return;\n",
       "    }\n",
       "\n",
       "    var output_index = fig.cell_info[2]\n",
       "    var cell = fig.cell_info[0];\n",
       "\n",
       "};\n",
       "\n",
       "mpl.figure.prototype.handle_close = function(fig, msg) {\n",
       "    var width = fig.canvas.width/mpl.ratio\n",
       "    fig.root.unbind('remove')\n",
       "\n",
       "    // Update the output cell to use the data from the current canvas.\n",
       "    fig.push_to_output();\n",
       "    var dataURL = fig.canvas.toDataURL();\n",
       "    // Re-enable the keyboard manager in IPython - without this line, in FF,\n",
       "    // the notebook keyboard shortcuts fail.\n",
       "    IPython.keyboard_manager.enable()\n",
       "    $(fig.parent_element).html('<img src=\"' + dataURL + '\" width=\"' + width + '\">');\n",
       "    fig.close_ws(fig, msg);\n",
       "}\n",
       "\n",
       "mpl.figure.prototype.close_ws = function(fig, msg){\n",
       "    fig.send_message('closing', msg);\n",
       "    // fig.ws.close()\n",
       "}\n",
       "\n",
       "mpl.figure.prototype.push_to_output = function(remove_interactive) {\n",
       "    // Turn the data on the canvas into data in the output cell.\n",
       "    var width = this.canvas.width/mpl.ratio\n",
       "    var dataURL = this.canvas.toDataURL();\n",
       "    this.cell_info[1]['text/html'] = '<img src=\"' + dataURL + '\" width=\"' + width + '\">';\n",
       "}\n",
       "\n",
       "mpl.figure.prototype.updated_canvas_event = function() {\n",
       "    // Tell IPython that the notebook contents must change.\n",
       "    IPython.notebook.set_dirty(true);\n",
       "    this.send_message(\"ack\", {});\n",
       "    var fig = this;\n",
       "    // Wait a second, then push the new image to the DOM so\n",
       "    // that it is saved nicely (might be nice to debounce this).\n",
       "    setTimeout(function () { fig.push_to_output() }, 1000);\n",
       "}\n",
       "\n",
       "mpl.figure.prototype._init_toolbar = function() {\n",
       "    var fig = this;\n",
       "\n",
       "    var nav_element = $('<div/>')\n",
       "    nav_element.attr('style', 'width: 100%');\n",
       "    this.root.append(nav_element);\n",
       "\n",
       "    // Define a callback function for later on.\n",
       "    function toolbar_event(event) {\n",
       "        return fig.toolbar_button_onclick(event['data']);\n",
       "    }\n",
       "    function toolbar_mouse_event(event) {\n",
       "        return fig.toolbar_button_onmouseover(event['data']);\n",
       "    }\n",
       "\n",
       "    for(var toolbar_ind in mpl.toolbar_items){\n",
       "        var name = mpl.toolbar_items[toolbar_ind][0];\n",
       "        var tooltip = mpl.toolbar_items[toolbar_ind][1];\n",
       "        var image = mpl.toolbar_items[toolbar_ind][2];\n",
       "        var method_name = mpl.toolbar_items[toolbar_ind][3];\n",
       "\n",
       "        if (!name) { continue; };\n",
       "\n",
       "        var button = $('<button class=\"btn btn-default\" href=\"#\" title=\"' + name + '\"><i class=\"fa ' + image + ' fa-lg\"></i></button>');\n",
       "        button.click(method_name, toolbar_event);\n",
       "        button.mouseover(tooltip, toolbar_mouse_event);\n",
       "        nav_element.append(button);\n",
       "    }\n",
       "\n",
       "    // Add the status bar.\n",
       "    var status_bar = $('<span class=\"mpl-message\" style=\"text-align:right; float: right;\"/>');\n",
       "    nav_element.append(status_bar);\n",
       "    this.message = status_bar[0];\n",
       "\n",
       "    // Add the close button to the window.\n",
       "    var buttongrp = $('<div class=\"btn-group inline pull-right\"></div>');\n",
       "    var button = $('<button class=\"btn btn-mini btn-primary\" href=\"#\" title=\"Stop Interaction\"><i class=\"fa fa-power-off icon-remove icon-large\"></i></button>');\n",
       "    button.click(function (evt) { fig.handle_close(fig, {}); } );\n",
       "    button.mouseover('Stop Interaction', toolbar_mouse_event);\n",
       "    buttongrp.append(button);\n",
       "    var titlebar = this.root.find($('.ui-dialog-titlebar'));\n",
       "    titlebar.prepend(buttongrp);\n",
       "}\n",
       "\n",
       "mpl.figure.prototype._root_extra_style = function(el){\n",
       "    var fig = this\n",
       "    el.on(\"remove\", function(){\n",
       "\tfig.close_ws(fig, {});\n",
       "    });\n",
       "}\n",
       "\n",
       "mpl.figure.prototype._canvas_extra_style = function(el){\n",
       "    // this is important to make the div 'focusable\n",
       "    el.attr('tabindex', 0)\n",
       "    // reach out to IPython and tell the keyboard manager to turn it's self\n",
       "    // off when our div gets focus\n",
       "\n",
       "    // location in version 3\n",
       "    if (IPython.notebook.keyboard_manager) {\n",
       "        IPython.notebook.keyboard_manager.register_events(el);\n",
       "    }\n",
       "    else {\n",
       "        // location in version 2\n",
       "        IPython.keyboard_manager.register_events(el);\n",
       "    }\n",
       "\n",
       "}\n",
       "\n",
       "mpl.figure.prototype._key_event_extra = function(event, name) {\n",
       "    var manager = IPython.notebook.keyboard_manager;\n",
       "    if (!manager)\n",
       "        manager = IPython.keyboard_manager;\n",
       "\n",
       "    // Check for shift+enter\n",
       "    if (event.shiftKey && event.which == 13) {\n",
       "        this.canvas_div.blur();\n",
       "        event.shiftKey = false;\n",
       "        // Send a \"J\" for go to next cell\n",
       "        event.which = 74;\n",
       "        event.keyCode = 74;\n",
       "        manager.command_mode();\n",
       "        manager.handle_keydown(event);\n",
       "    }\n",
       "}\n",
       "\n",
       "mpl.figure.prototype.handle_save = function(fig, msg) {\n",
       "    fig.ondownload(fig, null);\n",
       "}\n",
       "\n",
       "\n",
       "mpl.find_output_cell = function(html_output) {\n",
       "    // Return the cell and output element which can be found *uniquely* in the notebook.\n",
       "    // Note - this is a bit hacky, but it is done because the \"notebook_saving.Notebook\"\n",
       "    // IPython event is triggered only after the cells have been serialised, which for\n",
       "    // our purposes (turning an active figure into a static one), is too late.\n",
       "    var cells = IPython.notebook.get_cells();\n",
       "    var ncells = cells.length;\n",
       "    for (var i=0; i<ncells; i++) {\n",
       "        var cell = cells[i];\n",
       "        if (cell.cell_type === 'code'){\n",
       "            for (var j=0; j<cell.output_area.outputs.length; j++) {\n",
       "                var data = cell.output_area.outputs[j];\n",
       "                if (data.data) {\n",
       "                    // IPython >= 3 moved mimebundle to data attribute of output\n",
       "                    data = data.data;\n",
       "                }\n",
       "                if (data['text/html'] == html_output) {\n",
       "                    return [cell, data, j];\n",
       "                }\n",
       "            }\n",
       "        }\n",
       "    }\n",
       "}\n",
       "\n",
       "// Register the function which deals with the matplotlib target/channel.\n",
       "// The kernel may be null if the page has been refreshed.\n",
       "if (IPython.notebook.kernel != null) {\n",
       "    IPython.notebook.kernel.comm_manager.register_target('matplotlib', mpl.mpl_figure_comm);\n",
       "}\n"
      ],
      "text/plain": [
       "<IPython.core.display.Javascript object>"
      ]
     },
     "metadata": {},
     "output_type": "display_data"
    },
    {
     "data": {
      "text/html": [
       "<img src=\"data:image/png;base64,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\" width=\"640\">"
      ],
      "text/plain": [
       "<IPython.core.display.HTML object>"
      ]
     },
     "metadata": {},
     "output_type": "display_data"
    },
    {
     "data": {
      "text/plain": [
       "<matplotlib.axes._subplots.AxesSubplot at 0x161af5b0470>"
      ]
     },
     "execution_count": 92,
     "metadata": {},
     "output_type": "execute_result"
    }
   ],
   "source": [
    "plt.figure()\n",
    "\n",
    "appl_std250.plot()"
   ]
  },
  {
   "cell_type": "markdown",
   "metadata": {},
   "source": [
    "要计算扩展窗口平均（expanding window mean），可以使用expanding而不是rolling。“扩展”意味着，从时间序列的起始处开始窗口，增加窗口直到它超过所有的序列。apple_std250时间序列的扩展窗口平均如下所示："
   ]
  },
  {
   "cell_type": "code",
   "execution_count": 93,
   "metadata": {},
   "outputs": [],
   "source": [
    "expanding_mean = appl_std250.expanding().mean()"
   ]
  },
  {
   "cell_type": "markdown",
   "metadata": {},
   "source": [
    "对DataFrame调用rolling_mean（以及与之类似的函数）会将转换应用到所有的列上（见图11-6）："
   ]
  },
  {
   "cell_type": "code",
   "execution_count": 94,
   "metadata": {},
   "outputs": [
    {
     "data": {
      "application/javascript": [
       "/* Put everything inside the global mpl namespace */\n",
       "window.mpl = {};\n",
       "\n",
       "\n",
       "mpl.get_websocket_type = function() {\n",
       "    if (typeof(WebSocket) !== 'undefined') {\n",
       "        return WebSocket;\n",
       "    } else if (typeof(MozWebSocket) !== 'undefined') {\n",
       "        return MozWebSocket;\n",
       "    } else {\n",
       "        alert('Your browser does not have WebSocket support.' +\n",
       "              'Please try Chrome, Safari or Firefox ≥ 6. ' +\n",
       "              'Firefox 4 and 5 are also supported but you ' +\n",
       "              'have to enable WebSockets in about:config.');\n",
       "    };\n",
       "}\n",
       "\n",
       "mpl.figure = function(figure_id, websocket, ondownload, parent_element) {\n",
       "    this.id = figure_id;\n",
       "\n",
       "    this.ws = websocket;\n",
       "\n",
       "    this.supports_binary = (this.ws.binaryType != undefined);\n",
       "\n",
       "    if (!this.supports_binary) {\n",
       "        var warnings = document.getElementById(\"mpl-warnings\");\n",
       "        if (warnings) {\n",
       "            warnings.style.display = 'block';\n",
       "            warnings.textContent = (\n",
       "                \"This browser does not support binary websocket messages. \" +\n",
       "                    \"Performance may be slow.\");\n",
       "        }\n",
       "    }\n",
       "\n",
       "    this.imageObj = new Image();\n",
       "\n",
       "    this.context = undefined;\n",
       "    this.message = undefined;\n",
       "    this.canvas = undefined;\n",
       "    this.rubberband_canvas = undefined;\n",
       "    this.rubberband_context = undefined;\n",
       "    this.format_dropdown = undefined;\n",
       "\n",
       "    this.image_mode = 'full';\n",
       "\n",
       "    this.root = $('<div/>');\n",
       "    this._root_extra_style(this.root)\n",
       "    this.root.attr('style', 'display: inline-block');\n",
       "\n",
       "    $(parent_element).append(this.root);\n",
       "\n",
       "    this._init_header(this);\n",
       "    this._init_canvas(this);\n",
       "    this._init_toolbar(this);\n",
       "\n",
       "    var fig = this;\n",
       "\n",
       "    this.waiting = false;\n",
       "\n",
       "    this.ws.onopen =  function () {\n",
       "            fig.send_message(\"supports_binary\", {value: fig.supports_binary});\n",
       "            fig.send_message(\"send_image_mode\", {});\n",
       "            if (mpl.ratio != 1) {\n",
       "                fig.send_message(\"set_dpi_ratio\", {'dpi_ratio': mpl.ratio});\n",
       "            }\n",
       "            fig.send_message(\"refresh\", {});\n",
       "        }\n",
       "\n",
       "    this.imageObj.onload = function() {\n",
       "            if (fig.image_mode == 'full') {\n",
       "                // Full images could contain transparency (where diff images\n",
       "                // almost always do), so we need to clear the canvas so that\n",
       "                // there is no ghosting.\n",
       "                fig.context.clearRect(0, 0, fig.canvas.width, fig.canvas.height);\n",
       "            }\n",
       "            fig.context.drawImage(fig.imageObj, 0, 0);\n",
       "        };\n",
       "\n",
       "    this.imageObj.onunload = function() {\n",
       "        fig.ws.close();\n",
       "    }\n",
       "\n",
       "    this.ws.onmessage = this._make_on_message_function(this);\n",
       "\n",
       "    this.ondownload = ondownload;\n",
       "}\n",
       "\n",
       "mpl.figure.prototype._init_header = function() {\n",
       "    var titlebar = $(\n",
       "        '<div class=\"ui-dialog-titlebar ui-widget-header ui-corner-all ' +\n",
       "        'ui-helper-clearfix\"/>');\n",
       "    var titletext = $(\n",
       "        '<div class=\"ui-dialog-title\" style=\"width: 100%; ' +\n",
       "        'text-align: center; padding: 3px;\"/>');\n",
       "    titlebar.append(titletext)\n",
       "    this.root.append(titlebar);\n",
       "    this.header = titletext[0];\n",
       "}\n",
       "\n",
       "\n",
       "\n",
       "mpl.figure.prototype._canvas_extra_style = function(canvas_div) {\n",
       "\n",
       "}\n",
       "\n",
       "\n",
       "mpl.figure.prototype._root_extra_style = function(canvas_div) {\n",
       "\n",
       "}\n",
       "\n",
       "mpl.figure.prototype._init_canvas = function() {\n",
       "    var fig = this;\n",
       "\n",
       "    var canvas_div = $('<div/>');\n",
       "\n",
       "    canvas_div.attr('style', 'position: relative; clear: both; outline: 0');\n",
       "\n",
       "    function canvas_keyboard_event(event) {\n",
       "        return fig.key_event(event, event['data']);\n",
       "    }\n",
       "\n",
       "    canvas_div.keydown('key_press', canvas_keyboard_event);\n",
       "    canvas_div.keyup('key_release', canvas_keyboard_event);\n",
       "    this.canvas_div = canvas_div\n",
       "    this._canvas_extra_style(canvas_div)\n",
       "    this.root.append(canvas_div);\n",
       "\n",
       "    var canvas = $('<canvas/>');\n",
       "    canvas.addClass('mpl-canvas');\n",
       "    canvas.attr('style', \"left: 0; top: 0; z-index: 0; outline: 0\")\n",
       "\n",
       "    this.canvas = canvas[0];\n",
       "    this.context = canvas[0].getContext(\"2d\");\n",
       "\n",
       "    var backingStore = this.context.backingStorePixelRatio ||\n",
       "\tthis.context.webkitBackingStorePixelRatio ||\n",
       "\tthis.context.mozBackingStorePixelRatio ||\n",
       "\tthis.context.msBackingStorePixelRatio ||\n",
       "\tthis.context.oBackingStorePixelRatio ||\n",
       "\tthis.context.backingStorePixelRatio || 1;\n",
       "\n",
       "    mpl.ratio = (window.devicePixelRatio || 1) / backingStore;\n",
       "\n",
       "    var rubberband = $('<canvas/>');\n",
       "    rubberband.attr('style', \"position: absolute; left: 0; top: 0; z-index: 1;\")\n",
       "\n",
       "    var pass_mouse_events = true;\n",
       "\n",
       "    canvas_div.resizable({\n",
       "        start: function(event, ui) {\n",
       "            pass_mouse_events = false;\n",
       "        },\n",
       "        resize: function(event, ui) {\n",
       "            fig.request_resize(ui.size.width, ui.size.height);\n",
       "        },\n",
       "        stop: function(event, ui) {\n",
       "            pass_mouse_events = true;\n",
       "            fig.request_resize(ui.size.width, ui.size.height);\n",
       "        },\n",
       "    });\n",
       "\n",
       "    function mouse_event_fn(event) {\n",
       "        if (pass_mouse_events)\n",
       "            return fig.mouse_event(event, event['data']);\n",
       "    }\n",
       "\n",
       "    rubberband.mousedown('button_press', mouse_event_fn);\n",
       "    rubberband.mouseup('button_release', mouse_event_fn);\n",
       "    // Throttle sequential mouse events to 1 every 20ms.\n",
       "    rubberband.mousemove('motion_notify', mouse_event_fn);\n",
       "\n",
       "    rubberband.mouseenter('figure_enter', mouse_event_fn);\n",
       "    rubberband.mouseleave('figure_leave', mouse_event_fn);\n",
       "\n",
       "    canvas_div.on(\"wheel\", function (event) {\n",
       "        event = event.originalEvent;\n",
       "        event['data'] = 'scroll'\n",
       "        if (event.deltaY < 0) {\n",
       "            event.step = 1;\n",
       "        } else {\n",
       "            event.step = -1;\n",
       "        }\n",
       "        mouse_event_fn(event);\n",
       "    });\n",
       "\n",
       "    canvas_div.append(canvas);\n",
       "    canvas_div.append(rubberband);\n",
       "\n",
       "    this.rubberband = rubberband;\n",
       "    this.rubberband_canvas = rubberband[0];\n",
       "    this.rubberband_context = rubberband[0].getContext(\"2d\");\n",
       "    this.rubberband_context.strokeStyle = \"#000000\";\n",
       "\n",
       "    this._resize_canvas = function(width, height) {\n",
       "        // Keep the size of the canvas, canvas container, and rubber band\n",
       "        // canvas in synch.\n",
       "        canvas_div.css('width', width)\n",
       "        canvas_div.css('height', height)\n",
       "\n",
       "        canvas.attr('width', width * mpl.ratio);\n",
       "        canvas.attr('height', height * mpl.ratio);\n",
       "        canvas.attr('style', 'width: ' + width + 'px; height: ' + height + 'px;');\n",
       "\n",
       "        rubberband.attr('width', width);\n",
       "        rubberband.attr('height', height);\n",
       "    }\n",
       "\n",
       "    // Set the figure to an initial 600x600px, this will subsequently be updated\n",
       "    // upon first draw.\n",
       "    this._resize_canvas(600, 600);\n",
       "\n",
       "    // Disable right mouse context menu.\n",
       "    $(this.rubberband_canvas).bind(\"contextmenu\",function(e){\n",
       "        return false;\n",
       "    });\n",
       "\n",
       "    function set_focus () {\n",
       "        canvas.focus();\n",
       "        canvas_div.focus();\n",
       "    }\n",
       "\n",
       "    window.setTimeout(set_focus, 100);\n",
       "}\n",
       "\n",
       "mpl.figure.prototype._init_toolbar = function() {\n",
       "    var fig = this;\n",
       "\n",
       "    var nav_element = $('<div/>')\n",
       "    nav_element.attr('style', 'width: 100%');\n",
       "    this.root.append(nav_element);\n",
       "\n",
       "    // Define a callback function for later on.\n",
       "    function toolbar_event(event) {\n",
       "        return fig.toolbar_button_onclick(event['data']);\n",
       "    }\n",
       "    function toolbar_mouse_event(event) {\n",
       "        return fig.toolbar_button_onmouseover(event['data']);\n",
       "    }\n",
       "\n",
       "    for(var toolbar_ind in mpl.toolbar_items) {\n",
       "        var name = mpl.toolbar_items[toolbar_ind][0];\n",
       "        var tooltip = mpl.toolbar_items[toolbar_ind][1];\n",
       "        var image = mpl.toolbar_items[toolbar_ind][2];\n",
       "        var method_name = mpl.toolbar_items[toolbar_ind][3];\n",
       "\n",
       "        if (!name) {\n",
       "            // put a spacer in here.\n",
       "            continue;\n",
       "        }\n",
       "        var button = $('<button/>');\n",
       "        button.addClass('ui-button ui-widget ui-state-default ui-corner-all ' +\n",
       "                        'ui-button-icon-only');\n",
       "        button.attr('role', 'button');\n",
       "        button.attr('aria-disabled', 'false');\n",
       "        button.click(method_name, toolbar_event);\n",
       "        button.mouseover(tooltip, toolbar_mouse_event);\n",
       "\n",
       "        var icon_img = $('<span/>');\n",
       "        icon_img.addClass('ui-button-icon-primary ui-icon');\n",
       "        icon_img.addClass(image);\n",
       "        icon_img.addClass('ui-corner-all');\n",
       "\n",
       "        var tooltip_span = $('<span/>');\n",
       "        tooltip_span.addClass('ui-button-text');\n",
       "        tooltip_span.html(tooltip);\n",
       "\n",
       "        button.append(icon_img);\n",
       "        button.append(tooltip_span);\n",
       "\n",
       "        nav_element.append(button);\n",
       "    }\n",
       "\n",
       "    var fmt_picker_span = $('<span/>');\n",
       "\n",
       "    var fmt_picker = $('<select/>');\n",
       "    fmt_picker.addClass('mpl-toolbar-option ui-widget ui-widget-content');\n",
       "    fmt_picker_span.append(fmt_picker);\n",
       "    nav_element.append(fmt_picker_span);\n",
       "    this.format_dropdown = fmt_picker[0];\n",
       "\n",
       "    for (var ind in mpl.extensions) {\n",
       "        var fmt = mpl.extensions[ind];\n",
       "        var option = $(\n",
       "            '<option/>', {selected: fmt === mpl.default_extension}).html(fmt);\n",
       "        fmt_picker.append(option)\n",
       "    }\n",
       "\n",
       "    // Add hover states to the ui-buttons\n",
       "    $( \".ui-button\" ).hover(\n",
       "        function() { $(this).addClass(\"ui-state-hover\");},\n",
       "        function() { $(this).removeClass(\"ui-state-hover\");}\n",
       "    );\n",
       "\n",
       "    var status_bar = $('<span class=\"mpl-message\"/>');\n",
       "    nav_element.append(status_bar);\n",
       "    this.message = status_bar[0];\n",
       "}\n",
       "\n",
       "mpl.figure.prototype.request_resize = function(x_pixels, y_pixels) {\n",
       "    // Request matplotlib to resize the figure. Matplotlib will then trigger a resize in the client,\n",
       "    // which will in turn request a refresh of the image.\n",
       "    this.send_message('resize', {'width': x_pixels, 'height': y_pixels});\n",
       "}\n",
       "\n",
       "mpl.figure.prototype.send_message = function(type, properties) {\n",
       "    properties['type'] = type;\n",
       "    properties['figure_id'] = this.id;\n",
       "    this.ws.send(JSON.stringify(properties));\n",
       "}\n",
       "\n",
       "mpl.figure.prototype.send_draw_message = function() {\n",
       "    if (!this.waiting) {\n",
       "        this.waiting = true;\n",
       "        this.ws.send(JSON.stringify({type: \"draw\", figure_id: this.id}));\n",
       "    }\n",
       "}\n",
       "\n",
       "\n",
       "mpl.figure.prototype.handle_save = function(fig, msg) {\n",
       "    var format_dropdown = fig.format_dropdown;\n",
       "    var format = format_dropdown.options[format_dropdown.selectedIndex].value;\n",
       "    fig.ondownload(fig, format);\n",
       "}\n",
       "\n",
       "\n",
       "mpl.figure.prototype.handle_resize = function(fig, msg) {\n",
       "    var size = msg['size'];\n",
       "    if (size[0] != fig.canvas.width || size[1] != fig.canvas.height) {\n",
       "        fig._resize_canvas(size[0], size[1]);\n",
       "        fig.send_message(\"refresh\", {});\n",
       "    };\n",
       "}\n",
       "\n",
       "mpl.figure.prototype.handle_rubberband = function(fig, msg) {\n",
       "    var x0 = msg['x0'] / mpl.ratio;\n",
       "    var y0 = (fig.canvas.height - msg['y0']) / mpl.ratio;\n",
       "    var x1 = msg['x1'] / mpl.ratio;\n",
       "    var y1 = (fig.canvas.height - msg['y1']) / mpl.ratio;\n",
       "    x0 = Math.floor(x0) + 0.5;\n",
       "    y0 = Math.floor(y0) + 0.5;\n",
       "    x1 = Math.floor(x1) + 0.5;\n",
       "    y1 = Math.floor(y1) + 0.5;\n",
       "    var min_x = Math.min(x0, x1);\n",
       "    var min_y = Math.min(y0, y1);\n",
       "    var width = Math.abs(x1 - x0);\n",
       "    var height = Math.abs(y1 - y0);\n",
       "\n",
       "    fig.rubberband_context.clearRect(\n",
       "        0, 0, fig.canvas.width, fig.canvas.height);\n",
       "\n",
       "    fig.rubberband_context.strokeRect(min_x, min_y, width, height);\n",
       "}\n",
       "\n",
       "mpl.figure.prototype.handle_figure_label = function(fig, msg) {\n",
       "    // Updates the figure title.\n",
       "    fig.header.textContent = msg['label'];\n",
       "}\n",
       "\n",
       "mpl.figure.prototype.handle_cursor = function(fig, msg) {\n",
       "    var cursor = msg['cursor'];\n",
       "    switch(cursor)\n",
       "    {\n",
       "    case 0:\n",
       "        cursor = 'pointer';\n",
       "        break;\n",
       "    case 1:\n",
       "        cursor = 'default';\n",
       "        break;\n",
       "    case 2:\n",
       "        cursor = 'crosshair';\n",
       "        break;\n",
       "    case 3:\n",
       "        cursor = 'move';\n",
       "        break;\n",
       "    }\n",
       "    fig.rubberband_canvas.style.cursor = cursor;\n",
       "}\n",
       "\n",
       "mpl.figure.prototype.handle_message = function(fig, msg) {\n",
       "    fig.message.textContent = msg['message'];\n",
       "}\n",
       "\n",
       "mpl.figure.prototype.handle_draw = function(fig, msg) {\n",
       "    // Request the server to send over a new figure.\n",
       "    fig.send_draw_message();\n",
       "}\n",
       "\n",
       "mpl.figure.prototype.handle_image_mode = function(fig, msg) {\n",
       "    fig.image_mode = msg['mode'];\n",
       "}\n",
       "\n",
       "mpl.figure.prototype.updated_canvas_event = function() {\n",
       "    // Called whenever the canvas gets updated.\n",
       "    this.send_message(\"ack\", {});\n",
       "}\n",
       "\n",
       "// A function to construct a web socket function for onmessage handling.\n",
       "// Called in the figure constructor.\n",
       "mpl.figure.prototype._make_on_message_function = function(fig) {\n",
       "    return function socket_on_message(evt) {\n",
       "        if (evt.data instanceof Blob) {\n",
       "            /* FIXME: We get \"Resource interpreted as Image but\n",
       "             * transferred with MIME type text/plain:\" errors on\n",
       "             * Chrome.  But how to set the MIME type?  It doesn't seem\n",
       "             * to be part of the websocket stream */\n",
       "            evt.data.type = \"image/png\";\n",
       "\n",
       "            /* Free the memory for the previous frames */\n",
       "            if (fig.imageObj.src) {\n",
       "                (window.URL || window.webkitURL).revokeObjectURL(\n",
       "                    fig.imageObj.src);\n",
       "            }\n",
       "\n",
       "            fig.imageObj.src = (window.URL || window.webkitURL).createObjectURL(\n",
       "                evt.data);\n",
       "            fig.updated_canvas_event();\n",
       "            fig.waiting = false;\n",
       "            return;\n",
       "        }\n",
       "        else if (typeof evt.data === 'string' && evt.data.slice(0, 21) == \"data:image/png;base64\") {\n",
       "            fig.imageObj.src = evt.data;\n",
       "            fig.updated_canvas_event();\n",
       "            fig.waiting = false;\n",
       "            return;\n",
       "        }\n",
       "\n",
       "        var msg = JSON.parse(evt.data);\n",
       "        var msg_type = msg['type'];\n",
       "\n",
       "        // Call the  \"handle_{type}\" callback, which takes\n",
       "        // the figure and JSON message as its only arguments.\n",
       "        try {\n",
       "            var callback = fig[\"handle_\" + msg_type];\n",
       "        } catch (e) {\n",
       "            console.log(\"No handler for the '\" + msg_type + \"' message type: \", msg);\n",
       "            return;\n",
       "        }\n",
       "\n",
       "        if (callback) {\n",
       "            try {\n",
       "                // console.log(\"Handling '\" + msg_type + \"' message: \", msg);\n",
       "                callback(fig, msg);\n",
       "            } catch (e) {\n",
       "                console.log(\"Exception inside the 'handler_\" + msg_type + \"' callback:\", e, e.stack, msg);\n",
       "            }\n",
       "        }\n",
       "    };\n",
       "}\n",
       "\n",
       "// from http://stackoverflow.com/questions/1114465/getting-mouse-location-in-canvas\n",
       "mpl.findpos = function(e) {\n",
       "    //this section is from http://www.quirksmode.org/js/events_properties.html\n",
       "    var targ;\n",
       "    if (!e)\n",
       "        e = window.event;\n",
       "    if (e.target)\n",
       "        targ = e.target;\n",
       "    else if (e.srcElement)\n",
       "        targ = e.srcElement;\n",
       "    if (targ.nodeType == 3) // defeat Safari bug\n",
       "        targ = targ.parentNode;\n",
       "\n",
       "    // jQuery normalizes the pageX and pageY\n",
       "    // pageX,Y are the mouse positions relative to the document\n",
       "    // offset() returns the position of the element relative to the document\n",
       "    var x = e.pageX - $(targ).offset().left;\n",
       "    var y = e.pageY - $(targ).offset().top;\n",
       "\n",
       "    return {\"x\": x, \"y\": y};\n",
       "};\n",
       "\n",
       "/*\n",
       " * return a copy of an object with only non-object keys\n",
       " * we need this to avoid circular references\n",
       " * http://stackoverflow.com/a/24161582/3208463\n",
       " */\n",
       "function simpleKeys (original) {\n",
       "  return Object.keys(original).reduce(function (obj, key) {\n",
       "    if (typeof original[key] !== 'object')\n",
       "        obj[key] = original[key]\n",
       "    return obj;\n",
       "  }, {});\n",
       "}\n",
       "\n",
       "mpl.figure.prototype.mouse_event = function(event, name) {\n",
       "    var canvas_pos = mpl.findpos(event)\n",
       "\n",
       "    if (name === 'button_press')\n",
       "    {\n",
       "        this.canvas.focus();\n",
       "        this.canvas_div.focus();\n",
       "    }\n",
       "\n",
       "    var x = canvas_pos.x * mpl.ratio;\n",
       "    var y = canvas_pos.y * mpl.ratio;\n",
       "\n",
       "    this.send_message(name, {x: x, y: y, button: event.button,\n",
       "                             step: event.step,\n",
       "                             guiEvent: simpleKeys(event)});\n",
       "\n",
       "    /* This prevents the web browser from automatically changing to\n",
       "     * the text insertion cursor when the button is pressed.  We want\n",
       "     * to control all of the cursor setting manually through the\n",
       "     * 'cursor' event from matplotlib */\n",
       "    event.preventDefault();\n",
       "    return false;\n",
       "}\n",
       "\n",
       "mpl.figure.prototype._key_event_extra = function(event, name) {\n",
       "    // Handle any extra behaviour associated with a key event\n",
       "}\n",
       "\n",
       "mpl.figure.prototype.key_event = function(event, name) {\n",
       "\n",
       "    // Prevent repeat events\n",
       "    if (name == 'key_press')\n",
       "    {\n",
       "        if (event.which === this._key)\n",
       "            return;\n",
       "        else\n",
       "            this._key = event.which;\n",
       "    }\n",
       "    if (name == 'key_release')\n",
       "        this._key = null;\n",
       "\n",
       "    var value = '';\n",
       "    if (event.ctrlKey && event.which != 17)\n",
       "        value += \"ctrl+\";\n",
       "    if (event.altKey && event.which != 18)\n",
       "        value += \"alt+\";\n",
       "    if (event.shiftKey && event.which != 16)\n",
       "        value += \"shift+\";\n",
       "\n",
       "    value += 'k';\n",
       "    value += event.which.toString();\n",
       "\n",
       "    this._key_event_extra(event, name);\n",
       "\n",
       "    this.send_message(name, {key: value,\n",
       "                             guiEvent: simpleKeys(event)});\n",
       "    return false;\n",
       "}\n",
       "\n",
       "mpl.figure.prototype.toolbar_button_onclick = function(name) {\n",
       "    if (name == 'download') {\n",
       "        this.handle_save(this, null);\n",
       "    } else {\n",
       "        this.send_message(\"toolbar_button\", {name: name});\n",
       "    }\n",
       "};\n",
       "\n",
       "mpl.figure.prototype.toolbar_button_onmouseover = function(tooltip) {\n",
       "    this.message.textContent = tooltip;\n",
       "};\n",
       "mpl.toolbar_items = [[\"Home\", \"Reset original view\", \"fa fa-home icon-home\", \"home\"], [\"Back\", \"Back to previous view\", \"fa fa-arrow-left icon-arrow-left\", \"back\"], [\"Forward\", \"Forward to next view\", \"fa fa-arrow-right icon-arrow-right\", \"forward\"], [\"\", \"\", \"\", \"\"], [\"Pan\", \"Pan axes with left mouse, zoom with right\", \"fa fa-arrows icon-move\", \"pan\"], [\"Zoom\", \"Zoom to rectangle\", \"fa fa-square-o icon-check-empty\", \"zoom\"], [\"\", \"\", \"\", \"\"], [\"Download\", \"Download plot\", \"fa fa-floppy-o icon-save\", \"download\"]];\n",
       "\n",
       "mpl.extensions = [\"eps\", \"jpeg\", \"pdf\", \"png\", \"ps\", \"raw\", \"svg\", \"tif\"];\n",
       "\n",
       "mpl.default_extension = \"png\";var comm_websocket_adapter = function(comm) {\n",
       "    // Create a \"websocket\"-like object which calls the given IPython comm\n",
       "    // object with the appropriate methods. Currently this is a non binary\n",
       "    // socket, so there is still some room for performance tuning.\n",
       "    var ws = {};\n",
       "\n",
       "    ws.close = function() {\n",
       "        comm.close()\n",
       "    };\n",
       "    ws.send = function(m) {\n",
       "        //console.log('sending', m);\n",
       "        comm.send(m);\n",
       "    };\n",
       "    // Register the callback with on_msg.\n",
       "    comm.on_msg(function(msg) {\n",
       "        //console.log('receiving', msg['content']['data'], msg);\n",
       "        // Pass the mpl event to the overridden (by mpl) onmessage function.\n",
       "        ws.onmessage(msg['content']['data'])\n",
       "    });\n",
       "    return ws;\n",
       "}\n",
       "\n",
       "mpl.mpl_figure_comm = function(comm, msg) {\n",
       "    // This is the function which gets called when the mpl process\n",
       "    // starts-up an IPython Comm through the \"matplotlib\" channel.\n",
       "\n",
       "    var id = msg.content.data.id;\n",
       "    // Get hold of the div created by the display call when the Comm\n",
       "    // socket was opened in Python.\n",
       "    var element = $(\"#\" + id);\n",
       "    var ws_proxy = comm_websocket_adapter(comm)\n",
       "\n",
       "    function ondownload(figure, format) {\n",
       "        window.open(figure.imageObj.src);\n",
       "    }\n",
       "\n",
       "    var fig = new mpl.figure(id, ws_proxy,\n",
       "                           ondownload,\n",
       "                           element.get(0));\n",
       "\n",
       "    // Call onopen now - mpl needs it, as it is assuming we've passed it a real\n",
       "    // web socket which is closed, not our websocket->open comm proxy.\n",
       "    ws_proxy.onopen();\n",
       "\n",
       "    fig.parent_element = element.get(0);\n",
       "    fig.cell_info = mpl.find_output_cell(\"<div id='\" + id + \"'></div>\");\n",
       "    if (!fig.cell_info) {\n",
       "        console.error(\"Failed to find cell for figure\", id, fig);\n",
       "        return;\n",
       "    }\n",
       "\n",
       "    var output_index = fig.cell_info[2]\n",
       "    var cell = fig.cell_info[0];\n",
       "\n",
       "};\n",
       "\n",
       "mpl.figure.prototype.handle_close = function(fig, msg) {\n",
       "    var width = fig.canvas.width/mpl.ratio\n",
       "    fig.root.unbind('remove')\n",
       "\n",
       "    // Update the output cell to use the data from the current canvas.\n",
       "    fig.push_to_output();\n",
       "    var dataURL = fig.canvas.toDataURL();\n",
       "    // Re-enable the keyboard manager in IPython - without this line, in FF,\n",
       "    // the notebook keyboard shortcuts fail.\n",
       "    IPython.keyboard_manager.enable()\n",
       "    $(fig.parent_element).html('<img src=\"' + dataURL + '\" width=\"' + width + '\">');\n",
       "    fig.close_ws(fig, msg);\n",
       "}\n",
       "\n",
       "mpl.figure.prototype.close_ws = function(fig, msg){\n",
       "    fig.send_message('closing', msg);\n",
       "    // fig.ws.close()\n",
       "}\n",
       "\n",
       "mpl.figure.prototype.push_to_output = function(remove_interactive) {\n",
       "    // Turn the data on the canvas into data in the output cell.\n",
       "    var width = this.canvas.width/mpl.ratio\n",
       "    var dataURL = this.canvas.toDataURL();\n",
       "    this.cell_info[1]['text/html'] = '<img src=\"' + dataURL + '\" width=\"' + width + '\">';\n",
       "}\n",
       "\n",
       "mpl.figure.prototype.updated_canvas_event = function() {\n",
       "    // Tell IPython that the notebook contents must change.\n",
       "    IPython.notebook.set_dirty(true);\n",
       "    this.send_message(\"ack\", {});\n",
       "    var fig = this;\n",
       "    // Wait a second, then push the new image to the DOM so\n",
       "    // that it is saved nicely (might be nice to debounce this).\n",
       "    setTimeout(function () { fig.push_to_output() }, 1000);\n",
       "}\n",
       "\n",
       "mpl.figure.prototype._init_toolbar = function() {\n",
       "    var fig = this;\n",
       "\n",
       "    var nav_element = $('<div/>')\n",
       "    nav_element.attr('style', 'width: 100%');\n",
       "    this.root.append(nav_element);\n",
       "\n",
       "    // Define a callback function for later on.\n",
       "    function toolbar_event(event) {\n",
       "        return fig.toolbar_button_onclick(event['data']);\n",
       "    }\n",
       "    function toolbar_mouse_event(event) {\n",
       "        return fig.toolbar_button_onmouseover(event['data']);\n",
       "    }\n",
       "\n",
       "    for(var toolbar_ind in mpl.toolbar_items){\n",
       "        var name = mpl.toolbar_items[toolbar_ind][0];\n",
       "        var tooltip = mpl.toolbar_items[toolbar_ind][1];\n",
       "        var image = mpl.toolbar_items[toolbar_ind][2];\n",
       "        var method_name = mpl.toolbar_items[toolbar_ind][3];\n",
       "\n",
       "        if (!name) { continue; };\n",
       "\n",
       "        var button = $('<button class=\"btn btn-default\" href=\"#\" title=\"' + name + '\"><i class=\"fa ' + image + ' fa-lg\"></i></button>');\n",
       "        button.click(method_name, toolbar_event);\n",
       "        button.mouseover(tooltip, toolbar_mouse_event);\n",
       "        nav_element.append(button);\n",
       "    }\n",
       "\n",
       "    // Add the status bar.\n",
       "    var status_bar = $('<span class=\"mpl-message\" style=\"text-align:right; float: right;\"/>');\n",
       "    nav_element.append(status_bar);\n",
       "    this.message = status_bar[0];\n",
       "\n",
       "    // Add the close button to the window.\n",
       "    var buttongrp = $('<div class=\"btn-group inline pull-right\"></div>');\n",
       "    var button = $('<button class=\"btn btn-mini btn-primary\" href=\"#\" title=\"Stop Interaction\"><i class=\"fa fa-power-off icon-remove icon-large\"></i></button>');\n",
       "    button.click(function (evt) { fig.handle_close(fig, {}); } );\n",
       "    button.mouseover('Stop Interaction', toolbar_mouse_event);\n",
       "    buttongrp.append(button);\n",
       "    var titlebar = this.root.find($('.ui-dialog-titlebar'));\n",
       "    titlebar.prepend(buttongrp);\n",
       "}\n",
       "\n",
       "mpl.figure.prototype._root_extra_style = function(el){\n",
       "    var fig = this\n",
       "    el.on(\"remove\", function(){\n",
       "\tfig.close_ws(fig, {});\n",
       "    });\n",
       "}\n",
       "\n",
       "mpl.figure.prototype._canvas_extra_style = function(el){\n",
       "    // this is important to make the div 'focusable\n",
       "    el.attr('tabindex', 0)\n",
       "    // reach out to IPython and tell the keyboard manager to turn it's self\n",
       "    // off when our div gets focus\n",
       "\n",
       "    // location in version 3\n",
       "    if (IPython.notebook.keyboard_manager) {\n",
       "        IPython.notebook.keyboard_manager.register_events(el);\n",
       "    }\n",
       "    else {\n",
       "        // location in version 2\n",
       "        IPython.keyboard_manager.register_events(el);\n",
       "    }\n",
       "\n",
       "}\n",
       "\n",
       "mpl.figure.prototype._key_event_extra = function(event, name) {\n",
       "    var manager = IPython.notebook.keyboard_manager;\n",
       "    if (!manager)\n",
       "        manager = IPython.keyboard_manager;\n",
       "\n",
       "    // Check for shift+enter\n",
       "    if (event.shiftKey && event.which == 13) {\n",
       "        this.canvas_div.blur();\n",
       "        event.shiftKey = false;\n",
       "        // Send a \"J\" for go to next cell\n",
       "        event.which = 74;\n",
       "        event.keyCode = 74;\n",
       "        manager.command_mode();\n",
       "        manager.handle_keydown(event);\n",
       "    }\n",
       "}\n",
       "\n",
       "mpl.figure.prototype.handle_save = function(fig, msg) {\n",
       "    fig.ondownload(fig, null);\n",
       "}\n",
       "\n",
       "\n",
       "mpl.find_output_cell = function(html_output) {\n",
       "    // Return the cell and output element which can be found *uniquely* in the notebook.\n",
       "    // Note - this is a bit hacky, but it is done because the \"notebook_saving.Notebook\"\n",
       "    // IPython event is triggered only after the cells have been serialised, which for\n",
       "    // our purposes (turning an active figure into a static one), is too late.\n",
       "    var cells = IPython.notebook.get_cells();\n",
       "    var ncells = cells.length;\n",
       "    for (var i=0; i<ncells; i++) {\n",
       "        var cell = cells[i];\n",
       "        if (cell.cell_type === 'code'){\n",
       "            for (var j=0; j<cell.output_area.outputs.length; j++) {\n",
       "                var data = cell.output_area.outputs[j];\n",
       "                if (data.data) {\n",
       "                    // IPython >= 3 moved mimebundle to data attribute of output\n",
       "                    data = data.data;\n",
       "                }\n",
       "                if (data['text/html'] == html_output) {\n",
       "                    return [cell, data, j];\n",
       "                }\n",
       "            }\n",
       "        }\n",
       "    }\n",
       "}\n",
       "\n",
       "// Register the function which deals with the matplotlib target/channel.\n",
       "// The kernel may be null if the page has been refreshed.\n",
       "if (IPython.notebook.kernel != null) {\n",
       "    IPython.notebook.kernel.comm_manager.register_target('matplotlib', mpl.mpl_figure_comm);\n",
       "}\n"
      ],
      "text/plain": [
       "<IPython.core.display.Javascript object>"
      ]
     },
     "metadata": {},
     "output_type": "display_data"
    },
    {
     "data": {
      "text/html": [
       "<img src=\"data:image/png;base64,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\" width=\"640\">"
      ],
      "text/plain": [
       "<IPython.core.display.HTML object>"
      ]
     },
     "metadata": {},
     "output_type": "display_data"
    },
    {
     "data": {
      "text/plain": [
       "<matplotlib.axes._subplots.AxesSubplot at 0x161af671470>"
      ]
     },
     "execution_count": 94,
     "metadata": {},
     "output_type": "execute_result"
    }
   ],
   "source": [
    "close_px.rolling(60).mean().plot(logy=True)"
   ]
  },
  {
   "cell_type": "markdown",
   "metadata": {},
   "source": [
    "rolling函数也可以接受一个指定固定大小时间补偿字符串，而不是一组时期。这样可以方便处理不规律的时间序列。这些字符串也可以传递给resample。例如，我们可以计算20天的滚动均值，如下所示："
   ]
  },
  {
   "cell_type": "code",
   "execution_count": 96,
   "metadata": {},
   "outputs": [
    {
     "data": {
      "text/html": [
       "<div>\n",
       "<style scoped>\n",
       "    .dataframe tbody tr th:only-of-type {\n",
       "        vertical-align: middle;\n",
       "    }\n",
       "\n",
       "    .dataframe tbody tr th {\n",
       "        vertical-align: top;\n",
       "    }\n",
       "\n",
       "    .dataframe thead th {\n",
       "        text-align: right;\n",
       "    }\n",
       "</style>\n",
       "<table border=\"1\" class=\"dataframe\">\n",
       "  <thead>\n",
       "    <tr style=\"text-align: right;\">\n",
       "      <th></th>\n",
       "      <th>AAPL</th>\n",
       "      <th>MSFT</th>\n",
       "      <th>XOM</th>\n",
       "    </tr>\n",
       "  </thead>\n",
       "  <tbody>\n",
       "    <tr>\n",
       "      <th>2003-01-02</th>\n",
       "      <td>7.400000</td>\n",
       "      <td>21.110000</td>\n",
       "      <td>29.220000</td>\n",
       "    </tr>\n",
       "    <tr>\n",
       "      <th>2003-01-03</th>\n",
       "      <td>7.425000</td>\n",
       "      <td>21.125000</td>\n",
       "      <td>29.230000</td>\n",
       "    </tr>\n",
       "    <tr>\n",
       "      <th>2003-01-06</th>\n",
       "      <td>7.433333</td>\n",
       "      <td>21.256667</td>\n",
       "      <td>29.473333</td>\n",
       "    </tr>\n",
       "    <tr>\n",
       "      <th>2003-01-07</th>\n",
       "      <td>7.432500</td>\n",
       "      <td>21.425000</td>\n",
       "      <td>29.342500</td>\n",
       "    </tr>\n",
       "    <tr>\n",
       "      <th>2003-01-08</th>\n",
       "      <td>7.402000</td>\n",
       "      <td>21.402000</td>\n",
       "      <td>29.240000</td>\n",
       "    </tr>\n",
       "  </tbody>\n",
       "</table>\n",
       "</div>"
      ],
      "text/plain": [
       "                AAPL       MSFT        XOM\n",
       "2003-01-02  7.400000  21.110000  29.220000\n",
       "2003-01-03  7.425000  21.125000  29.230000\n",
       "2003-01-06  7.433333  21.256667  29.473333\n",
       "2003-01-07  7.432500  21.425000  29.342500\n",
       "2003-01-08  7.402000  21.402000  29.240000"
      ]
     },
     "execution_count": 96,
     "metadata": {},
     "output_type": "execute_result"
    }
   ],
   "source": [
    "close_px.rolling('20D').mean().head()"
   ]
  },
  {
   "cell_type": "markdown",
   "metadata": {},
   "source": [
    "### 11.7.1 指数加权函数"
   ]
  },
  {
   "cell_type": "code",
   "execution_count": null,
   "metadata": {},
   "outputs": [],
   "source": []
  },
  {
   "cell_type": "code",
   "execution_count": null,
   "metadata": {},
   "outputs": [],
   "source": []
  },
  {
   "cell_type": "code",
   "execution_count": null,
   "metadata": {},
   "outputs": [],
   "source": []
  },
  {
   "cell_type": "markdown",
   "metadata": {},
   "source": [
    "### 11.7.2 二元移动窗口函数"
   ]
  },
  {
   "cell_type": "code",
   "execution_count": null,
   "metadata": {},
   "outputs": [],
   "source": []
  },
  {
   "cell_type": "code",
   "execution_count": null,
   "metadata": {},
   "outputs": [],
   "source": []
  },
  {
   "cell_type": "code",
   "execution_count": null,
   "metadata": {},
   "outputs": [],
   "source": []
  },
  {
   "cell_type": "markdown",
   "metadata": {},
   "source": [
    "### 11.7.3 用户定义的移动窗口函数"
   ]
  },
  {
   "cell_type": "code",
   "execution_count": null,
   "metadata": {},
   "outputs": [],
   "source": []
  }
 ],
 "metadata": {
  "kernelspec": {
   "display_name": "Python 3",
   "language": "python",
   "name": "python3"
  },
  "language_info": {
   "codemirror_mode": {
    "name": "ipython",
    "version": 3
   },
   "file_extension": ".py",
   "mimetype": "text/x-python",
   "name": "python",
   "nbconvert_exporter": "python",
   "pygments_lexer": "ipython3",
   "version": "3.7.3"
  }
 },
 "nbformat": 4,
 "nbformat_minor": 2
}
