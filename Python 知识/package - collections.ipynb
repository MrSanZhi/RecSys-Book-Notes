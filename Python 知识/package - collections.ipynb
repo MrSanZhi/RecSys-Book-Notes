{
 "cells": [
  {
   "cell_type": "markdown",
   "metadata": {},
   "source": [
    "## [四种高性能数据类型，Python collections助你优化代码、简洁任务](https://mp.weixin.qq.com/s/17xwTlwJi1ckht3wGk5ttA)\n",
    "\n",
    "[官方文档 - collections](https://docs.python.org/3.7/library/collections.html#)\n",
    "                 "
   ]
  },
  {
   "cell_type": "markdown",
   "metadata": {},
   "source": [
    "### Counter\n",
    "\n",
    "Counter 是 dictionary 对象的子类。\n",
    "\n",
    "collections 模块中的 Counter() 函数会接收一个诸如 list 或 tuple 的迭代器，然后返回一个 Counter dictionary。\n",
    "\n",
    "这个 dictionary 的键是该迭代器中的唯一元素，值是迭代器元素的计数。"
   ]
  },
  {
   "cell_type": "code",
   "execution_count": 1,
   "metadata": {},
   "outputs": [],
   "source": [
    "from collections import Counter"
   ]
  },
  {
   "cell_type": "code",
   "execution_count": 2,
   "metadata": {},
   "outputs": [],
   "source": [
    "lst = [1, 2, 3, 3, 2, 1, 1, 1, 2, 2, 3, 1, 2, 1, 1]\n",
    "\n",
    "counter = Counter(lst)"
   ]
  },
  {
   "cell_type": "code",
   "execution_count": 4,
   "metadata": {},
   "outputs": [
    {
     "data": {
      "text/plain": [
       "Counter({1: 7, 2: 5, 3: 3})"
      ]
     },
     "execution_count": 4,
     "metadata": {},
     "output_type": "execute_result"
    }
   ],
   "source": [
    "# 如果我们使用简单的 print 函数（print(counter)）把这个 Counter 打印出来，\n",
    "# 则会得到一些与 dictionary 稍微类似的输出：\n",
    "\n",
    "counter"
   ]
  },
  {
   "cell_type": "code",
   "execution_count": 6,
   "metadata": {},
   "outputs": [
    {
     "name": "stdout",
     "output_type": "stream",
     "text": [
      "5\n"
     ]
    }
   ],
   "source": [
    "# 你可以用这些键值访问任何 Counter 项。\n",
    "# 这与从标准的 Python dictionary 中获取元素的方法完全相同。\n",
    "\n",
    "lst = [1, 2, 3, 3, 2, 1, 1, 1, 2, 2, 3, 1, 2, 1, 1]\n",
    "counter = Counter(lst)\n",
    "print(counter[2])"
   ]
  },
  {
   "cell_type": "markdown",
   "metadata": {},
   "source": [
    "**most_common() 函数**\n",
    "\n",
    "目前来说，Counter 对象中最有用的函数是 most_common()。\n",
    "\n",
    "当它应用于一个 Counter 对象时，会返回一个 list，这个 list 包含了前 N 个常见的元素及其计数，它们按照常见度降序排列。"
   ]
  },
  {
   "cell_type": "code",
   "execution_count": 9,
   "metadata": {},
   "outputs": [
    {
     "data": {
      "text/plain": [
       "[(1, 7), (2, 5), (3, 3)]"
      ]
     },
     "execution_count": 9,
     "metadata": {},
     "output_type": "execute_result"
    }
   ],
   "source": [
    "lst = [1, 2, 3, 3, 2, 1, 1, 1, 2, 2, 3, 1, 2, 1, 1]\n",
    "counter = Counter(lst)\n",
    "\n",
    "counter.most_common()"
   ]
  },
  {
   "cell_type": "markdown",
   "metadata": {},
   "source": [
    "### defaultdict\n",
    "\n",
    "defaultdict 的工作方式和平常的 python dictionary 完全相同，只是当你试图访问一个不存在的键时，它不会报错，而是会使用默认值初始化这个键。\n",
    "\n",
    "默认值是根据在创建 defaultdict 对象时作为参数输入的数据类型自动设置的。"
   ]
  },
  {
   "cell_type": "code",
   "execution_count": 1,
   "metadata": {},
   "outputs": [],
   "source": [
    "from collections import defaultdict"
   ]
  },
  {
   "cell_type": "code",
   "execution_count": 3,
   "metadata": {},
   "outputs": [
    {
     "name": "stdout",
     "output_type": "stream",
     "text": [
      "defaultdict(<class 'int'>, {'Bob': 1, 'Katie': 2, 'Sara': 0})\n"
     ]
    }
   ],
   "source": [
    "names_dict = defaultdict(int)\n",
    "names_dict['Bob'] = 1\n",
    "names_dict[\"Katie\"] = 2\n",
    "# 当访问一个尚未定义的键，即[Sara] 时\n",
    "# 自动为 [Sara] 初始化一个新键\n",
    "sara_number = names_dict[\"Sara\"]\n",
    "print(names_dict)"
   ]
  },
  {
   "cell_type": "markdown",
   "metadata": {},
   "source": [
    "用 list 来初始化 defaultdict, 也就是 names_dict = defaultdict(list)，那么「Sara」的值将被初始化成一个空列表 []"
   ]
  },
  {
   "cell_type": "code",
   "execution_count": 7,
   "metadata": {},
   "outputs": [
    {
     "name": "stdout",
     "output_type": "stream",
     "text": [
      "defaultdict(<class 'list'>, {'Bob': 1, 'Katie': 2, 'Sara': []})\n"
     ]
    }
   ],
   "source": [
    "names_dict = defaultdict(list)\n",
    "names_dict['Bob'] = 1\n",
    "names_dict[\"Katie\"] = 2\n",
    "# 当访问一个尚未定义的键，即[Sara] 时\n",
    "# 自动为 [Sara] 初始化一个新键\n",
    "sara_number = names_dict[\"Sara\"]\n",
    "print(names_dict)"
   ]
  },
  {
   "cell_type": "markdown",
   "metadata": {},
   "source": [
    "### deque\n",
    "\n",
    "双端队列\n",
    "\n",
    "collections 库中的 deque 对先进先出原则进行了优化。这个方法的一个关键特性是保持队列长度一直不变，也就是说，如果你将 queue 的最大大小设置为 10，那么 deque 将根据 FIFO 原则添加和删除元素，以保持 queue 的最大大小为 10。这是迄今为止 Python 中使用 queue 的最好方法了。"
   ]
  },
  {
   "cell_type": "code",
   "execution_count": 5,
   "metadata": {},
   "outputs": [],
   "source": [
    "from collections import deque"
   ]
  },
  {
   "cell_type": "code",
   "execution_count": 7,
   "metadata": {},
   "outputs": [
    {
     "name": "stdout",
     "output_type": "stream",
     "text": [
      "deque([1, 2, 3, 4, 5, 6, 7, 8, 9, 10], maxlen=10)\n"
     ]
    }
   ],
   "source": [
    "my_queue = deque(maxlen = 10)\n",
    "\n",
    "for i in range(10):\n",
    "    my_queue.append(i + 1)\n",
    "    \n",
    "print(my_queue)"
   ]
  },
  {
   "cell_type": "code",
   "execution_count": 8,
   "metadata": {},
   "outputs": [
    {
     "name": "stdout",
     "output_type": "stream",
     "text": [
      "deque([6, 7, 8, 9, 10, 11, 12, 13, 14, 15], maxlen=10)\n"
     ]
    }
   ],
   "source": [
    "for i in range(10, 15):\n",
    "    my_queue.append(i + 1)\n",
    "\n",
    "print(my_queue)"
   ]
  },
  {
   "cell_type": "markdown",
   "metadata": {},
   "source": [
    "### namedtuple\n",
    "\n",
    "当你使用 python 创建一个常规 tuple 时，其元素都是通用的，而且没有被命名。这使得你必须记住每个 tuple 元素的精确索引。namedtuple 就可以解决这个问题。\n",
    "\n",
    "namedtuple() 可以返回一个 tuple，该 tuple 中的每个位置都有固定名称，而且 namedtuple 对象也有通用名称。要使用 namedtuple，需要先为其创建一个模板。下面的代码创建了一个名为「Person」的 namedtuple 模板，其属性为「name」、「age」和「job」。"
   ]
  },
  {
   "cell_type": "code",
   "execution_count": 1,
   "metadata": {},
   "outputs": [],
   "source": [
    "from collections import namedtuple"
   ]
  },
  {
   "cell_type": "code",
   "execution_count": 2,
   "metadata": {},
   "outputs": [
    {
     "name": "stdout",
     "output_type": "stream",
     "text": [
      "Person(name='Mike', age=30, job='Data Scientist')\n",
      "Person(name='Kate', age=28, job='Project Manager')\n"
     ]
    }
   ],
   "source": [
    "Person = namedtuple(\"Person\", \"name age job\")\n",
    "\n",
    "Mike = Person(name=\"Mike\", age=30, job=\"Data Scientist\")\n",
    "Kate = Person(name=\"Kate\", age=28, job=\"Project Manager\")\n",
    "\n",
    "print(Mike)\n",
    "print(Kate)"
   ]
  },
  {
   "cell_type": "markdown",
   "metadata": {},
   "source": [
    "上述代码很容易理解，我们为 namedtuple 初始化了一个「Person」模板，并初始化了其所有的属性。\n",
    "\n",
    "因此，namedtuple 让 tuple 的使用更简单、更可读且更有组织性。"
   ]
  },
  {
   "cell_type": "code",
   "execution_count": 6,
   "metadata": {},
   "outputs": [],
   "source": [
    "# Person = namedtuple('Person', ['age', 'height', 'name'])\n",
    "# data2 = [Person(10, 1.4, 'xiaoming'), Person(12, 1.5, 'xiaohong')]\n",
    "# data2[0].age"
   ]
  },
  {
   "cell_type": "code",
   "execution_count": 8,
   "metadata": {},
   "outputs": [
    {
     "data": {
      "text/plain": [
       "[Person(age=10, height=1.4, name='xiaoming'),\n",
       " Person(age=12, height=1.5, name='xiaohong')]"
      ]
     },
     "execution_count": 8,
     "metadata": {},
     "output_type": "execute_result"
    }
   ],
   "source": [
    "Pers = namedtuple('Person', ['age', 'height', 'name'])\n",
    "data2 = [Pers(10, 1.4, 'xiaoming'), Pers(12, 1.5, 'xiaohong')]\n",
    "data2"
   ]
  },
  {
   "cell_type": "code",
   "execution_count": 10,
   "metadata": {},
   "outputs": [
    {
     "data": {
      "text/plain": [
       "10"
      ]
     },
     "execution_count": 10,
     "metadata": {},
     "output_type": "execute_result"
    }
   ],
   "source": [
    "data2[0].age"
   ]
  },
  {
   "cell_type": "code",
   "execution_count": null,
   "metadata": {},
   "outputs": [],
   "source": []
  }
 ],
 "metadata": {
  "kernelspec": {
   "display_name": "Python 3",
   "language": "python",
   "name": "python3"
  },
  "language_info": {
   "codemirror_mode": {
    "name": "ipython",
    "version": 3
   },
   "file_extension": ".py",
   "mimetype": "text/x-python",
   "name": "python",
   "nbconvert_exporter": "python",
   "pygments_lexer": "ipython3",
   "version": "3.7.6"
  }
 },
 "nbformat": 4,
 "nbformat_minor": 4
}
